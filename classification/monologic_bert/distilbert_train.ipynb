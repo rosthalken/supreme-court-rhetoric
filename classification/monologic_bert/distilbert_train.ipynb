{
  "nbformat": 4,
  "nbformat_minor": 0,
  "metadata": {
    "colab": {
      "name": "distilbert_train.ipynb",
      "provenance": [],
      "collapsed_sections": []
    },
    "kernelspec": {
      "display_name": "Python 3",
      "name": "python3"
    },
    "widgets": {
      "application/vnd.jupyter.widget-state+json": {
        "52c66771da38493383630801379e3825": {
          "model_module": "@jupyter-widgets/controls",
          "model_name": "HBoxModel",
          "state": {
            "_view_name": "HBoxView",
            "_dom_classes": [],
            "_model_name": "HBoxModel",
            "_view_module": "@jupyter-widgets/controls",
            "_model_module_version": "1.5.0",
            "_view_count": null,
            "_view_module_version": "1.5.0",
            "box_style": "",
            "layout": "IPY_MODEL_d5b5a3cab58143f7ac4d4334d8c6d5d0",
            "_model_module": "@jupyter-widgets/controls",
            "children": [
              "IPY_MODEL_f6acb1aa5f7545a6a2d34f62da7b1495",
              "IPY_MODEL_f5d3221d5a0c46bfbb89ead3f6950b7b"
            ]
          }
        },
        "d5b5a3cab58143f7ac4d4334d8c6d5d0": {
          "model_module": "@jupyter-widgets/base",
          "model_name": "LayoutModel",
          "state": {
            "_view_name": "LayoutView",
            "grid_template_rows": null,
            "right": null,
            "justify_content": null,
            "_view_module": "@jupyter-widgets/base",
            "overflow": null,
            "_model_module_version": "1.2.0",
            "_view_count": null,
            "flex_flow": null,
            "width": null,
            "min_width": null,
            "border": null,
            "align_items": null,
            "bottom": null,
            "_model_module": "@jupyter-widgets/base",
            "top": null,
            "grid_column": null,
            "overflow_y": null,
            "overflow_x": null,
            "grid_auto_flow": null,
            "grid_area": null,
            "grid_template_columns": null,
            "flex": null,
            "_model_name": "LayoutModel",
            "justify_items": null,
            "grid_row": null,
            "max_height": null,
            "align_content": null,
            "visibility": null,
            "align_self": null,
            "height": null,
            "min_height": null,
            "padding": null,
            "grid_auto_rows": null,
            "grid_gap": null,
            "max_width": null,
            "order": null,
            "_view_module_version": "1.2.0",
            "grid_template_areas": null,
            "object_position": null,
            "object_fit": null,
            "grid_auto_columns": null,
            "margin": null,
            "display": null,
            "left": null
          }
        },
        "f6acb1aa5f7545a6a2d34f62da7b1495": {
          "model_module": "@jupyter-widgets/controls",
          "model_name": "FloatProgressModel",
          "state": {
            "_view_name": "ProgressView",
            "style": "IPY_MODEL_f50535fb214446d2a68e4ebe5e748f4b",
            "_dom_classes": [],
            "description": "Downloading: 100%",
            "_model_name": "FloatProgressModel",
            "bar_style": "success",
            "max": 231508,
            "_view_module": "@jupyter-widgets/controls",
            "_model_module_version": "1.5.0",
            "value": 231508,
            "_view_count": null,
            "_view_module_version": "1.5.0",
            "orientation": "horizontal",
            "min": 0,
            "description_tooltip": null,
            "_model_module": "@jupyter-widgets/controls",
            "layout": "IPY_MODEL_188265026ebc4ba7b157073ae59d9812"
          }
        },
        "f5d3221d5a0c46bfbb89ead3f6950b7b": {
          "model_module": "@jupyter-widgets/controls",
          "model_name": "HTMLModel",
          "state": {
            "_view_name": "HTMLView",
            "style": "IPY_MODEL_4ba6102a4691411abdbc8f030fdc0d71",
            "_dom_classes": [],
            "description": "",
            "_model_name": "HTMLModel",
            "placeholder": "​",
            "_view_module": "@jupyter-widgets/controls",
            "_model_module_version": "1.5.0",
            "value": " 232k/232k [00:00&lt;00:00, 268kB/s]",
            "_view_count": null,
            "_view_module_version": "1.5.0",
            "description_tooltip": null,
            "_model_module": "@jupyter-widgets/controls",
            "layout": "IPY_MODEL_609621ee2dc64c15a8b07215008d2bd4"
          }
        },
        "f50535fb214446d2a68e4ebe5e748f4b": {
          "model_module": "@jupyter-widgets/controls",
          "model_name": "ProgressStyleModel",
          "state": {
            "_view_name": "StyleView",
            "_model_name": "ProgressStyleModel",
            "description_width": "initial",
            "_view_module": "@jupyter-widgets/base",
            "_model_module_version": "1.5.0",
            "_view_count": null,
            "_view_module_version": "1.2.0",
            "bar_color": null,
            "_model_module": "@jupyter-widgets/controls"
          }
        },
        "188265026ebc4ba7b157073ae59d9812": {
          "model_module": "@jupyter-widgets/base",
          "model_name": "LayoutModel",
          "state": {
            "_view_name": "LayoutView",
            "grid_template_rows": null,
            "right": null,
            "justify_content": null,
            "_view_module": "@jupyter-widgets/base",
            "overflow": null,
            "_model_module_version": "1.2.0",
            "_view_count": null,
            "flex_flow": null,
            "width": null,
            "min_width": null,
            "border": null,
            "align_items": null,
            "bottom": null,
            "_model_module": "@jupyter-widgets/base",
            "top": null,
            "grid_column": null,
            "overflow_y": null,
            "overflow_x": null,
            "grid_auto_flow": null,
            "grid_area": null,
            "grid_template_columns": null,
            "flex": null,
            "_model_name": "LayoutModel",
            "justify_items": null,
            "grid_row": null,
            "max_height": null,
            "align_content": null,
            "visibility": null,
            "align_self": null,
            "height": null,
            "min_height": null,
            "padding": null,
            "grid_auto_rows": null,
            "grid_gap": null,
            "max_width": null,
            "order": null,
            "_view_module_version": "1.2.0",
            "grid_template_areas": null,
            "object_position": null,
            "object_fit": null,
            "grid_auto_columns": null,
            "margin": null,
            "display": null,
            "left": null
          }
        },
        "4ba6102a4691411abdbc8f030fdc0d71": {
          "model_module": "@jupyter-widgets/controls",
          "model_name": "DescriptionStyleModel",
          "state": {
            "_view_name": "StyleView",
            "_model_name": "DescriptionStyleModel",
            "description_width": "",
            "_view_module": "@jupyter-widgets/base",
            "_model_module_version": "1.5.0",
            "_view_count": null,
            "_view_module_version": "1.2.0",
            "_model_module": "@jupyter-widgets/controls"
          }
        },
        "609621ee2dc64c15a8b07215008d2bd4": {
          "model_module": "@jupyter-widgets/base",
          "model_name": "LayoutModel",
          "state": {
            "_view_name": "LayoutView",
            "grid_template_rows": null,
            "right": null,
            "justify_content": null,
            "_view_module": "@jupyter-widgets/base",
            "overflow": null,
            "_model_module_version": "1.2.0",
            "_view_count": null,
            "flex_flow": null,
            "width": null,
            "min_width": null,
            "border": null,
            "align_items": null,
            "bottom": null,
            "_model_module": "@jupyter-widgets/base",
            "top": null,
            "grid_column": null,
            "overflow_y": null,
            "overflow_x": null,
            "grid_auto_flow": null,
            "grid_area": null,
            "grid_template_columns": null,
            "flex": null,
            "_model_name": "LayoutModel",
            "justify_items": null,
            "grid_row": null,
            "max_height": null,
            "align_content": null,
            "visibility": null,
            "align_self": null,
            "height": null,
            "min_height": null,
            "padding": null,
            "grid_auto_rows": null,
            "grid_gap": null,
            "max_width": null,
            "order": null,
            "_view_module_version": "1.2.0",
            "grid_template_areas": null,
            "object_position": null,
            "object_fit": null,
            "grid_auto_columns": null,
            "margin": null,
            "display": null,
            "left": null
          }
        },
        "6b133bd296794325a86ef2d840613032": {
          "model_module": "@jupyter-widgets/controls",
          "model_name": "HBoxModel",
          "state": {
            "_view_name": "HBoxView",
            "_dom_classes": [],
            "_model_name": "HBoxModel",
            "_view_module": "@jupyter-widgets/controls",
            "_model_module_version": "1.5.0",
            "_view_count": null,
            "_view_module_version": "1.5.0",
            "box_style": "",
            "layout": "IPY_MODEL_0d5651ac4c2244df93db657f6b5d946f",
            "_model_module": "@jupyter-widgets/controls",
            "children": [
              "IPY_MODEL_50cac0ba5a54482a92fe249d50721623",
              "IPY_MODEL_f46ebd5ac4eb4adc84e27cc33c31a164"
            ]
          }
        },
        "0d5651ac4c2244df93db657f6b5d946f": {
          "model_module": "@jupyter-widgets/base",
          "model_name": "LayoutModel",
          "state": {
            "_view_name": "LayoutView",
            "grid_template_rows": null,
            "right": null,
            "justify_content": null,
            "_view_module": "@jupyter-widgets/base",
            "overflow": null,
            "_model_module_version": "1.2.0",
            "_view_count": null,
            "flex_flow": null,
            "width": null,
            "min_width": null,
            "border": null,
            "align_items": null,
            "bottom": null,
            "_model_module": "@jupyter-widgets/base",
            "top": null,
            "grid_column": null,
            "overflow_y": null,
            "overflow_x": null,
            "grid_auto_flow": null,
            "grid_area": null,
            "grid_template_columns": null,
            "flex": null,
            "_model_name": "LayoutModel",
            "justify_items": null,
            "grid_row": null,
            "max_height": null,
            "align_content": null,
            "visibility": null,
            "align_self": null,
            "height": null,
            "min_height": null,
            "padding": null,
            "grid_auto_rows": null,
            "grid_gap": null,
            "max_width": null,
            "order": null,
            "_view_module_version": "1.2.0",
            "grid_template_areas": null,
            "object_position": null,
            "object_fit": null,
            "grid_auto_columns": null,
            "margin": null,
            "display": null,
            "left": null
          }
        },
        "50cac0ba5a54482a92fe249d50721623": {
          "model_module": "@jupyter-widgets/controls",
          "model_name": "FloatProgressModel",
          "state": {
            "_view_name": "ProgressView",
            "style": "IPY_MODEL_06f64d94611a444ea50a43271006770c",
            "_dom_classes": [],
            "description": "Downloading: 100%",
            "_model_name": "FloatProgressModel",
            "bar_style": "success",
            "max": 466062,
            "_view_module": "@jupyter-widgets/controls",
            "_model_module_version": "1.5.0",
            "value": 466062,
            "_view_count": null,
            "_view_module_version": "1.5.0",
            "orientation": "horizontal",
            "min": 0,
            "description_tooltip": null,
            "_model_module": "@jupyter-widgets/controls",
            "layout": "IPY_MODEL_f9657f74d06c4ff2acefcee416d75636"
          }
        },
        "f46ebd5ac4eb4adc84e27cc33c31a164": {
          "model_module": "@jupyter-widgets/controls",
          "model_name": "HTMLModel",
          "state": {
            "_view_name": "HTMLView",
            "style": "IPY_MODEL_a898829a458a4da69c90c9171de3029a",
            "_dom_classes": [],
            "description": "",
            "_model_name": "HTMLModel",
            "placeholder": "​",
            "_view_module": "@jupyter-widgets/controls",
            "_model_module_version": "1.5.0",
            "value": " 466k/466k [00:00&lt;00:00, 2.59MB/s]",
            "_view_count": null,
            "_view_module_version": "1.5.0",
            "description_tooltip": null,
            "_model_module": "@jupyter-widgets/controls",
            "layout": "IPY_MODEL_c92c233a6c2d49d3ab6fe3152f680c37"
          }
        },
        "06f64d94611a444ea50a43271006770c": {
          "model_module": "@jupyter-widgets/controls",
          "model_name": "ProgressStyleModel",
          "state": {
            "_view_name": "StyleView",
            "_model_name": "ProgressStyleModel",
            "description_width": "initial",
            "_view_module": "@jupyter-widgets/base",
            "_model_module_version": "1.5.0",
            "_view_count": null,
            "_view_module_version": "1.2.0",
            "bar_color": null,
            "_model_module": "@jupyter-widgets/controls"
          }
        },
        "f9657f74d06c4ff2acefcee416d75636": {
          "model_module": "@jupyter-widgets/base",
          "model_name": "LayoutModel",
          "state": {
            "_view_name": "LayoutView",
            "grid_template_rows": null,
            "right": null,
            "justify_content": null,
            "_view_module": "@jupyter-widgets/base",
            "overflow": null,
            "_model_module_version": "1.2.0",
            "_view_count": null,
            "flex_flow": null,
            "width": null,
            "min_width": null,
            "border": null,
            "align_items": null,
            "bottom": null,
            "_model_module": "@jupyter-widgets/base",
            "top": null,
            "grid_column": null,
            "overflow_y": null,
            "overflow_x": null,
            "grid_auto_flow": null,
            "grid_area": null,
            "grid_template_columns": null,
            "flex": null,
            "_model_name": "LayoutModel",
            "justify_items": null,
            "grid_row": null,
            "max_height": null,
            "align_content": null,
            "visibility": null,
            "align_self": null,
            "height": null,
            "min_height": null,
            "padding": null,
            "grid_auto_rows": null,
            "grid_gap": null,
            "max_width": null,
            "order": null,
            "_view_module_version": "1.2.0",
            "grid_template_areas": null,
            "object_position": null,
            "object_fit": null,
            "grid_auto_columns": null,
            "margin": null,
            "display": null,
            "left": null
          }
        },
        "a898829a458a4da69c90c9171de3029a": {
          "model_module": "@jupyter-widgets/controls",
          "model_name": "DescriptionStyleModel",
          "state": {
            "_view_name": "StyleView",
            "_model_name": "DescriptionStyleModel",
            "description_width": "",
            "_view_module": "@jupyter-widgets/base",
            "_model_module_version": "1.5.0",
            "_view_count": null,
            "_view_module_version": "1.2.0",
            "_model_module": "@jupyter-widgets/controls"
          }
        },
        "c92c233a6c2d49d3ab6fe3152f680c37": {
          "model_module": "@jupyter-widgets/base",
          "model_name": "LayoutModel",
          "state": {
            "_view_name": "LayoutView",
            "grid_template_rows": null,
            "right": null,
            "justify_content": null,
            "_view_module": "@jupyter-widgets/base",
            "overflow": null,
            "_model_module_version": "1.2.0",
            "_view_count": null,
            "flex_flow": null,
            "width": null,
            "min_width": null,
            "border": null,
            "align_items": null,
            "bottom": null,
            "_model_module": "@jupyter-widgets/base",
            "top": null,
            "grid_column": null,
            "overflow_y": null,
            "overflow_x": null,
            "grid_auto_flow": null,
            "grid_area": null,
            "grid_template_columns": null,
            "flex": null,
            "_model_name": "LayoutModel",
            "justify_items": null,
            "grid_row": null,
            "max_height": null,
            "align_content": null,
            "visibility": null,
            "align_self": null,
            "height": null,
            "min_height": null,
            "padding": null,
            "grid_auto_rows": null,
            "grid_gap": null,
            "max_width": null,
            "order": null,
            "_view_module_version": "1.2.0",
            "grid_template_areas": null,
            "object_position": null,
            "object_fit": null,
            "grid_auto_columns": null,
            "margin": null,
            "display": null,
            "left": null
          }
        },
        "606c83d8c9de48dab0cf131af1bb3a62": {
          "model_module": "@jupyter-widgets/controls",
          "model_name": "HBoxModel",
          "state": {
            "_view_name": "HBoxView",
            "_dom_classes": [],
            "_model_name": "HBoxModel",
            "_view_module": "@jupyter-widgets/controls",
            "_model_module_version": "1.5.0",
            "_view_count": null,
            "_view_module_version": "1.5.0",
            "box_style": "",
            "layout": "IPY_MODEL_0692eef197f94d988395b749d6f61ad7",
            "_model_module": "@jupyter-widgets/controls",
            "children": [
              "IPY_MODEL_c5864cdf45d14e628c8b5b6a4a973271",
              "IPY_MODEL_b4eb6a52e8c24f3f896450545fa65a91"
            ]
          }
        },
        "0692eef197f94d988395b749d6f61ad7": {
          "model_module": "@jupyter-widgets/base",
          "model_name": "LayoutModel",
          "state": {
            "_view_name": "LayoutView",
            "grid_template_rows": null,
            "right": null,
            "justify_content": null,
            "_view_module": "@jupyter-widgets/base",
            "overflow": null,
            "_model_module_version": "1.2.0",
            "_view_count": null,
            "flex_flow": null,
            "width": null,
            "min_width": null,
            "border": null,
            "align_items": null,
            "bottom": null,
            "_model_module": "@jupyter-widgets/base",
            "top": null,
            "grid_column": null,
            "overflow_y": null,
            "overflow_x": null,
            "grid_auto_flow": null,
            "grid_area": null,
            "grid_template_columns": null,
            "flex": null,
            "_model_name": "LayoutModel",
            "justify_items": null,
            "grid_row": null,
            "max_height": null,
            "align_content": null,
            "visibility": null,
            "align_self": null,
            "height": null,
            "min_height": null,
            "padding": null,
            "grid_auto_rows": null,
            "grid_gap": null,
            "max_width": null,
            "order": null,
            "_view_module_version": "1.2.0",
            "grid_template_areas": null,
            "object_position": null,
            "object_fit": null,
            "grid_auto_columns": null,
            "margin": null,
            "display": null,
            "left": null
          }
        },
        "c5864cdf45d14e628c8b5b6a4a973271": {
          "model_module": "@jupyter-widgets/controls",
          "model_name": "FloatProgressModel",
          "state": {
            "_view_name": "ProgressView",
            "style": "IPY_MODEL_adfe3cf6c62c462dae6049eac7166bd4",
            "_dom_classes": [],
            "description": "Downloading: 100%",
            "_model_name": "FloatProgressModel",
            "bar_style": "success",
            "max": 28,
            "_view_module": "@jupyter-widgets/controls",
            "_model_module_version": "1.5.0",
            "value": 28,
            "_view_count": null,
            "_view_module_version": "1.5.0",
            "orientation": "horizontal",
            "min": 0,
            "description_tooltip": null,
            "_model_module": "@jupyter-widgets/controls",
            "layout": "IPY_MODEL_7ff2cc780485463ea892a39e97d930c7"
          }
        },
        "b4eb6a52e8c24f3f896450545fa65a91": {
          "model_module": "@jupyter-widgets/controls",
          "model_name": "HTMLModel",
          "state": {
            "_view_name": "HTMLView",
            "style": "IPY_MODEL_ce78210ecdef434397b0301227399698",
            "_dom_classes": [],
            "description": "",
            "_model_name": "HTMLModel",
            "placeholder": "​",
            "_view_module": "@jupyter-widgets/controls",
            "_model_module_version": "1.5.0",
            "value": " 28.0/28.0 [00:00&lt;00:00, 55.7B/s]",
            "_view_count": null,
            "_view_module_version": "1.5.0",
            "description_tooltip": null,
            "_model_module": "@jupyter-widgets/controls",
            "layout": "IPY_MODEL_e472d0a44165433baa5ce83dbec8d548"
          }
        },
        "adfe3cf6c62c462dae6049eac7166bd4": {
          "model_module": "@jupyter-widgets/controls",
          "model_name": "ProgressStyleModel",
          "state": {
            "_view_name": "StyleView",
            "_model_name": "ProgressStyleModel",
            "description_width": "initial",
            "_view_module": "@jupyter-widgets/base",
            "_model_module_version": "1.5.0",
            "_view_count": null,
            "_view_module_version": "1.2.0",
            "bar_color": null,
            "_model_module": "@jupyter-widgets/controls"
          }
        },
        "7ff2cc780485463ea892a39e97d930c7": {
          "model_module": "@jupyter-widgets/base",
          "model_name": "LayoutModel",
          "state": {
            "_view_name": "LayoutView",
            "grid_template_rows": null,
            "right": null,
            "justify_content": null,
            "_view_module": "@jupyter-widgets/base",
            "overflow": null,
            "_model_module_version": "1.2.0",
            "_view_count": null,
            "flex_flow": null,
            "width": null,
            "min_width": null,
            "border": null,
            "align_items": null,
            "bottom": null,
            "_model_module": "@jupyter-widgets/base",
            "top": null,
            "grid_column": null,
            "overflow_y": null,
            "overflow_x": null,
            "grid_auto_flow": null,
            "grid_area": null,
            "grid_template_columns": null,
            "flex": null,
            "_model_name": "LayoutModel",
            "justify_items": null,
            "grid_row": null,
            "max_height": null,
            "align_content": null,
            "visibility": null,
            "align_self": null,
            "height": null,
            "min_height": null,
            "padding": null,
            "grid_auto_rows": null,
            "grid_gap": null,
            "max_width": null,
            "order": null,
            "_view_module_version": "1.2.0",
            "grid_template_areas": null,
            "object_position": null,
            "object_fit": null,
            "grid_auto_columns": null,
            "margin": null,
            "display": null,
            "left": null
          }
        },
        "ce78210ecdef434397b0301227399698": {
          "model_module": "@jupyter-widgets/controls",
          "model_name": "DescriptionStyleModel",
          "state": {
            "_view_name": "StyleView",
            "_model_name": "DescriptionStyleModel",
            "description_width": "",
            "_view_module": "@jupyter-widgets/base",
            "_model_module_version": "1.5.0",
            "_view_count": null,
            "_view_module_version": "1.2.0",
            "_model_module": "@jupyter-widgets/controls"
          }
        },
        "e472d0a44165433baa5ce83dbec8d548": {
          "model_module": "@jupyter-widgets/base",
          "model_name": "LayoutModel",
          "state": {
            "_view_name": "LayoutView",
            "grid_template_rows": null,
            "right": null,
            "justify_content": null,
            "_view_module": "@jupyter-widgets/base",
            "overflow": null,
            "_model_module_version": "1.2.0",
            "_view_count": null,
            "flex_flow": null,
            "width": null,
            "min_width": null,
            "border": null,
            "align_items": null,
            "bottom": null,
            "_model_module": "@jupyter-widgets/base",
            "top": null,
            "grid_column": null,
            "overflow_y": null,
            "overflow_x": null,
            "grid_auto_flow": null,
            "grid_area": null,
            "grid_template_columns": null,
            "flex": null,
            "_model_name": "LayoutModel",
            "justify_items": null,
            "grid_row": null,
            "max_height": null,
            "align_content": null,
            "visibility": null,
            "align_self": null,
            "height": null,
            "min_height": null,
            "padding": null,
            "grid_auto_rows": null,
            "grid_gap": null,
            "max_width": null,
            "order": null,
            "_view_module_version": "1.2.0",
            "grid_template_areas": null,
            "object_position": null,
            "object_fit": null,
            "grid_auto_columns": null,
            "margin": null,
            "display": null,
            "left": null
          }
        },
        "3d164273efa14fb8828a9018859bd085": {
          "model_module": "@jupyter-widgets/controls",
          "model_name": "HBoxModel",
          "state": {
            "_view_name": "HBoxView",
            "_dom_classes": [],
            "_model_name": "HBoxModel",
            "_view_module": "@jupyter-widgets/controls",
            "_model_module_version": "1.5.0",
            "_view_count": null,
            "_view_module_version": "1.5.0",
            "box_style": "",
            "layout": "IPY_MODEL_160f2fd4d10d4a3c95d5a41524ec9916",
            "_model_module": "@jupyter-widgets/controls",
            "children": [
              "IPY_MODEL_fc1b8f048f3c4b40b26b997787439fee",
              "IPY_MODEL_b5475d23f0be4272a65e1199f89f7054"
            ]
          }
        },
        "160f2fd4d10d4a3c95d5a41524ec9916": {
          "model_module": "@jupyter-widgets/base",
          "model_name": "LayoutModel",
          "state": {
            "_view_name": "LayoutView",
            "grid_template_rows": null,
            "right": null,
            "justify_content": null,
            "_view_module": "@jupyter-widgets/base",
            "overflow": null,
            "_model_module_version": "1.2.0",
            "_view_count": null,
            "flex_flow": null,
            "width": null,
            "min_width": null,
            "border": null,
            "align_items": null,
            "bottom": null,
            "_model_module": "@jupyter-widgets/base",
            "top": null,
            "grid_column": null,
            "overflow_y": null,
            "overflow_x": null,
            "grid_auto_flow": null,
            "grid_area": null,
            "grid_template_columns": null,
            "flex": null,
            "_model_name": "LayoutModel",
            "justify_items": null,
            "grid_row": null,
            "max_height": null,
            "align_content": null,
            "visibility": null,
            "align_self": null,
            "height": null,
            "min_height": null,
            "padding": null,
            "grid_auto_rows": null,
            "grid_gap": null,
            "max_width": null,
            "order": null,
            "_view_module_version": "1.2.0",
            "grid_template_areas": null,
            "object_position": null,
            "object_fit": null,
            "grid_auto_columns": null,
            "margin": null,
            "display": null,
            "left": null
          }
        },
        "fc1b8f048f3c4b40b26b997787439fee": {
          "model_module": "@jupyter-widgets/controls",
          "model_name": "FloatProgressModel",
          "state": {
            "_view_name": "ProgressView",
            "style": "IPY_MODEL_a87cc735ed95468aa7598d9516d88e37",
            "_dom_classes": [],
            "description": "Downloading: 100%",
            "_model_name": "FloatProgressModel",
            "bar_style": "success",
            "max": 442,
            "_view_module": "@jupyter-widgets/controls",
            "_model_module_version": "1.5.0",
            "value": 442,
            "_view_count": null,
            "_view_module_version": "1.5.0",
            "orientation": "horizontal",
            "min": 0,
            "description_tooltip": null,
            "_model_module": "@jupyter-widgets/controls",
            "layout": "IPY_MODEL_564a8afac076458b94df85f0afcc4120"
          }
        },
        "b5475d23f0be4272a65e1199f89f7054": {
          "model_module": "@jupyter-widgets/controls",
          "model_name": "HTMLModel",
          "state": {
            "_view_name": "HTMLView",
            "style": "IPY_MODEL_f0206882149e42ef84b48134acb3207b",
            "_dom_classes": [],
            "description": "",
            "_model_name": "HTMLModel",
            "placeholder": "​",
            "_view_module": "@jupyter-widgets/controls",
            "_model_module_version": "1.5.0",
            "value": " 442/442 [00:05&lt;00:00, 74.2B/s]",
            "_view_count": null,
            "_view_module_version": "1.5.0",
            "description_tooltip": null,
            "_model_module": "@jupyter-widgets/controls",
            "layout": "IPY_MODEL_2321dbb24e2c471781926969d4772985"
          }
        },
        "a87cc735ed95468aa7598d9516d88e37": {
          "model_module": "@jupyter-widgets/controls",
          "model_name": "ProgressStyleModel",
          "state": {
            "_view_name": "StyleView",
            "_model_name": "ProgressStyleModel",
            "description_width": "initial",
            "_view_module": "@jupyter-widgets/base",
            "_model_module_version": "1.5.0",
            "_view_count": null,
            "_view_module_version": "1.2.0",
            "bar_color": null,
            "_model_module": "@jupyter-widgets/controls"
          }
        },
        "564a8afac076458b94df85f0afcc4120": {
          "model_module": "@jupyter-widgets/base",
          "model_name": "LayoutModel",
          "state": {
            "_view_name": "LayoutView",
            "grid_template_rows": null,
            "right": null,
            "justify_content": null,
            "_view_module": "@jupyter-widgets/base",
            "overflow": null,
            "_model_module_version": "1.2.0",
            "_view_count": null,
            "flex_flow": null,
            "width": null,
            "min_width": null,
            "border": null,
            "align_items": null,
            "bottom": null,
            "_model_module": "@jupyter-widgets/base",
            "top": null,
            "grid_column": null,
            "overflow_y": null,
            "overflow_x": null,
            "grid_auto_flow": null,
            "grid_area": null,
            "grid_template_columns": null,
            "flex": null,
            "_model_name": "LayoutModel",
            "justify_items": null,
            "grid_row": null,
            "max_height": null,
            "align_content": null,
            "visibility": null,
            "align_self": null,
            "height": null,
            "min_height": null,
            "padding": null,
            "grid_auto_rows": null,
            "grid_gap": null,
            "max_width": null,
            "order": null,
            "_view_module_version": "1.2.0",
            "grid_template_areas": null,
            "object_position": null,
            "object_fit": null,
            "grid_auto_columns": null,
            "margin": null,
            "display": null,
            "left": null
          }
        },
        "f0206882149e42ef84b48134acb3207b": {
          "model_module": "@jupyter-widgets/controls",
          "model_name": "DescriptionStyleModel",
          "state": {
            "_view_name": "StyleView",
            "_model_name": "DescriptionStyleModel",
            "description_width": "",
            "_view_module": "@jupyter-widgets/base",
            "_model_module_version": "1.5.0",
            "_view_count": null,
            "_view_module_version": "1.2.0",
            "_model_module": "@jupyter-widgets/controls"
          }
        },
        "2321dbb24e2c471781926969d4772985": {
          "model_module": "@jupyter-widgets/base",
          "model_name": "LayoutModel",
          "state": {
            "_view_name": "LayoutView",
            "grid_template_rows": null,
            "right": null,
            "justify_content": null,
            "_view_module": "@jupyter-widgets/base",
            "overflow": null,
            "_model_module_version": "1.2.0",
            "_view_count": null,
            "flex_flow": null,
            "width": null,
            "min_width": null,
            "border": null,
            "align_items": null,
            "bottom": null,
            "_model_module": "@jupyter-widgets/base",
            "top": null,
            "grid_column": null,
            "overflow_y": null,
            "overflow_x": null,
            "grid_auto_flow": null,
            "grid_area": null,
            "grid_template_columns": null,
            "flex": null,
            "_model_name": "LayoutModel",
            "justify_items": null,
            "grid_row": null,
            "max_height": null,
            "align_content": null,
            "visibility": null,
            "align_self": null,
            "height": null,
            "min_height": null,
            "padding": null,
            "grid_auto_rows": null,
            "grid_gap": null,
            "max_width": null,
            "order": null,
            "_view_module_version": "1.2.0",
            "grid_template_areas": null,
            "object_position": null,
            "object_fit": null,
            "grid_auto_columns": null,
            "margin": null,
            "display": null,
            "left": null
          }
        },
        "514ac193ff9c482d8a0e23a12bf99838": {
          "model_module": "@jupyter-widgets/controls",
          "model_name": "HBoxModel",
          "state": {
            "_view_name": "HBoxView",
            "_dom_classes": [],
            "_model_name": "HBoxModel",
            "_view_module": "@jupyter-widgets/controls",
            "_model_module_version": "1.5.0",
            "_view_count": null,
            "_view_module_version": "1.5.0",
            "box_style": "",
            "layout": "IPY_MODEL_48dd7796bd8e4458a8334e88d91c50b9",
            "_model_module": "@jupyter-widgets/controls",
            "children": [
              "IPY_MODEL_fee93012ae734496a4e45f3e8c18ecc7",
              "IPY_MODEL_5076a34aa5034b58b59a8a168d73a110"
            ]
          }
        },
        "48dd7796bd8e4458a8334e88d91c50b9": {
          "model_module": "@jupyter-widgets/base",
          "model_name": "LayoutModel",
          "state": {
            "_view_name": "LayoutView",
            "grid_template_rows": null,
            "right": null,
            "justify_content": null,
            "_view_module": "@jupyter-widgets/base",
            "overflow": null,
            "_model_module_version": "1.2.0",
            "_view_count": null,
            "flex_flow": null,
            "width": null,
            "min_width": null,
            "border": null,
            "align_items": null,
            "bottom": null,
            "_model_module": "@jupyter-widgets/base",
            "top": null,
            "grid_column": null,
            "overflow_y": null,
            "overflow_x": null,
            "grid_auto_flow": null,
            "grid_area": null,
            "grid_template_columns": null,
            "flex": null,
            "_model_name": "LayoutModel",
            "justify_items": null,
            "grid_row": null,
            "max_height": null,
            "align_content": null,
            "visibility": null,
            "align_self": null,
            "height": null,
            "min_height": null,
            "padding": null,
            "grid_auto_rows": null,
            "grid_gap": null,
            "max_width": null,
            "order": null,
            "_view_module_version": "1.2.0",
            "grid_template_areas": null,
            "object_position": null,
            "object_fit": null,
            "grid_auto_columns": null,
            "margin": null,
            "display": null,
            "left": null
          }
        },
        "fee93012ae734496a4e45f3e8c18ecc7": {
          "model_module": "@jupyter-widgets/controls",
          "model_name": "FloatProgressModel",
          "state": {
            "_view_name": "ProgressView",
            "style": "IPY_MODEL_82c11025021e4c9b9b7f3e547faf4bca",
            "_dom_classes": [],
            "description": "Downloading: 100%",
            "_model_name": "FloatProgressModel",
            "bar_style": "success",
            "max": 267967963,
            "_view_module": "@jupyter-widgets/controls",
            "_model_module_version": "1.5.0",
            "value": 267967963,
            "_view_count": null,
            "_view_module_version": "1.5.0",
            "orientation": "horizontal",
            "min": 0,
            "description_tooltip": null,
            "_model_module": "@jupyter-widgets/controls",
            "layout": "IPY_MODEL_2709b7f58ccc40e5886bbe3e3c81d97d"
          }
        },
        "5076a34aa5034b58b59a8a168d73a110": {
          "model_module": "@jupyter-widgets/controls",
          "model_name": "HTMLModel",
          "state": {
            "_view_name": "HTMLView",
            "style": "IPY_MODEL_5ebc90297de341c18cd54f7f1cba1de1",
            "_dom_classes": [],
            "description": "",
            "_model_name": "HTMLModel",
            "placeholder": "​",
            "_view_module": "@jupyter-widgets/controls",
            "_model_module_version": "1.5.0",
            "value": " 268M/268M [00:05&lt;00:00, 47.2MB/s]",
            "_view_count": null,
            "_view_module_version": "1.5.0",
            "description_tooltip": null,
            "_model_module": "@jupyter-widgets/controls",
            "layout": "IPY_MODEL_f2356d7940a44220927378d9147efc3e"
          }
        },
        "82c11025021e4c9b9b7f3e547faf4bca": {
          "model_module": "@jupyter-widgets/controls",
          "model_name": "ProgressStyleModel",
          "state": {
            "_view_name": "StyleView",
            "_model_name": "ProgressStyleModel",
            "description_width": "initial",
            "_view_module": "@jupyter-widgets/base",
            "_model_module_version": "1.5.0",
            "_view_count": null,
            "_view_module_version": "1.2.0",
            "bar_color": null,
            "_model_module": "@jupyter-widgets/controls"
          }
        },
        "2709b7f58ccc40e5886bbe3e3c81d97d": {
          "model_module": "@jupyter-widgets/base",
          "model_name": "LayoutModel",
          "state": {
            "_view_name": "LayoutView",
            "grid_template_rows": null,
            "right": null,
            "justify_content": null,
            "_view_module": "@jupyter-widgets/base",
            "overflow": null,
            "_model_module_version": "1.2.0",
            "_view_count": null,
            "flex_flow": null,
            "width": null,
            "min_width": null,
            "border": null,
            "align_items": null,
            "bottom": null,
            "_model_module": "@jupyter-widgets/base",
            "top": null,
            "grid_column": null,
            "overflow_y": null,
            "overflow_x": null,
            "grid_auto_flow": null,
            "grid_area": null,
            "grid_template_columns": null,
            "flex": null,
            "_model_name": "LayoutModel",
            "justify_items": null,
            "grid_row": null,
            "max_height": null,
            "align_content": null,
            "visibility": null,
            "align_self": null,
            "height": null,
            "min_height": null,
            "padding": null,
            "grid_auto_rows": null,
            "grid_gap": null,
            "max_width": null,
            "order": null,
            "_view_module_version": "1.2.0",
            "grid_template_areas": null,
            "object_position": null,
            "object_fit": null,
            "grid_auto_columns": null,
            "margin": null,
            "display": null,
            "left": null
          }
        },
        "5ebc90297de341c18cd54f7f1cba1de1": {
          "model_module": "@jupyter-widgets/controls",
          "model_name": "DescriptionStyleModel",
          "state": {
            "_view_name": "StyleView",
            "_model_name": "DescriptionStyleModel",
            "description_width": "",
            "_view_module": "@jupyter-widgets/base",
            "_model_module_version": "1.5.0",
            "_view_count": null,
            "_view_module_version": "1.2.0",
            "_model_module": "@jupyter-widgets/controls"
          }
        },
        "f2356d7940a44220927378d9147efc3e": {
          "model_module": "@jupyter-widgets/base",
          "model_name": "LayoutModel",
          "state": {
            "_view_name": "LayoutView",
            "grid_template_rows": null,
            "right": null,
            "justify_content": null,
            "_view_module": "@jupyter-widgets/base",
            "overflow": null,
            "_model_module_version": "1.2.0",
            "_view_count": null,
            "flex_flow": null,
            "width": null,
            "min_width": null,
            "border": null,
            "align_items": null,
            "bottom": null,
            "_model_module": "@jupyter-widgets/base",
            "top": null,
            "grid_column": null,
            "overflow_y": null,
            "overflow_x": null,
            "grid_auto_flow": null,
            "grid_area": null,
            "grid_template_columns": null,
            "flex": null,
            "_model_name": "LayoutModel",
            "justify_items": null,
            "grid_row": null,
            "max_height": null,
            "align_content": null,
            "visibility": null,
            "align_self": null,
            "height": null,
            "min_height": null,
            "padding": null,
            "grid_auto_rows": null,
            "grid_gap": null,
            "max_width": null,
            "order": null,
            "_view_module_version": "1.2.0",
            "grid_template_areas": null,
            "object_position": null,
            "object_fit": null,
            "grid_auto_columns": null,
            "margin": null,
            "display": null,
            "left": null
          }
        }
      }
    }
  },
  "cells": [
    {
      "cell_type": "markdown",
      "metadata": {
        "id": "kP9fkwgQwrJ-"
      },
      "source": [
        "## DistilBERT Sentence Classification\n"
      ]
    },
    {
      "cell_type": "code",
      "metadata": {
        "colab": {
          "base_uri": "https://localhost:8080/"
        },
        "id": "bgOgOC9Ecpx3",
        "outputId": "554e522c-124e-4086-8f34-e64be373bbd3"
      },
      "source": [
        "pip install transformers"
      ],
      "execution_count": 1,
      "outputs": [
        {
          "output_type": "stream",
          "text": [
            "Collecting transformers\n",
            "  Downloading transformers-4.8.2-py3-none-any.whl (2.5 MB)\n",
            "\u001b[K     |████████████████████████████████| 2.5 MB 3.9 MB/s \n",
            "\u001b[?25hRequirement already satisfied: tqdm>=4.27 in /usr/local/lib/python3.7/dist-packages (from transformers) (4.41.1)\n",
            "Requirement already satisfied: packaging in /usr/local/lib/python3.7/dist-packages (from transformers) (21.0)\n",
            "Requirement already satisfied: numpy>=1.17 in /usr/local/lib/python3.7/dist-packages (from transformers) (1.19.5)\n",
            "Collecting tokenizers<0.11,>=0.10.1\n",
            "  Downloading tokenizers-0.10.3-cp37-cp37m-manylinux_2_5_x86_64.manylinux1_x86_64.manylinux_2_12_x86_64.manylinux2010_x86_64.whl (3.3 MB)\n",
            "\u001b[K     |████████████████████████████████| 3.3 MB 17.6 MB/s \n",
            "\u001b[?25hRequirement already satisfied: importlib-metadata in /usr/local/lib/python3.7/dist-packages (from transformers) (4.6.1)\n",
            "Requirement already satisfied: pyyaml in /usr/local/lib/python3.7/dist-packages (from transformers) (3.13)\n",
            "Collecting huggingface-hub==0.0.12\n",
            "  Downloading huggingface_hub-0.0.12-py3-none-any.whl (37 kB)\n",
            "Requirement already satisfied: regex!=2019.12.17 in /usr/local/lib/python3.7/dist-packages (from transformers) (2019.12.20)\n",
            "Requirement already satisfied: requests in /usr/local/lib/python3.7/dist-packages (from transformers) (2.23.0)\n",
            "Requirement already satisfied: filelock in /usr/local/lib/python3.7/dist-packages (from transformers) (3.0.12)\n",
            "Collecting sacremoses\n",
            "  Downloading sacremoses-0.0.45-py3-none-any.whl (895 kB)\n",
            "\u001b[K     |████████████████████████████████| 895 kB 41.5 MB/s \n",
            "\u001b[?25hRequirement already satisfied: typing-extensions in /usr/local/lib/python3.7/dist-packages (from huggingface-hub==0.0.12->transformers) (3.7.4.3)\n",
            "Requirement already satisfied: pyparsing>=2.0.2 in /usr/local/lib/python3.7/dist-packages (from packaging->transformers) (2.4.7)\n",
            "Requirement already satisfied: zipp>=0.5 in /usr/local/lib/python3.7/dist-packages (from importlib-metadata->transformers) (3.5.0)\n",
            "Requirement already satisfied: urllib3!=1.25.0,!=1.25.1,<1.26,>=1.21.1 in /usr/local/lib/python3.7/dist-packages (from requests->transformers) (1.24.3)\n",
            "Requirement already satisfied: certifi>=2017.4.17 in /usr/local/lib/python3.7/dist-packages (from requests->transformers) (2021.5.30)\n",
            "Requirement already satisfied: idna<3,>=2.5 in /usr/local/lib/python3.7/dist-packages (from requests->transformers) (2.10)\n",
            "Requirement already satisfied: chardet<4,>=3.0.2 in /usr/local/lib/python3.7/dist-packages (from requests->transformers) (3.0.4)\n",
            "Requirement already satisfied: click in /usr/local/lib/python3.7/dist-packages (from sacremoses->transformers) (7.1.2)\n",
            "Requirement already satisfied: joblib in /usr/local/lib/python3.7/dist-packages (from sacremoses->transformers) (1.0.1)\n",
            "Requirement already satisfied: six in /usr/local/lib/python3.7/dist-packages (from sacremoses->transformers) (1.15.0)\n",
            "Installing collected packages: tokenizers, sacremoses, huggingface-hub, transformers\n",
            "Successfully installed huggingface-hub-0.0.12 sacremoses-0.0.45 tokenizers-0.10.3 transformers-4.8.2\n"
          ],
          "name": "stdout"
        }
      ]
    },
    {
      "cell_type": "code",
      "metadata": {
        "id": "RcxlTKBkeW41"
      },
      "source": [
        "import numpy as np\n",
        "import pandas as pd\n",
        "\n",
        "import warnings\n",
        "import json\n",
        "\n",
        "\n",
        "from sklearn.model_selection import train_test_split\n",
        "from sklearn.linear_model import LogisticRegression\n",
        "from sklearn.model_selection import GridSearchCV\n",
        "from sklearn.model_selection import cross_val_score\n",
        "\n",
        "import torch\n",
        "import transformers as ppb\n",
        "from transformers import DistilBertForSequenceClassification, Trainer, TrainingArguments\n",
        "from sklearn.metrics import accuracy_score, precision_recall_fscore_support, classification_report\n",
        "import regex as re\n",
        "\n",
        "\n",
        "warnings.filterwarnings('ignore')\n",
        "pd.options.display.max_colwidth = 200"
      ],
      "execution_count": 2,
      "outputs": []
    },
    {
      "cell_type": "code",
      "metadata": {
        "id": "u-TfgOyTnPJD"
      },
      "source": [
        "remove_per_curiam = True"
      ],
      "execution_count": 3,
      "outputs": []
    },
    {
      "cell_type": "markdown",
      "metadata": {
        "id": "ZcxOypBdwjXc"
      },
      "source": [
        "# Pre-processing"
      ]
    },
    {
      "cell_type": "code",
      "metadata": {
        "id": "AertiIAn_qvl"
      },
      "source": [
        "# helpful functions\n",
        "def clean_regex(df, column):\n",
        "  \n",
        "  df[\"text\"] = df[\"text\"].str.replace('\\n', ' ')\n",
        "  df[\"text\"] = df[\"text\"].replace('\\s+', ' ', regex = True)\n",
        "  df[\"text\"] = df[\"text\"].replace(r'\\[','', regex=True) \n",
        "  df[\"text\"] = df[\"text\"].replace(r'\\]','', regex=True)\n",
        "  df[\"text\"] = df[\"text\"].replace(r'\\- ','', regex=True)\n",
        "  df[\"text\"] = df[\"text\"].replace(r'\\xad','', regex=True)\n",
        "  df[\"text\"] = df[\"text\"].replace(r'\\'','', regex=True)\n",
        "  df[\"text\"] = df[\"text\"].replace(r'\\x97',',', regex=True)\n",
        "\n",
        "  return df[\"text\"]"
      ],
      "execution_count": 4,
      "outputs": []
    },
    {
      "cell_type": "code",
      "metadata": {
        "id": "ppLOlz4N_szQ"
      },
      "source": [
        "# Keep only sentences above certain threshold of alphanumeric characters\n",
        "def percent_text(text):\n",
        "    char_dict = dict()\n",
        "    char_dict[\"alpha_count\"] = 0\n",
        "    char_dict[\"total_count\"] = 0\n",
        "\n",
        "    for char in text:\n",
        "        char_dict[\"total_count\"] += 1\n",
        "        if char.isalpha():\n",
        "            char_dict[\"alpha_count\"] += 1\n",
        "    \n",
        "    percent_letter = float(char_dict[\"alpha_count\"]) / float(char_dict[\"total_count\"]) * 100\n",
        "\n",
        "    return percent_letter"
      ],
      "execution_count": 5,
      "outputs": []
    },
    {
      "cell_type": "code",
      "metadata": {
        "id": "zJqNxh_K_wSX"
      },
      "source": [
        "def header_eraser(text):\n",
        "    spaces = re.search(r'[ \\t]{2,}', text)\n",
        "    opinion = re.search(r'Opinion of', text)\n",
        "    if spaces and opinion:\n",
        "        # delete text between first space and opinion of + 20 char \n",
        "        result = re.sub('[ \\t]{2,}.*?Opinion of[\\s\\S]{15}', '', text)\n",
        "    else:\n",
        "        result = text\n",
        "    return result"
      ],
      "execution_count": 6,
      "outputs": []
    },
    {
      "cell_type": "markdown",
      "metadata": {
        "id": "JhC5VmkfwLt8"
      },
      "source": [
        "## Load data"
      ]
    },
    {
      "cell_type": "code",
      "metadata": {
        "colab": {
          "resources": {
            "http://localhost:8080/nbextensions/google.colab/files.js": {
              "data": "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",
              "ok": true,
              "headers": [
                [
                  "content-type",
                  "application/javascript"
                ]
              ],
              "status": 200,
              "status_text": ""
            }
          },
          "base_uri": "https://localhost:8080/",
          "height": 72
        },
        "id": "CIZT7fGswGTi",
        "outputId": "b0488bee-e51f-4fae-d63c-e2e4a923f14c"
      },
      "source": [
        "from google.colab import files\n",
        "uploaded = files.upload()"
      ],
      "execution_count": 7,
      "outputs": [
        {
          "output_type": "display_data",
          "data": {
            "text/html": [
              "\n",
              "     <input type=\"file\" id=\"files-1f30b08a-5979-496f-9211-445d2f8448d1\" name=\"files[]\" multiple disabled\n",
              "        style=\"border:none\" />\n",
              "     <output id=\"result-1f30b08a-5979-496f-9211-445d2f8448d1\">\n",
              "      Upload widget is only available when the cell has been executed in the\n",
              "      current browser session. Please rerun this cell to enable.\n",
              "      </output>\n",
              "      <script src=\"/nbextensions/google.colab/files.js\"></script> "
            ],
            "text/plain": [
              "<IPython.core.display.HTML object>"
            ]
          },
          "metadata": {
            "tags": []
          }
        },
        {
          "output_type": "stream",
          "text": [
            "Saving monologic_annotations.json to monologic_annotations.json\n"
          ],
          "name": "stdout"
        }
      ]
    },
    {
      "cell_type": "code",
      "metadata": {
        "id": "gs4LkE8e_yo7",
        "colab": {
          "base_uri": "https://localhost:8080/",
          "height": 130
        },
        "outputId": "673e0bf7-7c2e-47fb-8e9c-57a831bb37b3"
      },
      "source": [
        "#def get_clean_data(dataset_path):\n",
        "#  opinion_js = json.load(open(dataset_path))\n",
        "#  df = pd.DataFrame.from_dict(opinion_js)\n",
        "\n",
        "  # Clean sentences\n",
        "#  df[\"text\"] = clean_regex(df, \"text\")\n",
        "\n",
        "  # Get sentences with more letters\n",
        "#  df[\"percent_letter\"] = df[\"text\"].apply(percent_text)\n",
        "#  df = df[df[\"percent_letter\"] > 50]\n",
        "\n",
        "  # Remove header\n",
        "#  df[\"text\"] = df[\"text\"].apply(header_eraser)\n",
        "\n",
        "  # Prepare sentences for tokenization\n",
        "#  all_sentences = df[\"text\"].to_list()\n",
        "\n",
        "#  return df, all_sentences"
      ],
      "execution_count": null,
      "outputs": [
        {
          "output_type": "error",
          "ename": "IndentationError",
          "evalue": "ignored",
          "traceback": [
            "\u001b[0;36m  File \u001b[0;32m\"<ipython-input-1-b7d2a4fba823>\"\u001b[0;36m, line \u001b[0;32m2\u001b[0m\n\u001b[0;31m    opinion_js = json.load(open(dataset_path))\u001b[0m\n\u001b[0m    ^\u001b[0m\n\u001b[0;31mIndentationError\u001b[0m\u001b[0;31m:\u001b[0m unexpected indent\n"
          ]
        }
      ]
    },
    {
      "cell_type": "code",
      "metadata": {
        "id": "ty27ndz2AamF"
      },
      "source": [
        "file_name = \"monologic_annotations.json\"\n",
        "annotations = []\n",
        "for line in open(file_name, 'r'):\n",
        "    annotations.append(json.loads(line))\n",
        "df = pd.DataFrame(annotations)\n",
        "df[\"label_num\"] = df[\"answer\"].map({'accept': 1, 'reject': 0, 'ignore': 0})"
      ],
      "execution_count": 8,
      "outputs": []
    },
    {
      "cell_type": "code",
      "metadata": {
        "id": "FvN_NMbXArrl"
      },
      "source": [
        "df = df[df[\"answer\"]!= \"ignore\"]"
      ],
      "execution_count": 9,
      "outputs": []
    },
    {
      "cell_type": "code",
      "metadata": {
        "id": "UAuV3SDsAuUz"
      },
      "source": [
        "  # Clean sentences\n",
        "  df[\"text\"] = clean_regex(df, \"text\")"
      ],
      "execution_count": 10,
      "outputs": []
    },
    {
      "cell_type": "code",
      "metadata": {
        "id": "pIYFcVXpAuX2"
      },
      "source": [
        "  # Get sentences with more letters\n",
        "  df[\"percent_letter\"] = df[\"text\"].apply(percent_text)\n",
        "  df = df[df[\"percent_letter\"] > 50]"
      ],
      "execution_count": 11,
      "outputs": []
    },
    {
      "cell_type": "code",
      "metadata": {
        "id": "cOgr-qX_A8I-"
      },
      "source": [
        "  # Remove header\n",
        "  df[\"text\"] = df[\"text\"].apply(header_eraser)"
      ],
      "execution_count": 12,
      "outputs": []
    },
    {
      "cell_type": "code",
      "metadata": {
        "colab": {
          "base_uri": "https://localhost:8080/",
          "height": 1000
        },
        "id": "0jmKFY0BA8Mi",
        "outputId": "7038e5c8-25db-4113-c028-4bc860a963be"
      },
      "source": [
        "df.sample(10)"
      ],
      "execution_count": 13,
      "outputs": [
        {
          "output_type": "execute_result",
          "data": {
            "text/html": [
              "<div>\n",
              "<style scoped>\n",
              "    .dataframe tbody tr th:only-of-type {\n",
              "        vertical-align: middle;\n",
              "    }\n",
              "\n",
              "    .dataframe tbody tr th {\n",
              "        vertical-align: top;\n",
              "    }\n",
              "\n",
              "    .dataframe thead th {\n",
              "        text-align: right;\n",
              "    }\n",
              "</style>\n",
              "<table border=\"1\" class=\"dataframe\">\n",
              "  <thead>\n",
              "    <tr style=\"text-align: right;\">\n",
              "      <th></th>\n",
              "      <th>text</th>\n",
              "      <th>Unnamed: 0</th>\n",
              "      <th>Unnamed: 0.1</th>\n",
              "      <th>opinion_num</th>\n",
              "      <th>categority</th>\n",
              "      <th>author</th>\n",
              "      <th>case</th>\n",
              "      <th>sent_index</th>\n",
              "      <th>length</th>\n",
              "      <th>sent_location</th>\n",
              "      <th>prediction</th>\n",
              "      <th>prob_0</th>\n",
              "      <th>prob_1</th>\n",
              "      <th>_input_hash</th>\n",
              "      <th>_task_hash</th>\n",
              "      <th>label</th>\n",
              "      <th>_session_id</th>\n",
              "      <th>_view_id</th>\n",
              "      <th>answer</th>\n",
              "      <th>_merge</th>\n",
              "      <th>label_num</th>\n",
              "      <th>percent_letter</th>\n",
              "    </tr>\n",
              "  </thead>\n",
              "  <tbody>\n",
              "    <tr>\n",
              "      <th>3660</th>\n",
              "      <td>We previously have recognized a significant state interest in eradicating the effects of past racial discrimination.</td>\n",
              "      <td>798366</td>\n",
              "      <td>798366</td>\n",
              "      <td>7461</td>\n",
              "      <td>majority</td>\n",
              "      <td>Justice O'Connor</td>\n",
              "      <td>Shaw v. Reno</td>\n",
              "      <td>345</td>\n",
              "      <td>369</td>\n",
              "      <td>0.934959</td>\n",
              "      <td>1</td>\n",
              "      <td>0.341105</td>\n",
              "      <td>0.658895</td>\n",
              "      <td>-1445752711</td>\n",
              "      <td>170597987</td>\n",
              "      <td>MONOLOGIC</td>\n",
              "      <td>None</td>\n",
              "      <td>classification</td>\n",
              "      <td>accept</td>\n",
              "      <td>right_only</td>\n",
              "      <td>1</td>\n",
              "      <td>86.206897</td>\n",
              "    </tr>\n",
              "    <tr>\n",
              "      <th>2175</th>\n",
              "      <td>On this reasoning, the majority remands the case directly to the District Court for “full consideration of the merits of Cone’s sentencing claim.” Ante, at 27.</td>\n",
              "      <td>358065</td>\n",
              "      <td>358065</td>\n",
              "      <td>3442</td>\n",
              "      <td>dissenting</td>\n",
              "      <td>Justice Thomas</td>\n",
              "      <td>Cone v. Bell</td>\n",
              "      <td>37</td>\n",
              "      <td>203</td>\n",
              "      <td>0.182266</td>\n",
              "      <td>1</td>\n",
              "      <td>0.409769</td>\n",
              "      <td>0.590231</td>\n",
              "      <td>630989001</td>\n",
              "      <td>-488189626</td>\n",
              "      <td>MONOLOGIC</td>\n",
              "      <td>None</td>\n",
              "      <td>classification</td>\n",
              "      <td>reject</td>\n",
              "      <td>right_only</td>\n",
              "      <td>0</td>\n",
              "      <td>78.616352</td>\n",
              "    </tr>\n",
              "    <tr>\n",
              "      <th>3452</th>\n",
              "      <td>Finally, the Ellerth/Faragher Court sought a frame work that would be workable and would appropriately take into account the legitimate interests of employers and employees.</td>\n",
              "      <td>1289336</td>\n",
              "      <td>1289336</td>\n",
              "      <td>12055</td>\n",
              "      <td>majority</td>\n",
              "      <td>Justice Alito</td>\n",
              "      <td>Vance v. Ball State Univ.</td>\n",
              "      <td>236</td>\n",
              "      <td>364</td>\n",
              "      <td>0.648352</td>\n",
              "      <td>1</td>\n",
              "      <td>0.351976</td>\n",
              "      <td>0.648024</td>\n",
              "      <td>-745168056</td>\n",
              "      <td>-284148824</td>\n",
              "      <td>MONOLOGIC</td>\n",
              "      <td>None</td>\n",
              "      <td>classification</td>\n",
              "      <td>reject</td>\n",
              "      <td>right_only</td>\n",
              "      <td>0</td>\n",
              "      <td>84.393064</td>\n",
              "    </tr>\n",
              "    <tr>\n",
              "      <th>2234</th>\n",
              "      <td>Again, we begin with the statute.</td>\n",
              "      <td>566494</td>\n",
              "      <td>566494</td>\n",
              "      <td>5408</td>\n",
              "      <td>majority</td>\n",
              "      <td>Justice Kennedy</td>\n",
              "      <td>Bragdon v. Abbott</td>\n",
              "      <td>359</td>\n",
              "      <td>473</td>\n",
              "      <td>0.758985</td>\n",
              "      <td>1</td>\n",
              "      <td>0.418226</td>\n",
              "      <td>0.581774</td>\n",
              "      <td>-1193552635</td>\n",
              "      <td>378983760</td>\n",
              "      <td>MONOLOGIC</td>\n",
              "      <td>None</td>\n",
              "      <td>classification</td>\n",
              "      <td>accept</td>\n",
              "      <td>right_only</td>\n",
              "      <td>1</td>\n",
              "      <td>78.787879</td>\n",
              "    </tr>\n",
              "    <tr>\n",
              "      <th>4490</th>\n",
              "      <td>The trustee, charged with exercising those avoiding powers, must 14 MERIT MANAGEMENT GROUP, LP v. FTI CONSULTING, INC. Opinion of the Court establish to the satisfaction of a court that the transf...</td>\n",
              "      <td>511012</td>\n",
              "      <td>511012</td>\n",
              "      <td>4865</td>\n",
              "      <td>majority</td>\n",
              "      <td>Justice Sotomayor</td>\n",
              "      <td>Merit Management Group, LP v. FTI Consulting, Inc.</td>\n",
              "      <td>152</td>\n",
              "      <td>204</td>\n",
              "      <td>0.745098</td>\n",
              "      <td>1</td>\n",
              "      <td>0.486713</td>\n",
              "      <td>0.513287</td>\n",
              "      <td>-906049914</td>\n",
              "      <td>-1937589605</td>\n",
              "      <td>MONOLOGIC</td>\n",
              "      <td>None</td>\n",
              "      <td>classification</td>\n",
              "      <td>reject</td>\n",
              "      <td>right_only</td>\n",
              "      <td>0</td>\n",
              "      <td>81.543624</td>\n",
              "    </tr>\n",
              "    <tr>\n",
              "      <th>4333</th>\n",
              "      <td>Of course, it is true that the State may in proper circumstances enact a broad regulatory scheme that incidentally restricts First Amendment rights.</td>\n",
              "      <td>242763</td>\n",
              "      <td>242763</td>\n",
              "      <td>2333</td>\n",
              "      <td>second_dissenting</td>\n",
              "      <td>Justice Brennan</td>\n",
              "      <td>California v. LaRue</td>\n",
              "      <td>134</td>\n",
              "      <td>159</td>\n",
              "      <td>0.842767</td>\n",
              "      <td>1</td>\n",
              "      <td>0.069426</td>\n",
              "      <td>0.930574</td>\n",
              "      <td>254951628</td>\n",
              "      <td>1175254072</td>\n",
              "      <td>MONOLOGIC</td>\n",
              "      <td>None</td>\n",
              "      <td>classification</td>\n",
              "      <td>reject</td>\n",
              "      <td>right_only</td>\n",
              "      <td>0</td>\n",
              "      <td>83.783784</td>\n",
              "    </tr>\n",
              "    <tr>\n",
              "      <th>2639</th>\n",
              "      <td>We do not sit as a \"superlegislature\" to second-guess these policy choices.</td>\n",
              "      <td>1765217</td>\n",
              "      <td>1765217</td>\n",
              "      <td>16739</td>\n",
              "      <td>majority</td>\n",
              "      <td>Justice O'Connor</td>\n",
              "      <td>Ewing v. California</td>\n",
              "      <td>227</td>\n",
              "      <td>274</td>\n",
              "      <td>0.828467</td>\n",
              "      <td>1</td>\n",
              "      <td>0.247090</td>\n",
              "      <td>0.752910</td>\n",
              "      <td>-1825307087</td>\n",
              "      <td>1327724986</td>\n",
              "      <td>MONOLOGIC</td>\n",
              "      <td>None</td>\n",
              "      <td>classification</td>\n",
              "      <td>accept</td>\n",
              "      <td>right_only</td>\n",
              "      <td>1</td>\n",
              "      <td>80.000000</td>\n",
              "    </tr>\n",
              "    <tr>\n",
              "      <th>4789</th>\n",
              "      <td>Although the Court has divided on the circumstances in which the dormant Commerce Clause allows such measures, see id., at 817 (BRENNAN, J., dissenting), surely there can be no dispute that they a...</td>\n",
              "      <td>1335300</td>\n",
              "      <td>1335300</td>\n",
              "      <td>12527</td>\n",
              "      <td>dissenting</td>\n",
              "      <td>Justice O'Connor</td>\n",
              "      <td>Metropolitan Life Ins. Co. v. Ward</td>\n",
              "      <td>171</td>\n",
              "      <td>256</td>\n",
              "      <td>0.667969</td>\n",
              "      <td>1</td>\n",
              "      <td>0.403130</td>\n",
              "      <td>0.596870</td>\n",
              "      <td>1177800110</td>\n",
              "      <td>2064217125</td>\n",
              "      <td>MONOLOGIC</td>\n",
              "      <td>None</td>\n",
              "      <td>classification</td>\n",
              "      <td>reject</td>\n",
              "      <td>right_only</td>\n",
              "      <td>0</td>\n",
              "      <td>81.894150</td>\n",
              "    </tr>\n",
              "    <tr>\n",
              "      <th>2178</th>\n",
              "      <td>15 The unexercised peremptory *665 argument assumes that the crucial question in the harmless-error analysis is whether a particular prospective juror is excluded from the jury due to the trial co...</td>\n",
              "      <td>874660</td>\n",
              "      <td>874660</td>\n",
              "      <td>8191</td>\n",
              "      <td>majority</td>\n",
              "      <td>Justice Blackmun</td>\n",
              "      <td>Gray v. Mississippi</td>\n",
              "      <td>145</td>\n",
              "      <td>189</td>\n",
              "      <td>0.767196</td>\n",
              "      <td>1</td>\n",
              "      <td>0.241050</td>\n",
              "      <td>0.758950</td>\n",
              "      <td>84579059</td>\n",
              "      <td>-18894057</td>\n",
              "      <td>MONOLOGIC</td>\n",
              "      <td>None</td>\n",
              "      <td>classification</td>\n",
              "      <td>reject</td>\n",
              "      <td>right_only</td>\n",
              "      <td>0</td>\n",
              "      <td>81.651376</td>\n",
              "    </tr>\n",
              "    <tr>\n",
              "      <th>2664</th>\n",
              "      <td>I regret very much to be compelled to say that the Court today makes a drastic and dangerous departure from a Constitution written to control and limit the government and the judges and moves towa...</td>\n",
              "      <td>1734983</td>\n",
              "      <td>1734983</td>\n",
              "      <td>16431</td>\n",
              "      <td>dissenting</td>\n",
              "      <td>Justice Black</td>\n",
              "      <td>Goldberg v. Kelly</td>\n",
              "      <td>46</td>\n",
              "      <td>69</td>\n",
              "      <td>0.666667</td>\n",
              "      <td>1</td>\n",
              "      <td>0.039707</td>\n",
              "      <td>0.960293</td>\n",
              "      <td>922081315</td>\n",
              "      <td>-318598753</td>\n",
              "      <td>MONOLOGIC</td>\n",
              "      <td>None</td>\n",
              "      <td>classification</td>\n",
              "      <td>accept</td>\n",
              "      <td>right_only</td>\n",
              "      <td>1</td>\n",
              "      <td>81.818182</td>\n",
              "    </tr>\n",
              "  </tbody>\n",
              "</table>\n",
              "</div>"
            ],
            "text/plain": [
              "                                                                                                                                                                                                         text  ...  percent_letter\n",
              "3660                                                                                     We previously have recognized a significant state interest in eradicating the effects of past racial discrimination.  ...       86.206897\n",
              "2175                                          On this reasoning, the majority remands the case directly to the District Court for “full consideration of the merits of Cone’s sentencing claim.” Ante, at 27.  ...       78.616352\n",
              "3452                            Finally, the Ellerth/Faragher Court sought a frame work that would be workable and would appropriately take into account the legitimate interests of employers and employees.  ...       84.393064\n",
              "2234                                                                                                                                                                        Again, we begin with the statute.  ...       78.787879\n",
              "4490  The trustee, charged with exercising those avoiding powers, must 14 MERIT MANAGEMENT GROUP, LP v. FTI CONSULTING, INC. Opinion of the Court establish to the satisfaction of a court that the transf...  ...       81.543624\n",
              "4333                                                     Of course, it is true that the State may in proper circumstances enact a broad regulatory scheme that incidentally restricts First Amendment rights.  ...       83.783784\n",
              "2639                                                                                                                              We do not sit as a \"superlegislature\" to second-guess these policy choices.  ...       80.000000\n",
              "4789  Although the Court has divided on the circumstances in which the dormant Commerce Clause allows such measures, see id., at 817 (BRENNAN, J., dissenting), surely there can be no dispute that they a...  ...       81.894150\n",
              "2178  15 The unexercised peremptory *665 argument assumes that the crucial question in the harmless-error analysis is whether a particular prospective juror is excluded from the jury due to the trial co...  ...       81.651376\n",
              "2664  I regret very much to be compelled to say that the Court today makes a drastic and dangerous departure from a Constitution written to control and limit the government and the judges and moves towa...  ...       81.818182\n",
              "\n",
              "[10 rows x 22 columns]"
            ]
          },
          "metadata": {
            "tags": []
          },
          "execution_count": 13
        }
      ]
    },
    {
      "cell_type": "code",
      "metadata": {
        "id": "S_iQjJWJMJHu"
      },
      "source": [
        "# optional removal of per curiam\n",
        "if remove_per_curiam:\n",
        "  df = df[df[\"categority\"] != \"per_curiam\"]"
      ],
      "execution_count": 14,
      "outputs": []
    },
    {
      "cell_type": "code",
      "metadata": {
        "colab": {
          "base_uri": "https://localhost:8080/"
        },
        "id": "fEC6Ck09M2gE",
        "outputId": "b9c51f3b-9332-45ae-ff63-15bfe36be013"
      },
      "source": [
        "from collections import Counter\n",
        "Counter(df[\"categority\"])"
      ],
      "execution_count": 15,
      "outputs": [
        {
          "output_type": "execute_result",
          "data": {
            "text/plain": [
              "Counter({'concurring': 511,\n",
              "         'dissenting': 1527,\n",
              "         'majority': 3423,\n",
              "         'second_dissenting': 401})"
            ]
          },
          "metadata": {
            "tags": []
          },
          "execution_count": 15
        }
      ]
    },
    {
      "cell_type": "markdown",
      "metadata": {
        "id": "IFg73GqSwZYo"
      },
      "source": [
        "## Training, testing, validation splits"
      ]
    },
    {
      "cell_type": "code",
      "metadata": {
        "id": "Fi9HUhuFed5w"
      },
      "source": [
        "# SPLIT INTO TRAINING AND TESTING\n",
        "\n",
        "from sklearn.model_selection import train_test_split\n",
        "train_texts, test_texts, train_labels, test_labels = train_test_split(df[\"text\"].to_list(), df[\"label_num\"].to_list(), test_size=.3)"
      ],
      "execution_count": null,
      "outputs": []
    },
    {
      "cell_type": "markdown",
      "metadata": {
        "id": "dkVBX38kw8ec"
      },
      "source": [
        "## Import DistilBERT"
      ]
    },
    {
      "cell_type": "code",
      "metadata": {
        "colab": {
          "base_uri": "https://localhost:8080/",
          "height": 164,
          "referenced_widgets": [
            "52c66771da38493383630801379e3825",
            "d5b5a3cab58143f7ac4d4334d8c6d5d0",
            "f6acb1aa5f7545a6a2d34f62da7b1495",
            "f5d3221d5a0c46bfbb89ead3f6950b7b",
            "f50535fb214446d2a68e4ebe5e748f4b",
            "188265026ebc4ba7b157073ae59d9812",
            "4ba6102a4691411abdbc8f030fdc0d71",
            "609621ee2dc64c15a8b07215008d2bd4",
            "6b133bd296794325a86ef2d840613032",
            "0d5651ac4c2244df93db657f6b5d946f",
            "50cac0ba5a54482a92fe249d50721623",
            "f46ebd5ac4eb4adc84e27cc33c31a164",
            "06f64d94611a444ea50a43271006770c",
            "f9657f74d06c4ff2acefcee416d75636",
            "a898829a458a4da69c90c9171de3029a",
            "c92c233a6c2d49d3ab6fe3152f680c37",
            "606c83d8c9de48dab0cf131af1bb3a62",
            "0692eef197f94d988395b749d6f61ad7",
            "c5864cdf45d14e628c8b5b6a4a973271",
            "b4eb6a52e8c24f3f896450545fa65a91",
            "adfe3cf6c62c462dae6049eac7166bd4",
            "7ff2cc780485463ea892a39e97d930c7",
            "ce78210ecdef434397b0301227399698",
            "e472d0a44165433baa5ce83dbec8d548"
          ]
        },
        "id": "zJLeroszej0x",
        "outputId": "89ea0395-92a2-491a-c953-3b8ac4a1f5b2"
      },
      "source": [
        "from transformers import DistilBertTokenizerFast, DistilBertForSequenceClassification\n",
        "\n",
        "tokenizer = DistilBertTokenizerFast.from_pretrained('distilbert-base-uncased')"
      ],
      "execution_count": null,
      "outputs": [
        {
          "output_type": "display_data",
          "data": {
            "application/vnd.jupyter.widget-view+json": {
              "model_id": "52c66771da38493383630801379e3825",
              "version_minor": 0,
              "version_major": 2
            },
            "text/plain": [
              "HBox(children=(FloatProgress(value=0.0, description='Downloading', max=231508.0, style=ProgressStyle(descripti…"
            ]
          },
          "metadata": {
            "tags": []
          }
        },
        {
          "output_type": "stream",
          "text": [
            "\n"
          ],
          "name": "stdout"
        },
        {
          "output_type": "display_data",
          "data": {
            "application/vnd.jupyter.widget-view+json": {
              "model_id": "6b133bd296794325a86ef2d840613032",
              "version_minor": 0,
              "version_major": 2
            },
            "text/plain": [
              "HBox(children=(FloatProgress(value=0.0, description='Downloading', max=466062.0, style=ProgressStyle(descripti…"
            ]
          },
          "metadata": {
            "tags": []
          }
        },
        {
          "output_type": "stream",
          "text": [
            "\n"
          ],
          "name": "stdout"
        },
        {
          "output_type": "display_data",
          "data": {
            "application/vnd.jupyter.widget-view+json": {
              "model_id": "606c83d8c9de48dab0cf131af1bb3a62",
              "version_minor": 0,
              "version_major": 2
            },
            "text/plain": [
              "HBox(children=(FloatProgress(value=0.0, description='Downloading', max=28.0, style=ProgressStyle(description_w…"
            ]
          },
          "metadata": {
            "tags": []
          }
        },
        {
          "output_type": "stream",
          "text": [
            "\n"
          ],
          "name": "stdout"
        }
      ]
    },
    {
      "cell_type": "markdown",
      "metadata": {
        "id": "otx-VAyJxGuo"
      },
      "source": [
        "## Tokenize\n",
        "Tokenize the text, add padding, and truncate"
      ]
    },
    {
      "cell_type": "code",
      "metadata": {
        "id": "7mviyvj2UTX2"
      },
      "source": [
        "# PASS TO TOKENIZER, ADD PADDING AND TRUNCATE\n",
        "train_encodings = tokenizer(train_texts,  truncation=True, padding=True)\n",
        "test_encodings = tokenizer(test_texts,  truncation=True, padding=True)"
      ],
      "execution_count": null,
      "outputs": []
    },
    {
      "cell_type": "markdown",
      "metadata": {
        "id": "qrEDpocexN7e"
      },
      "source": [
        "## Convert into Torch dataset"
      ]
    },
    {
      "cell_type": "code",
      "metadata": {
        "id": "pm3kz6HCeoi-"
      },
      "source": [
        "# MAKE DATASET OBJECTS\n",
        "\n",
        "class SCDataset(torch.utils.data.Dataset):\n",
        "    def __init__(self, encodings, labels):\n",
        "        self.encodings = encodings\n",
        "        self.labels = labels\n",
        "\n",
        "    def __getitem__(self, idx):\n",
        "        item = {key: torch.tensor(val[idx]) for key, val in self.encodings.items()}\n",
        "        item['labels'] = torch.tensor(self.labels[idx])\n",
        "        return item\n",
        "\n",
        "    def __len__(self):\n",
        "        return len(self.labels)\n",
        "\n",
        "\n",
        "train_dataset = SCDataset(train_encodings, train_labels)\n",
        "test_dataset = SCDataset(test_encodings, test_labels)"
      ],
      "execution_count": null,
      "outputs": []
    },
    {
      "cell_type": "markdown",
      "metadata": {
        "id": "KwGyXHrMyNdy"
      },
      "source": [
        "# Fine-tuning"
      ]
    },
    {
      "cell_type": "markdown",
      "metadata": {
        "id": "RhvJ-tV9xViq"
      },
      "source": [
        "## Fine-tune the model on SC data"
      ]
    },
    {
      "cell_type": "code",
      "metadata": {
        "id": "mwompg0tepXD"
      },
      "source": [
        "# Set up training arguments\n",
        "training_args = TrainingArguments(\n",
        "    output_dir='./results',          # output directory\n",
        "    num_train_epochs=3,              # total number of training epochs\n",
        "    per_device_train_batch_size=16,  # batch size per device during training\n",
        "    per_device_eval_batch_size=20,   # batch size for evaluation\n",
        "    learning_rate=5e-5,              # initial learning rate for Adam optimizer\n",
        "    warmup_steps=50,                # number of warmup steps for learning rate scheduler\n",
        "    weight_decay=0.01,               # strength of weight decay\n",
        "    logging_dir='./logs',            # directory for storing logs\n",
        "    logging_steps=10,\n",
        "    evaluation_strategy='steps',\n",
        ")"
      ],
      "execution_count": null,
      "outputs": []
    },
    {
      "cell_type": "markdown",
      "metadata": {
        "id": "_2_UrEY-xxwc"
      },
      "source": [
        "### Load the BERT, pre-trained model\n",
        "**Remember** to switch this out with BERT base"
      ]
    },
    {
      "cell_type": "code",
      "metadata": {
        "id": "zKcG_RLXZGHa"
      },
      "source": [
        "device_name = 'cuda'"
      ],
      "execution_count": null,
      "outputs": []
    },
    {
      "cell_type": "code",
      "metadata": {
        "colab": {
          "base_uri": "https://localhost:8080/",
          "height": 220,
          "referenced_widgets": [
            "3d164273efa14fb8828a9018859bd085",
            "160f2fd4d10d4a3c95d5a41524ec9916",
            "fc1b8f048f3c4b40b26b997787439fee",
            "b5475d23f0be4272a65e1199f89f7054",
            "a87cc735ed95468aa7598d9516d88e37",
            "564a8afac076458b94df85f0afcc4120",
            "f0206882149e42ef84b48134acb3207b",
            "2321dbb24e2c471781926969d4772985",
            "514ac193ff9c482d8a0e23a12bf99838",
            "48dd7796bd8e4458a8334e88d91c50b9",
            "fee93012ae734496a4e45f3e8c18ecc7",
            "5076a34aa5034b58b59a8a168d73a110",
            "82c11025021e4c9b9b7f3e547faf4bca",
            "2709b7f58ccc40e5886bbe3e3c81d97d",
            "5ebc90297de341c18cd54f7f1cba1de1",
            "f2356d7940a44220927378d9147efc3e"
          ]
        },
        "id": "A-vgXCRLxs2u",
        "outputId": "73b6b7e8-4203-4c87-f96b-d5512a87024e"
      },
      "source": [
        "model = DistilBertForSequenceClassification.from_pretrained(\"distilbert-base-uncased\").to(device_name)"
      ],
      "execution_count": null,
      "outputs": [
        {
          "output_type": "display_data",
          "data": {
            "application/vnd.jupyter.widget-view+json": {
              "model_id": "3d164273efa14fb8828a9018859bd085",
              "version_minor": 0,
              "version_major": 2
            },
            "text/plain": [
              "HBox(children=(FloatProgress(value=0.0, description='Downloading', max=442.0, style=ProgressStyle(description_…"
            ]
          },
          "metadata": {
            "tags": []
          }
        },
        {
          "output_type": "stream",
          "text": [
            "\n"
          ],
          "name": "stdout"
        },
        {
          "output_type": "display_data",
          "data": {
            "application/vnd.jupyter.widget-view+json": {
              "model_id": "514ac193ff9c482d8a0e23a12bf99838",
              "version_minor": 0,
              "version_major": 2
            },
            "text/plain": [
              "HBox(children=(FloatProgress(value=0.0, description='Downloading', max=267967963.0, style=ProgressStyle(descri…"
            ]
          },
          "metadata": {
            "tags": []
          }
        },
        {
          "output_type": "stream",
          "text": [
            "\n"
          ],
          "name": "stdout"
        },
        {
          "output_type": "stream",
          "text": [
            "Some weights of the model checkpoint at distilbert-base-uncased were not used when initializing DistilBertForSequenceClassification: ['vocab_transform.bias', 'vocab_projector.weight', 'vocab_transform.weight', 'vocab_projector.bias', 'vocab_layer_norm.bias', 'vocab_layer_norm.weight']\n",
            "- This IS expected if you are initializing DistilBertForSequenceClassification from the checkpoint of a model trained on another task or with another architecture (e.g. initializing a BertForSequenceClassification model from a BertForPreTraining model).\n",
            "- This IS NOT expected if you are initializing DistilBertForSequenceClassification from the checkpoint of a model that you expect to be exactly identical (initializing a BertForSequenceClassification model from a BertForSequenceClassification model).\n",
            "Some weights of DistilBertForSequenceClassification were not initialized from the model checkpoint at distilbert-base-uncased and are newly initialized: ['classifier.weight', 'pre_classifier.bias', 'pre_classifier.weight', 'classifier.bias']\n",
            "You should probably TRAIN this model on a down-stream task to be able to use it for predictions and inference.\n"
          ],
          "name": "stderr"
        }
      ]
    },
    {
      "cell_type": "markdown",
      "metadata": {
        "id": "kdV5tgrux6eR"
      },
      "source": [
        "Fine-tuning"
      ]
    },
    {
      "cell_type": "code",
      "metadata": {
        "id": "fZE4tDdtmceo"
      },
      "source": [
        "from sklearn.metrics import accuracy_score, precision_recall_fscore_support, classification_report"
      ],
      "execution_count": null,
      "outputs": []
    },
    {
      "cell_type": "code",
      "metadata": {
        "id": "fDmSIIR_luj5"
      },
      "source": [
        "# Custom evaluation function \n",
        "def compute_metrics(pred):\n",
        "  labels = pred.label_ids\n",
        "  preds = pred.predictions.argmax(-1)\n",
        "  acc = accuracy_score(labels, preds)\n",
        "  return {\n",
        "      'accuracy': acc,\n",
        "  }"
      ],
      "execution_count": null,
      "outputs": []
    },
    {
      "cell_type": "code",
      "metadata": {
        "id": "PcGrPW3BxdPy"
      },
      "source": [
        "trainer = Trainer(\n",
        "    model=model,                         # the instantiated 🤗 Transformers model to be trained\n",
        "    args=training_args,                  # training arguments, defined above\n",
        "    train_dataset=train_dataset,         # training dataset\n",
        "    eval_dataset=test_dataset,            # evaluation dataset\n",
        "    compute_metrics=compute_metrics      # custom evaluation function\n",
        ")"
      ],
      "execution_count": null,
      "outputs": []
    },
    {
      "cell_type": "markdown",
      "metadata": {
        "id": "PnEXyjgJx-vi"
      },
      "source": [
        "# Training"
      ]
    },
    {
      "cell_type": "code",
      "metadata": {
        "colab": {
          "base_uri": "https://localhost:8080/",
          "height": 1000
        },
        "id": "HuPbQX04esRy",
        "outputId": "12c3fb10-4e09-41ca-cfff-eab4f51d5956"
      },
      "source": [
        "trainer.train()"
      ],
      "execution_count": null,
      "outputs": [
        {
          "output_type": "stream",
          "text": [
            "***** Running training *****\n",
            "  Num examples = 4097\n",
            "  Num Epochs = 3\n",
            "  Instantaneous batch size per device = 16\n",
            "  Total train batch size (w. parallel, distributed & accumulation) = 16\n",
            "  Gradient Accumulation steps = 1\n",
            "  Total optimization steps = 771\n"
          ],
          "name": "stderr"
        },
        {
          "output_type": "display_data",
          "data": {
            "text/html": [
              "\n",
              "    <div>\n",
              "      \n",
              "      <progress value='771' max='771' style='width:300px; height:20px; vertical-align: middle;'></progress>\n",
              "      [771/771 22:09, Epoch 3/3]\n",
              "    </div>\n",
              "    <table border=\"1\" class=\"dataframe\">\n",
              "  <thead>\n",
              "    <tr style=\"text-align: left;\">\n",
              "      <th>Step</th>\n",
              "      <th>Training Loss</th>\n",
              "      <th>Validation Loss</th>\n",
              "      <th>Accuracy</th>\n",
              "    </tr>\n",
              "  </thead>\n",
              "  <tbody>\n",
              "    <tr>\n",
              "      <td>10</td>\n",
              "      <td>0.676600</td>\n",
              "      <td>0.640347</td>\n",
              "      <td>0.747153</td>\n",
              "    </tr>\n",
              "    <tr>\n",
              "      <td>20</td>\n",
              "      <td>0.635200</td>\n",
              "      <td>0.558531</td>\n",
              "      <td>0.747153</td>\n",
              "    </tr>\n",
              "    <tr>\n",
              "      <td>30</td>\n",
              "      <td>0.547400</td>\n",
              "      <td>0.496790</td>\n",
              "      <td>0.747153</td>\n",
              "    </tr>\n",
              "    <tr>\n",
              "      <td>40</td>\n",
              "      <td>0.425200</td>\n",
              "      <td>0.311119</td>\n",
              "      <td>0.910023</td>\n",
              "    </tr>\n",
              "    <tr>\n",
              "      <td>50</td>\n",
              "      <td>0.279500</td>\n",
              "      <td>0.315585</td>\n",
              "      <td>0.886105</td>\n",
              "    </tr>\n",
              "    <tr>\n",
              "      <td>60</td>\n",
              "      <td>0.329400</td>\n",
              "      <td>0.294596</td>\n",
              "      <td>0.907175</td>\n",
              "    </tr>\n",
              "    <tr>\n",
              "      <td>70</td>\n",
              "      <td>0.262700</td>\n",
              "      <td>0.334331</td>\n",
              "      <td>0.906036</td>\n",
              "    </tr>\n",
              "    <tr>\n",
              "      <td>80</td>\n",
              "      <td>0.282400</td>\n",
              "      <td>0.305704</td>\n",
              "      <td>0.904897</td>\n",
              "    </tr>\n",
              "    <tr>\n",
              "      <td>90</td>\n",
              "      <td>0.326300</td>\n",
              "      <td>0.266751</td>\n",
              "      <td>0.906036</td>\n",
              "    </tr>\n",
              "    <tr>\n",
              "      <td>100</td>\n",
              "      <td>0.373600</td>\n",
              "      <td>0.256749</td>\n",
              "      <td>0.911162</td>\n",
              "    </tr>\n",
              "    <tr>\n",
              "      <td>110</td>\n",
              "      <td>0.285800</td>\n",
              "      <td>0.235825</td>\n",
              "      <td>0.916856</td>\n",
              "    </tr>\n",
              "    <tr>\n",
              "      <td>120</td>\n",
              "      <td>0.281200</td>\n",
              "      <td>0.273810</td>\n",
              "      <td>0.908884</td>\n",
              "    </tr>\n",
              "    <tr>\n",
              "      <td>130</td>\n",
              "      <td>0.264600</td>\n",
              "      <td>0.307150</td>\n",
              "      <td>0.907175</td>\n",
              "    </tr>\n",
              "    <tr>\n",
              "      <td>140</td>\n",
              "      <td>0.359900</td>\n",
              "      <td>0.298471</td>\n",
              "      <td>0.899772</td>\n",
              "    </tr>\n",
              "    <tr>\n",
              "      <td>150</td>\n",
              "      <td>0.249100</td>\n",
              "      <td>0.232239</td>\n",
              "      <td>0.908314</td>\n",
              "    </tr>\n",
              "    <tr>\n",
              "      <td>160</td>\n",
              "      <td>0.290700</td>\n",
              "      <td>0.217136</td>\n",
              "      <td>0.910023</td>\n",
              "    </tr>\n",
              "    <tr>\n",
              "      <td>170</td>\n",
              "      <td>0.242600</td>\n",
              "      <td>0.231328</td>\n",
              "      <td>0.914009</td>\n",
              "    </tr>\n",
              "    <tr>\n",
              "      <td>180</td>\n",
              "      <td>0.171000</td>\n",
              "      <td>0.270060</td>\n",
              "      <td>0.920843</td>\n",
              "    </tr>\n",
              "    <tr>\n",
              "      <td>190</td>\n",
              "      <td>0.333700</td>\n",
              "      <td>0.254152</td>\n",
              "      <td>0.919704</td>\n",
              "    </tr>\n",
              "    <tr>\n",
              "      <td>200</td>\n",
              "      <td>0.189900</td>\n",
              "      <td>0.236346</td>\n",
              "      <td>0.908314</td>\n",
              "    </tr>\n",
              "    <tr>\n",
              "      <td>210</td>\n",
              "      <td>0.191500</td>\n",
              "      <td>0.254265</td>\n",
              "      <td>0.906606</td>\n",
              "    </tr>\n",
              "    <tr>\n",
              "      <td>220</td>\n",
              "      <td>0.215400</td>\n",
              "      <td>0.272108</td>\n",
              "      <td>0.914009</td>\n",
              "    </tr>\n",
              "    <tr>\n",
              "      <td>230</td>\n",
              "      <td>0.299000</td>\n",
              "      <td>0.251892</td>\n",
              "      <td>0.911731</td>\n",
              "    </tr>\n",
              "    <tr>\n",
              "      <td>240</td>\n",
              "      <td>0.310700</td>\n",
              "      <td>0.273539</td>\n",
              "      <td>0.884966</td>\n",
              "    </tr>\n",
              "    <tr>\n",
              "      <td>250</td>\n",
              "      <td>0.199400</td>\n",
              "      <td>0.236563</td>\n",
              "      <td>0.907175</td>\n",
              "    </tr>\n",
              "    <tr>\n",
              "      <td>260</td>\n",
              "      <td>0.497200</td>\n",
              "      <td>0.227898</td>\n",
              "      <td>0.915718</td>\n",
              "    </tr>\n",
              "    <tr>\n",
              "      <td>270</td>\n",
              "      <td>0.217800</td>\n",
              "      <td>0.227263</td>\n",
              "      <td>0.924829</td>\n",
              "    </tr>\n",
              "    <tr>\n",
              "      <td>280</td>\n",
              "      <td>0.195700</td>\n",
              "      <td>0.216092</td>\n",
              "      <td>0.914579</td>\n",
              "    </tr>\n",
              "    <tr>\n",
              "      <td>290</td>\n",
              "      <td>0.220300</td>\n",
              "      <td>0.248113</td>\n",
              "      <td>0.912301</td>\n",
              "    </tr>\n",
              "    <tr>\n",
              "      <td>300</td>\n",
              "      <td>0.233100</td>\n",
              "      <td>0.255087</td>\n",
              "      <td>0.910592</td>\n",
              "    </tr>\n",
              "    <tr>\n",
              "      <td>310</td>\n",
              "      <td>0.317200</td>\n",
              "      <td>0.225644</td>\n",
              "      <td>0.917426</td>\n",
              "    </tr>\n",
              "    <tr>\n",
              "      <td>320</td>\n",
              "      <td>0.226700</td>\n",
              "      <td>0.217753</td>\n",
              "      <td>0.918565</td>\n",
              "    </tr>\n",
              "    <tr>\n",
              "      <td>330</td>\n",
              "      <td>0.202200</td>\n",
              "      <td>0.215901</td>\n",
              "      <td>0.912301</td>\n",
              "    </tr>\n",
              "    <tr>\n",
              "      <td>340</td>\n",
              "      <td>0.206200</td>\n",
              "      <td>0.209030</td>\n",
              "      <td>0.915148</td>\n",
              "    </tr>\n",
              "    <tr>\n",
              "      <td>350</td>\n",
              "      <td>0.197500</td>\n",
              "      <td>0.226410</td>\n",
              "      <td>0.910592</td>\n",
              "    </tr>\n",
              "    <tr>\n",
              "      <td>360</td>\n",
              "      <td>0.239500</td>\n",
              "      <td>0.259973</td>\n",
              "      <td>0.911162</td>\n",
              "    </tr>\n",
              "    <tr>\n",
              "      <td>370</td>\n",
              "      <td>0.246700</td>\n",
              "      <td>0.232261</td>\n",
              "      <td>0.911731</td>\n",
              "    </tr>\n",
              "    <tr>\n",
              "      <td>380</td>\n",
              "      <td>0.156200</td>\n",
              "      <td>0.241819</td>\n",
              "      <td>0.911731</td>\n",
              "    </tr>\n",
              "    <tr>\n",
              "      <td>390</td>\n",
              "      <td>0.112200</td>\n",
              "      <td>0.278994</td>\n",
              "      <td>0.917426</td>\n",
              "    </tr>\n",
              "    <tr>\n",
              "      <td>400</td>\n",
              "      <td>0.214000</td>\n",
              "      <td>0.281835</td>\n",
              "      <td>0.924829</td>\n",
              "    </tr>\n",
              "    <tr>\n",
              "      <td>410</td>\n",
              "      <td>0.270700</td>\n",
              "      <td>0.253865</td>\n",
              "      <td>0.921982</td>\n",
              "    </tr>\n",
              "    <tr>\n",
              "      <td>420</td>\n",
              "      <td>0.188300</td>\n",
              "      <td>0.204576</td>\n",
              "      <td>0.925968</td>\n",
              "    </tr>\n",
              "    <tr>\n",
              "      <td>430</td>\n",
              "      <td>0.278300</td>\n",
              "      <td>0.213807</td>\n",
              "      <td>0.920843</td>\n",
              "    </tr>\n",
              "    <tr>\n",
              "      <td>440</td>\n",
              "      <td>0.217100</td>\n",
              "      <td>0.205252</td>\n",
              "      <td>0.920843</td>\n",
              "    </tr>\n",
              "    <tr>\n",
              "      <td>450</td>\n",
              "      <td>0.238800</td>\n",
              "      <td>0.206967</td>\n",
              "      <td>0.920843</td>\n",
              "    </tr>\n",
              "    <tr>\n",
              "      <td>460</td>\n",
              "      <td>0.189200</td>\n",
              "      <td>0.222232</td>\n",
              "      <td>0.914009</td>\n",
              "    </tr>\n",
              "    <tr>\n",
              "      <td>470</td>\n",
              "      <td>0.151800</td>\n",
              "      <td>0.222506</td>\n",
              "      <td>0.917426</td>\n",
              "    </tr>\n",
              "    <tr>\n",
              "      <td>480</td>\n",
              "      <td>0.159300</td>\n",
              "      <td>0.220342</td>\n",
              "      <td>0.920843</td>\n",
              "    </tr>\n",
              "    <tr>\n",
              "      <td>490</td>\n",
              "      <td>0.222500</td>\n",
              "      <td>0.220730</td>\n",
              "      <td>0.920273</td>\n",
              "    </tr>\n",
              "    <tr>\n",
              "      <td>500</td>\n",
              "      <td>0.166800</td>\n",
              "      <td>0.212053</td>\n",
              "      <td>0.916856</td>\n",
              "    </tr>\n",
              "    <tr>\n",
              "      <td>510</td>\n",
              "      <td>0.214500</td>\n",
              "      <td>0.207233</td>\n",
              "      <td>0.917426</td>\n",
              "    </tr>\n",
              "    <tr>\n",
              "      <td>520</td>\n",
              "      <td>0.092900</td>\n",
              "      <td>0.204326</td>\n",
              "      <td>0.919704</td>\n",
              "    </tr>\n",
              "    <tr>\n",
              "      <td>530</td>\n",
              "      <td>0.243500</td>\n",
              "      <td>0.201791</td>\n",
              "      <td>0.920273</td>\n",
              "    </tr>\n",
              "    <tr>\n",
              "      <td>540</td>\n",
              "      <td>0.134400</td>\n",
              "      <td>0.220167</td>\n",
              "      <td>0.919704</td>\n",
              "    </tr>\n",
              "    <tr>\n",
              "      <td>550</td>\n",
              "      <td>0.137700</td>\n",
              "      <td>0.225381</td>\n",
              "      <td>0.916856</td>\n",
              "    </tr>\n",
              "    <tr>\n",
              "      <td>560</td>\n",
              "      <td>0.191400</td>\n",
              "      <td>0.225390</td>\n",
              "      <td>0.917995</td>\n",
              "    </tr>\n",
              "    <tr>\n",
              "      <td>570</td>\n",
              "      <td>0.217000</td>\n",
              "      <td>0.230250</td>\n",
              "      <td>0.914009</td>\n",
              "    </tr>\n",
              "    <tr>\n",
              "      <td>580</td>\n",
              "      <td>0.168300</td>\n",
              "      <td>0.225961</td>\n",
              "      <td>0.915718</td>\n",
              "    </tr>\n",
              "    <tr>\n",
              "      <td>590</td>\n",
              "      <td>0.133200</td>\n",
              "      <td>0.226441</td>\n",
              "      <td>0.917426</td>\n",
              "    </tr>\n",
              "    <tr>\n",
              "      <td>600</td>\n",
              "      <td>0.174500</td>\n",
              "      <td>0.224693</td>\n",
              "      <td>0.913440</td>\n",
              "    </tr>\n",
              "    <tr>\n",
              "      <td>610</td>\n",
              "      <td>0.096600</td>\n",
              "      <td>0.224963</td>\n",
              "      <td>0.914579</td>\n",
              "    </tr>\n",
              "    <tr>\n",
              "      <td>620</td>\n",
              "      <td>0.184400</td>\n",
              "      <td>0.230305</td>\n",
              "      <td>0.916287</td>\n",
              "    </tr>\n",
              "    <tr>\n",
              "      <td>630</td>\n",
              "      <td>0.166700</td>\n",
              "      <td>0.233926</td>\n",
              "      <td>0.921982</td>\n",
              "    </tr>\n",
              "    <tr>\n",
              "      <td>640</td>\n",
              "      <td>0.137600</td>\n",
              "      <td>0.232147</td>\n",
              "      <td>0.920273</td>\n",
              "    </tr>\n",
              "    <tr>\n",
              "      <td>650</td>\n",
              "      <td>0.132300</td>\n",
              "      <td>0.237447</td>\n",
              "      <td>0.920843</td>\n",
              "    </tr>\n",
              "    <tr>\n",
              "      <td>660</td>\n",
              "      <td>0.116300</td>\n",
              "      <td>0.238437</td>\n",
              "      <td>0.921982</td>\n",
              "    </tr>\n",
              "    <tr>\n",
              "      <td>670</td>\n",
              "      <td>0.106300</td>\n",
              "      <td>0.240803</td>\n",
              "      <td>0.919704</td>\n",
              "    </tr>\n",
              "    <tr>\n",
              "      <td>680</td>\n",
              "      <td>0.097000</td>\n",
              "      <td>0.237021</td>\n",
              "      <td>0.917426</td>\n",
              "    </tr>\n",
              "    <tr>\n",
              "      <td>690</td>\n",
              "      <td>0.179900</td>\n",
              "      <td>0.232897</td>\n",
              "      <td>0.919134</td>\n",
              "    </tr>\n",
              "    <tr>\n",
              "      <td>700</td>\n",
              "      <td>0.134200</td>\n",
              "      <td>0.234715</td>\n",
              "      <td>0.919134</td>\n",
              "    </tr>\n",
              "    <tr>\n",
              "      <td>710</td>\n",
              "      <td>0.134300</td>\n",
              "      <td>0.234873</td>\n",
              "      <td>0.918565</td>\n",
              "    </tr>\n",
              "    <tr>\n",
              "      <td>720</td>\n",
              "      <td>0.174800</td>\n",
              "      <td>0.236490</td>\n",
              "      <td>0.919704</td>\n",
              "    </tr>\n",
              "    <tr>\n",
              "      <td>730</td>\n",
              "      <td>0.077000</td>\n",
              "      <td>0.246489</td>\n",
              "      <td>0.920273</td>\n",
              "    </tr>\n",
              "    <tr>\n",
              "      <td>740</td>\n",
              "      <td>0.191200</td>\n",
              "      <td>0.242767</td>\n",
              "      <td>0.919134</td>\n",
              "    </tr>\n",
              "    <tr>\n",
              "      <td>750</td>\n",
              "      <td>0.145000</td>\n",
              "      <td>0.239478</td>\n",
              "      <td>0.919704</td>\n",
              "    </tr>\n",
              "    <tr>\n",
              "      <td>760</td>\n",
              "      <td>0.219400</td>\n",
              "      <td>0.236302</td>\n",
              "      <td>0.919704</td>\n",
              "    </tr>\n",
              "    <tr>\n",
              "      <td>770</td>\n",
              "      <td>0.112600</td>\n",
              "      <td>0.236056</td>\n",
              "      <td>0.919704</td>\n",
              "    </tr>\n",
              "  </tbody>\n",
              "</table><p>"
            ],
            "text/plain": [
              "<IPython.core.display.HTML object>"
            ]
          },
          "metadata": {
            "tags": []
          }
        },
        {
          "output_type": "stream",
          "text": [
            "***** Running Evaluation *****\n",
            "  Num examples = 1756\n",
            "  Batch size = 20\n",
            "***** Running Evaluation *****\n",
            "  Num examples = 1756\n",
            "  Batch size = 20\n",
            "***** Running Evaluation *****\n",
            "  Num examples = 1756\n",
            "  Batch size = 20\n",
            "***** Running Evaluation *****\n",
            "  Num examples = 1756\n",
            "  Batch size = 20\n",
            "***** Running Evaluation *****\n",
            "  Num examples = 1756\n",
            "  Batch size = 20\n",
            "***** Running Evaluation *****\n",
            "  Num examples = 1756\n",
            "  Batch size = 20\n",
            "***** Running Evaluation *****\n",
            "  Num examples = 1756\n",
            "  Batch size = 20\n",
            "***** Running Evaluation *****\n",
            "  Num examples = 1756\n",
            "  Batch size = 20\n",
            "***** Running Evaluation *****\n",
            "  Num examples = 1756\n",
            "  Batch size = 20\n",
            "***** Running Evaluation *****\n",
            "  Num examples = 1756\n",
            "  Batch size = 20\n",
            "***** Running Evaluation *****\n",
            "  Num examples = 1756\n",
            "  Batch size = 20\n",
            "***** Running Evaluation *****\n",
            "  Num examples = 1756\n",
            "  Batch size = 20\n",
            "***** Running Evaluation *****\n",
            "  Num examples = 1756\n",
            "  Batch size = 20\n",
            "***** Running Evaluation *****\n",
            "  Num examples = 1756\n",
            "  Batch size = 20\n",
            "***** Running Evaluation *****\n",
            "  Num examples = 1756\n",
            "  Batch size = 20\n",
            "***** Running Evaluation *****\n",
            "  Num examples = 1756\n",
            "  Batch size = 20\n",
            "***** Running Evaluation *****\n",
            "  Num examples = 1756\n",
            "  Batch size = 20\n",
            "***** Running Evaluation *****\n",
            "  Num examples = 1756\n",
            "  Batch size = 20\n",
            "***** Running Evaluation *****\n",
            "  Num examples = 1756\n",
            "  Batch size = 20\n",
            "***** Running Evaluation *****\n",
            "  Num examples = 1756\n",
            "  Batch size = 20\n",
            "***** Running Evaluation *****\n",
            "  Num examples = 1756\n",
            "  Batch size = 20\n",
            "***** Running Evaluation *****\n",
            "  Num examples = 1756\n",
            "  Batch size = 20\n",
            "***** Running Evaluation *****\n",
            "  Num examples = 1756\n",
            "  Batch size = 20\n",
            "***** Running Evaluation *****\n",
            "  Num examples = 1756\n",
            "  Batch size = 20\n",
            "***** Running Evaluation *****\n",
            "  Num examples = 1756\n",
            "  Batch size = 20\n",
            "***** Running Evaluation *****\n",
            "  Num examples = 1756\n",
            "  Batch size = 20\n",
            "***** Running Evaluation *****\n",
            "  Num examples = 1756\n",
            "  Batch size = 20\n",
            "***** Running Evaluation *****\n",
            "  Num examples = 1756\n",
            "  Batch size = 20\n",
            "***** Running Evaluation *****\n",
            "  Num examples = 1756\n",
            "  Batch size = 20\n",
            "***** Running Evaluation *****\n",
            "  Num examples = 1756\n",
            "  Batch size = 20\n",
            "***** Running Evaluation *****\n",
            "  Num examples = 1756\n",
            "  Batch size = 20\n",
            "***** Running Evaluation *****\n",
            "  Num examples = 1756\n",
            "  Batch size = 20\n",
            "***** Running Evaluation *****\n",
            "  Num examples = 1756\n",
            "  Batch size = 20\n",
            "***** Running Evaluation *****\n",
            "  Num examples = 1756\n",
            "  Batch size = 20\n",
            "***** Running Evaluation *****\n",
            "  Num examples = 1756\n",
            "  Batch size = 20\n",
            "***** Running Evaluation *****\n",
            "  Num examples = 1756\n",
            "  Batch size = 20\n",
            "***** Running Evaluation *****\n",
            "  Num examples = 1756\n",
            "  Batch size = 20\n",
            "***** Running Evaluation *****\n",
            "  Num examples = 1756\n",
            "  Batch size = 20\n",
            "***** Running Evaluation *****\n",
            "  Num examples = 1756\n",
            "  Batch size = 20\n",
            "***** Running Evaluation *****\n",
            "  Num examples = 1756\n",
            "  Batch size = 20\n",
            "***** Running Evaluation *****\n",
            "  Num examples = 1756\n",
            "  Batch size = 20\n",
            "***** Running Evaluation *****\n",
            "  Num examples = 1756\n",
            "  Batch size = 20\n",
            "***** Running Evaluation *****\n",
            "  Num examples = 1756\n",
            "  Batch size = 20\n",
            "***** Running Evaluation *****\n",
            "  Num examples = 1756\n",
            "  Batch size = 20\n",
            "***** Running Evaluation *****\n",
            "  Num examples = 1756\n",
            "  Batch size = 20\n",
            "***** Running Evaluation *****\n",
            "  Num examples = 1756\n",
            "  Batch size = 20\n",
            "***** Running Evaluation *****\n",
            "  Num examples = 1756\n",
            "  Batch size = 20\n",
            "***** Running Evaluation *****\n",
            "  Num examples = 1756\n",
            "  Batch size = 20\n",
            "***** Running Evaluation *****\n",
            "  Num examples = 1756\n",
            "  Batch size = 20\n",
            "***** Running Evaluation *****\n",
            "  Num examples = 1756\n",
            "  Batch size = 20\n",
            "Saving model checkpoint to ./results/checkpoint-500\n",
            "Configuration saved in ./results/checkpoint-500/config.json\n",
            "Model weights saved in ./results/checkpoint-500/pytorch_model.bin\n",
            "***** Running Evaluation *****\n",
            "  Num examples = 1756\n",
            "  Batch size = 20\n",
            "***** Running Evaluation *****\n",
            "  Num examples = 1756\n",
            "  Batch size = 20\n",
            "***** Running Evaluation *****\n",
            "  Num examples = 1756\n",
            "  Batch size = 20\n",
            "***** Running Evaluation *****\n",
            "  Num examples = 1756\n",
            "  Batch size = 20\n",
            "***** Running Evaluation *****\n",
            "  Num examples = 1756\n",
            "  Batch size = 20\n",
            "***** Running Evaluation *****\n",
            "  Num examples = 1756\n",
            "  Batch size = 20\n",
            "***** Running Evaluation *****\n",
            "  Num examples = 1756\n",
            "  Batch size = 20\n",
            "***** Running Evaluation *****\n",
            "  Num examples = 1756\n",
            "  Batch size = 20\n",
            "***** Running Evaluation *****\n",
            "  Num examples = 1756\n",
            "  Batch size = 20\n",
            "***** Running Evaluation *****\n",
            "  Num examples = 1756\n",
            "  Batch size = 20\n",
            "***** Running Evaluation *****\n",
            "  Num examples = 1756\n",
            "  Batch size = 20\n",
            "***** Running Evaluation *****\n",
            "  Num examples = 1756\n",
            "  Batch size = 20\n",
            "***** Running Evaluation *****\n",
            "  Num examples = 1756\n",
            "  Batch size = 20\n",
            "***** Running Evaluation *****\n",
            "  Num examples = 1756\n",
            "  Batch size = 20\n",
            "***** Running Evaluation *****\n",
            "  Num examples = 1756\n",
            "  Batch size = 20\n",
            "***** Running Evaluation *****\n",
            "  Num examples = 1756\n",
            "  Batch size = 20\n",
            "***** Running Evaluation *****\n",
            "  Num examples = 1756\n",
            "  Batch size = 20\n",
            "***** Running Evaluation *****\n",
            "  Num examples = 1756\n",
            "  Batch size = 20\n",
            "***** Running Evaluation *****\n",
            "  Num examples = 1756\n",
            "  Batch size = 20\n",
            "***** Running Evaluation *****\n",
            "  Num examples = 1756\n",
            "  Batch size = 20\n",
            "***** Running Evaluation *****\n",
            "  Num examples = 1756\n",
            "  Batch size = 20\n",
            "***** Running Evaluation *****\n",
            "  Num examples = 1756\n",
            "  Batch size = 20\n",
            "***** Running Evaluation *****\n",
            "  Num examples = 1756\n",
            "  Batch size = 20\n",
            "***** Running Evaluation *****\n",
            "  Num examples = 1756\n",
            "  Batch size = 20\n",
            "***** Running Evaluation *****\n",
            "  Num examples = 1756\n",
            "  Batch size = 20\n",
            "***** Running Evaluation *****\n",
            "  Num examples = 1756\n",
            "  Batch size = 20\n",
            "***** Running Evaluation *****\n",
            "  Num examples = 1756\n",
            "  Batch size = 20\n",
            "\n",
            "\n",
            "Training completed. Do not forget to share your model on huggingface.co/models =)\n",
            "\n",
            "\n"
          ],
          "name": "stderr"
        },
        {
          "output_type": "execute_result",
          "data": {
            "text/plain": [
              "TrainOutput(global_step=771, training_loss=0.22961021858314595, metrics={'train_runtime': 1330.1023, 'train_samples_per_second': 9.241, 'train_steps_per_second': 0.58, 'total_flos': 2528084053739520.0, 'train_loss': 0.22961021858314595, 'epoch': 3.0})"
            ]
          },
          "metadata": {
            "tags": []
          },
          "execution_count": 29
        }
      ]
    },
    {
      "cell_type": "code",
      "metadata": {
        "colab": {
          "base_uri": "https://localhost:8080/",
          "height": 190
        },
        "id": "QTfJqpRaUnDJ",
        "outputId": "16755879-2173-41ee-e5dc-494e1048cd92"
      },
      "source": [
        "trainer.evaluate()"
      ],
      "execution_count": null,
      "outputs": [
        {
          "output_type": "stream",
          "text": [
            "***** Running Evaluation *****\n",
            "  Num examples = 1756\n",
            "  Batch size = 20\n"
          ],
          "name": "stderr"
        },
        {
          "output_type": "display_data",
          "data": {
            "text/html": [
              "\n",
              "    <div>\n",
              "      \n",
              "      <progress value='88' max='88' style='width:300px; height:20px; vertical-align: middle;'></progress>\n",
              "      [88/88 00:09]\n",
              "    </div>\n",
              "    "
            ],
            "text/plain": [
              "<IPython.core.display.HTML object>"
            ]
          },
          "metadata": {
            "tags": []
          }
        },
        {
          "output_type": "execute_result",
          "data": {
            "text/plain": [
              "{'epoch': 3.0,\n",
              " 'eval_accuracy': 0.9197038724373576,\n",
              " 'eval_loss': 0.23605820536613464,\n",
              " 'eval_runtime': 9.3859,\n",
              " 'eval_samples_per_second': 187.089,\n",
              " 'eval_steps_per_second': 9.376}"
            ]
          },
          "metadata": {
            "tags": []
          },
          "execution_count": 30
        }
      ]
    },
    {
      "cell_type": "code",
      "metadata": {
        "colab": {
          "base_uri": "https://localhost:8080/"
        },
        "id": "9dDmyGw5ZarT",
        "outputId": "9d447137-169f-46d6-83f7-8cf9e5a82bd7"
      },
      "source": [
        "from google.colab import drive\n",
        "drive.mount('/content/drive')"
      ],
      "execution_count": null,
      "outputs": [
        {
          "output_type": "stream",
          "text": [
            "Drive already mounted at /content/drive; to attempt to forcibly remount, call drive.mount(\"/content/drive\", force_remount=True).\n"
          ],
          "name": "stdout"
        }
      ]
    },
    {
      "cell_type": "code",
      "metadata": {
        "id": "c03DJCca7j03",
        "colab": {
          "base_uri": "https://localhost:8080/"
        },
        "outputId": "1806ce2d-57fc-411d-a976-c62eb6db8248"
      },
      "source": [
        "if remove_per_curiam:\n",
        "  trainer.save_model(\"/content/drive/MyDrive/SCOTUS/sc_model_distilbert_clean_sentences_non_percur\")\n",
        "else:\n",
        "  trainer.save_model(\"/content/drive/MyDrive/SCOTUS/sc_model_distilbert_clean_sentences\")"
      ],
      "execution_count": null,
      "outputs": [
        {
          "output_type": "stream",
          "text": [
            "Saving model checkpoint to /content/drive/MyDrive/SCOTUS/sc_model_distilbert_clean_sentences_non_percur\n",
            "Configuration saved in /content/drive/MyDrive/SCOTUS/sc_model_distilbert_clean_sentences_non_percur/config.json\n",
            "Model weights saved in /content/drive/MyDrive/SCOTUS/sc_model_distilbert_clean_sentences_non_percur/pytorch_model.bin\n"
          ],
          "name": "stderr"
        }
      ]
    },
    {
      "cell_type": "markdown",
      "metadata": {
        "id": "igfAxV_wyCGz"
      },
      "source": [
        "# Evaluation"
      ]
    },
    {
      "cell_type": "markdown",
      "metadata": {
        "id": "YBBX7u5x-2Yx"
      },
      "source": [
        "Do the same with the test_dataset:"
      ]
    },
    {
      "cell_type": "code",
      "metadata": {
        "colab": {
          "base_uri": "https://localhost:8080/",
          "height": 88
        },
        "id": "gf19GAAKj_Yu",
        "outputId": "06816c85-d97c-4925-8b26-76b73bee533a"
      },
      "source": [
        "predicted_labels = trainer.predict(test_dataset)"
      ],
      "execution_count": null,
      "outputs": [
        {
          "output_type": "stream",
          "text": [
            "***** Running Prediction *****\n",
            "  Num examples = 1756\n",
            "  Batch size = 20\n"
          ],
          "name": "stderr"
        },
        {
          "output_type": "display_data",
          "data": {
            "text/html": [
              "\n",
              "    <div>\n",
              "      \n",
              "      <progress value='176' max='88' style='width:300px; height:20px; vertical-align: middle;'></progress>\n",
              "      [88/88 01:08]\n",
              "    </div>\n",
              "    "
            ],
            "text/plain": [
              "<IPython.core.display.HTML object>"
            ]
          },
          "metadata": {
            "tags": []
          }
        }
      ]
    },
    {
      "cell_type": "code",
      "metadata": {
        "colab": {
          "base_uri": "https://localhost:8080/"
        },
        "id": "FCLH-O0AlIXb",
        "outputId": "fc4f2f4d-b6fe-4b78-d391-0c0f4a74fc16"
      },
      "source": [
        "predicted_labels.label_ids.shape"
      ],
      "execution_count": null,
      "outputs": [
        {
          "output_type": "execute_result",
          "data": {
            "text/plain": [
              "(1756,)"
            ]
          },
          "metadata": {
            "tags": []
          },
          "execution_count": 34
        }
      ]
    },
    {
      "cell_type": "code",
      "metadata": {
        "colab": {
          "base_uri": "https://localhost:8080/"
        },
        "id": "-75-Ux7xlLda",
        "outputId": "04213876-136a-4520-865f-7e2fcc300dfe"
      },
      "source": [
        "predicted_labels.label_ids[1:10]"
      ],
      "execution_count": null,
      "outputs": [
        {
          "output_type": "execute_result",
          "data": {
            "text/plain": [
              "array([0, 0, 0, 0, 0, 0, 1, 1, 0])"
            ]
          },
          "metadata": {
            "tags": []
          },
          "execution_count": 35
        }
      ]
    },
    {
      "cell_type": "code",
      "metadata": {
        "colab": {
          "base_uri": "https://localhost:8080/"
        },
        "id": "4gUMqw65lnpV",
        "outputId": "e299e6df-3692-4972-8d28-1e7b47a41088"
      },
      "source": [
        "actual_predicted_labels = predicted_labels.predictions.argmax(-1)\n",
        "len(actual_predicted_labels)"
      ],
      "execution_count": null,
      "outputs": [
        {
          "output_type": "execute_result",
          "data": {
            "text/plain": [
              "1756"
            ]
          },
          "metadata": {
            "tags": []
          },
          "execution_count": 36
        }
      ]
    },
    {
      "cell_type": "code",
      "metadata": {
        "colab": {
          "base_uri": "https://localhost:8080/"
        },
        "id": "64y2Ai35l9SN",
        "outputId": "cd68aa53-683e-4a8b-bb4b-11899ae414b3"
      },
      "source": [
        "precision_recall_fscore_support(predicted_labels.label_ids.flatten(), actual_predicted_labels.flatten()) #, average='micro')"
      ],
      "execution_count": null,
      "outputs": [
        {
          "output_type": "execute_result",
          "data": {
            "text/plain": [
              "(array([0.93923481, 0.85815603]),\n",
              " array([0.95426829, 0.81756757]),\n",
              " array([0.94669187, 0.83737024]),\n",
              " array([1312,  444]))"
            ]
          },
          "metadata": {
            "tags": []
          },
          "execution_count": 37
        }
      ]
    },
    {
      "cell_type": "code",
      "metadata": {
        "colab": {
          "base_uri": "https://localhost:8080/"
        },
        "id": "QkVM68OVmbi1",
        "outputId": "8ae25336-005a-4ca5-d972-0b5b522a4f66"
      },
      "source": [
        "from sklearn.metrics import classification_report\n",
        "class_report = classification_report(predicted_labels.label_ids.flatten(), actual_predicted_labels.flatten(), output_dict=True)\n",
        "print(classification_report(predicted_labels.label_ids.flatten(), actual_predicted_labels.flatten()))"
      ],
      "execution_count": null,
      "outputs": [
        {
          "output_type": "stream",
          "text": [
            "              precision    recall  f1-score   support\n",
            "\n",
            "           0       0.94      0.95      0.95      1312\n",
            "           1       0.86      0.82      0.84       444\n",
            "\n",
            "    accuracy                           0.92      1756\n",
            "   macro avg       0.90      0.89      0.89      1756\n",
            "weighted avg       0.92      0.92      0.92      1756\n",
            "\n"
          ],
          "name": "stdout"
        }
      ]
    },
    {
      "cell_type": "code",
      "metadata": {
        "id": "BJ4v20pND_Ad"
      },
      "source": [
        "class_report_df = pd.DataFrame(class_report).transpose()\n",
        "class_report_df.to_csv(\"/content/drive/MyDrive/SCOTUS/class_report_3\", index= True)"
      ],
      "execution_count": null,
      "outputs": []
    },
    {
      "cell_type": "code",
      "metadata": {
        "id": "WAPPRO6_Eauy"
      },
      "source": [
        ""
      ],
      "execution_count": null,
      "outputs": []
    },
    {
      "cell_type": "markdown",
      "metadata": {
        "id": "KFxeEM9EEX7p"
      },
      "source": [
        "## Confusion Matrix"
      ]
    },
    {
      "cell_type": "code",
      "metadata": {
        "id": "dYid_wbNcRIr",
        "colab": {
          "base_uri": "https://localhost:8080/",
          "height": 387
        },
        "outputId": "74f3dd31-b3b4-4e34-db10-f016af34d3b9"
      },
      "source": [
        "from sklearn import metrics\n",
        "import seaborn as sns\n",
        "import matplotlib.pyplot as plt\n",
        "# Confusion Matrix\n",
        "confusion_m = metrics.confusion_matrix(predicted_labels.label_ids.flatten(), actual_predicted_labels.flatten())\n",
        "sns.set(font_scale=2)\n",
        "fig, ax = plt.subplots(figsize=(10,6))\n",
        "labels = [\"True Neg\",\"False Pos\",\"False Neg\",\"True Pos\"]\n",
        "labels = np.asarray(labels).reshape(2,2)\n",
        "sns.heatmap(ax = ax, data = confusion_m, annot=labels, fmt=\"\", cmap=\"Blues\");"
      ],
      "execution_count": null,
      "outputs": [
        {
          "output_type": "display_data",
          "data": {
            "image/png": "[encoded data removed]",
            "text/plain": [
              "<Figure size 720x432 with 2 Axes>"
            ]
          },
          "metadata": {
            "tags": []
          }
        }
      ]
    },
    {
      "cell_type": "markdown",
      "metadata": {
        "id": "zlIPaZxowGQ7"
      },
      "source": [
        "# Predictions"
      ]
    },
    {
      "cell_type": "code",
      "metadata": {
        "id": "nq8ZMND7a0oY"
      },
      "source": [
        "val_results = list(zip(predicted_labels.label_ids, actual_predicted_labels, val_texts))\n",
        "val_results = pd.DataFrame(val_results, columns=['Predicted', 'Actual','Text'])"
      ],
      "execution_count": null,
      "outputs": []
    },
    {
      "cell_type": "code",
      "metadata": {
        "id": "SLQP8cP61js5",
        "colab": {
          "base_uri": "https://localhost:8080/",
          "height": 444
        },
        "outputId": "a8731ce7-897c-4d39-90c3-9600462e5f82"
      },
      "source": [
        "val_results.head(10)"
      ],
      "execution_count": null,
      "outputs": [
        {
          "output_type": "execute_result",
          "data": {
            "text/html": [
              "<div>\n",
              "<style scoped>\n",
              "    .dataframe tbody tr th:only-of-type {\n",
              "        vertical-align: middle;\n",
              "    }\n",
              "\n",
              "    .dataframe tbody tr th {\n",
              "        vertical-align: top;\n",
              "    }\n",
              "\n",
              "    .dataframe thead th {\n",
              "        text-align: right;\n",
              "    }\n",
              "</style>\n",
              "<table border=\"1\" class=\"dataframe\">\n",
              "  <thead>\n",
              "    <tr style=\"text-align: right;\">\n",
              "      <th></th>\n",
              "      <th>Predicted</th>\n",
              "      <th>Actual</th>\n",
              "      <th>Text</th>\n",
              "    </tr>\n",
              "  </thead>\n",
              "  <tbody>\n",
              "    <tr>\n",
              "      <th>0</th>\n",
              "      <td>0</td>\n",
              "      <td>0</td>\n",
              "      <td>This case involves a “matter of sovereign interest”—the equita ble apportionment of water—and the States therefore “properly represent” the shared interests in water of “all” their citizens, inclu...</td>\n",
              "    </tr>\n",
              "    <tr>\n",
              "      <th>1</th>\n",
              "      <td>0</td>\n",
              "      <td>0</td>\n",
              "      <td>Any other construction would be illogical and disrespectful of the plain congressional purpose in amending § 7, because it would create a large loophole in a statute designed to close a loophole.</td>\n",
              "    </tr>\n",
              "    <tr>\n",
              "      <th>2</th>\n",
              "      <td>0</td>\n",
              "      <td>0</td>\n",
              "      <td>at 89, the Court's judgment did not rest on that point, and in no way purported to hold that statements with such an attribute were presumptively admissible.</td>\n",
              "    </tr>\n",
              "    <tr>\n",
              "      <th>3</th>\n",
              "      <td>0</td>\n",
              "      <td>0</td>\n",
              "      <td>The floor debates and the House Report on the proposed legislation clearly reveal, as at least one commentator has noted, that \"Congress fully understood the narrow scope given to the commerce cla...</td>\n",
              "    </tr>\n",
              "    <tr>\n",
              "      <th>4</th>\n",
              "      <td>0</td>\n",
              "      <td>0</td>\n",
              "      <td>The Court held in Speiser that *178 the defect in the California procedure was not only that the applicant bore the final burden of persuasion but that \"when the constitutional right to speak is s...</td>\n",
              "    </tr>\n",
              "    <tr>\n",
              "      <th>5</th>\n",
              "      <td>0</td>\n",
              "      <td>0</td>\n",
              "      <td>High fundraising costs, without more, do not establish fraud.</td>\n",
              "    </tr>\n",
              "    <tr>\n",
              "      <th>6</th>\n",
              "      <td>1</td>\n",
              "      <td>1</td>\n",
              "      <td>B We move on to respondent's collateral-estoppel argument.</td>\n",
              "    </tr>\n",
              "    <tr>\n",
              "      <th>7</th>\n",
              "      <td>0</td>\n",
              "      <td>0</td>\n",
              "      <td>Article IV provides that the “United States shall guarantee to every State in this Union a Republican Form of Government, and shall protect each of them against Invasion; and on Application of the...</td>\n",
              "    </tr>\n",
              "    <tr>\n",
              "      <th>8</th>\n",
              "      <td>0</td>\n",
              "      <td>0</td>\n",
              "      <td>Mount Ephraim is a small community on the periphery of two major urban centers where this kind of entertainment may be found acceptable.</td>\n",
              "    </tr>\n",
              "    <tr>\n",
              "      <th>9</th>\n",
              "      <td>0</td>\n",
              "      <td>0</td>\n",
              "      <td>*241 By its terms, the Commission's averment of \"reason to believe\" that Socal was violating the Act is not a definitive statement of position.</td>\n",
              "    </tr>\n",
              "  </tbody>\n",
              "</table>\n",
              "</div>"
            ],
            "text/plain": [
              "   Predicted  ...                                                                                                                                                                                                     Text\n",
              "0          0  ...  This case involves a “matter of sovereign interest”—the equita ble apportionment of water—and the States therefore “properly represent” the shared interests in water of “all” their citizens, inclu...\n",
              "1          0  ...      Any other construction would be illogical and disrespectful of the plain congressional purpose in amending § 7, because it would create a large loophole in a statute designed to close a loophole.\n",
              "2          0  ...                                            at 89, the Court's judgment did not rest on that point, and in no way purported to hold that statements with such an attribute were presumptively admissible.\n",
              "3          0  ...  The floor debates and the House Report on the proposed legislation clearly reveal, as at least one commentator has noted, that \"Congress fully understood the narrow scope given to the commerce cla...\n",
              "4          0  ...  The Court held in Speiser that *178 the defect in the California procedure was not only that the applicant bore the final burden of persuasion but that \"when the constitutional right to speak is s...\n",
              "5          0  ...                                                                                                                                            High fundraising costs, without more, do not establish fraud.\n",
              "6          1  ...                                                                                                                                               B We move on to respondent's collateral-estoppel argument.\n",
              "7          0  ...  Article IV provides that the “United States shall guarantee to every State in this Union a Republican Form of Government, and shall protect each of them against Invasion; and on Application of the...\n",
              "8          0  ...                                                                 Mount Ephraim is a small community on the periphery of two major urban centers where this kind of entertainment may be found acceptable.\n",
              "9          0  ...                                                          *241 By its terms, the Commission's averment of \"reason to believe\" that Socal was violating the Act is not a definitive statement of position.\n",
              "\n",
              "[10 rows x 3 columns]"
            ]
          },
          "metadata": {
            "tags": []
          },
          "execution_count": 46
        }
      ]
    },
    {
      "cell_type": "code",
      "metadata": {
        "id": "Xrre3Okgclm5"
      },
      "source": [
        "correct = val_results[val_results[\"Predicted\"]==val_results[\"Actual\"]]"
      ],
      "execution_count": null,
      "outputs": []
    },
    {
      "cell_type": "code",
      "metadata": {
        "id": "Bjv1w_ifcaac",
        "colab": {
          "base_uri": "https://localhost:8080/",
          "height": 461
        },
        "outputId": "7342efad-f563-4eb9-ef51-6189fb5ac416"
      },
      "source": [
        "# True Positives\n",
        "correct[correct[\"Actual\"] == 1].head(10)"
      ],
      "execution_count": null,
      "outputs": [
        {
          "output_type": "execute_result",
          "data": {
            "text/html": [
              "<div>\n",
              "<style scoped>\n",
              "    .dataframe tbody tr th:only-of-type {\n",
              "        vertical-align: middle;\n",
              "    }\n",
              "\n",
              "    .dataframe tbody tr th {\n",
              "        vertical-align: top;\n",
              "    }\n",
              "\n",
              "    .dataframe thead th {\n",
              "        text-align: right;\n",
              "    }\n",
              "</style>\n",
              "<table border=\"1\" class=\"dataframe\">\n",
              "  <thead>\n",
              "    <tr style=\"text-align: right;\">\n",
              "      <th></th>\n",
              "      <th>Predicted</th>\n",
              "      <th>Actual</th>\n",
              "      <th>Text</th>\n",
              "    </tr>\n",
              "  </thead>\n",
              "  <tbody>\n",
              "    <tr>\n",
              "      <th>6</th>\n",
              "      <td>1</td>\n",
              "      <td>1</td>\n",
              "      <td>B We move on to respondent's collateral-estoppel argument.</td>\n",
              "    </tr>\n",
              "    <tr>\n",
              "      <th>18</th>\n",
              "      <td>1</td>\n",
              "      <td>1</td>\n",
              "      <td>I would base the reversal on Boyd v. United States, 116 U.S. 616, or, in the alternative, I would overrule the five-to-four decision of Brown v. Walker, 161 U.S. 591, and adopt the view of the min...</td>\n",
              "    </tr>\n",
              "    <tr>\n",
              "      <th>20</th>\n",
              "      <td>1</td>\n",
              "      <td>1</td>\n",
              "      <td>Rather, we concluded that Congress enacted the FDCA “to bolster consumer protection against harmful products;” that Congress provided no “federal remedy for consumers harmed by unsafe or ineffecti...</td>\n",
              "    </tr>\n",
              "    <tr>\n",
              "      <th>22</th>\n",
              "      <td>1</td>\n",
              "      <td>1</td>\n",
              "      <td>When the courts are flooded with litigation under that most unmanageable of standards (Branti) brought by that most persistent and tenacious of suitors (the disappointed officeseeker) we may be mo...</td>\n",
              "    </tr>\n",
              "    <tr>\n",
              "      <th>23</th>\n",
              "      <td>1</td>\n",
              "      <td>1</td>\n",
              "      <td>12 *597 Our former decisions interpretative of the Communications Act furnish a basis for examining this question.</td>\n",
              "    </tr>\n",
              "    <tr>\n",
              "      <th>25</th>\n",
              "      <td>1</td>\n",
              "      <td>1</td>\n",
              "      <td>We do not think it is necessary to relate the details of the proposal.</td>\n",
              "    </tr>\n",
              "    <tr>\n",
              "      <th>32</th>\n",
              "      <td>1</td>\n",
              "      <td>1</td>\n",
              "      <td>In sum, I would simply hold that there is no constitu tional right to “informational privacy.” Besides being consistent with constitutional text and tradition, this view has the attractive benefit...</td>\n",
              "    </tr>\n",
              "    <tr>\n",
              "      <th>37</th>\n",
              "      <td>1</td>\n",
              "      <td>1</td>\n",
              "      <td>I also agree that Florida may not base its employment decisions, as to state teachers or any other hiring category, on an applicant's willingness vel non to affirm \"that I do not believe in the ov...</td>\n",
              "    </tr>\n",
              "    <tr>\n",
              "      <th>49</th>\n",
              "      <td>1</td>\n",
              "      <td>1</td>\n",
              "      <td>As we have indicated above, however, the airline ticket transaction in this case is not a \"deduction from\" Matise's wages, but rather is itself a partial payment of wages.</td>\n",
              "    </tr>\n",
              "    <tr>\n",
              "      <th>56</th>\n",
              "      <td>1</td>\n",
              "      <td>1</td>\n",
              "      <td>THE CHIEF JUSTICE and I further asserted that the enforcement of this rule should be committed to the state and federal courts whose judgments made pursuant to the Roth rule we would accept, limit...</td>\n",
              "    </tr>\n",
              "  </tbody>\n",
              "</table>\n",
              "</div>"
            ],
            "text/plain": [
              "    Predicted  ...                                                                                                                                                                                                     Text\n",
              "6           1  ...                                                                                                                                               B We move on to respondent's collateral-estoppel argument.\n",
              "18          1  ...  I would base the reversal on Boyd v. United States, 116 U.S. 616, or, in the alternative, I would overrule the five-to-four decision of Brown v. Walker, 161 U.S. 591, and adopt the view of the min...\n",
              "20          1  ...  Rather, we concluded that Congress enacted the FDCA “to bolster consumer protection against harmful products;” that Congress provided no “federal remedy for consumers harmed by unsafe or ineffecti...\n",
              "22          1  ...  When the courts are flooded with litigation under that most unmanageable of standards (Branti) brought by that most persistent and tenacious of suitors (the disappointed officeseeker) we may be mo...\n",
              "23          1  ...                                                                                       12 *597 Our former decisions interpretative of the Communications Act furnish a basis for examining this question.\n",
              "25          1  ...                                                                                                                                   We do not think it is necessary to relate the details of the proposal.\n",
              "32          1  ...  In sum, I would simply hold that there is no constitu tional right to “informational privacy.” Besides being consistent with constitutional text and tradition, this view has the attractive benefit...\n",
              "37          1  ...  I also agree that Florida may not base its employment decisions, as to state teachers or any other hiring category, on an applicant's willingness vel non to affirm \"that I do not believe in the ov...\n",
              "49          1  ...                              As we have indicated above, however, the airline ticket transaction in this case is not a \"deduction from\" Matise's wages, but rather is itself a partial payment of wages.\n",
              "56          1  ...  THE CHIEF JUSTICE and I further asserted that the enforcement of this rule should be committed to the state and federal courts whose judgments made pursuant to the Roth rule we would accept, limit...\n",
              "\n",
              "[10 rows x 3 columns]"
            ]
          },
          "metadata": {
            "tags": []
          },
          "execution_count": 54
        }
      ]
    },
    {
      "cell_type": "code",
      "metadata": {
        "id": "AVgN8_LLcchM",
        "colab": {
          "base_uri": "https://localhost:8080/",
          "height": 461
        },
        "outputId": "f0ad90ac-6f00-4fae-85a2-b12b71471bdb"
      },
      "source": [
        "# True Negatives\n",
        "correct[correct[\"Actual\"] == 0].head(10)"
      ],
      "execution_count": null,
      "outputs": [
        {
          "output_type": "execute_result",
          "data": {
            "text/html": [
              "<div>\n",
              "<style scoped>\n",
              "    .dataframe tbody tr th:only-of-type {\n",
              "        vertical-align: middle;\n",
              "    }\n",
              "\n",
              "    .dataframe tbody tr th {\n",
              "        vertical-align: top;\n",
              "    }\n",
              "\n",
              "    .dataframe thead th {\n",
              "        text-align: right;\n",
              "    }\n",
              "</style>\n",
              "<table border=\"1\" class=\"dataframe\">\n",
              "  <thead>\n",
              "    <tr style=\"text-align: right;\">\n",
              "      <th></th>\n",
              "      <th>Predicted</th>\n",
              "      <th>Actual</th>\n",
              "      <th>Text</th>\n",
              "    </tr>\n",
              "  </thead>\n",
              "  <tbody>\n",
              "    <tr>\n",
              "      <th>0</th>\n",
              "      <td>0</td>\n",
              "      <td>0</td>\n",
              "      <td>This case involves a “matter of sovereign interest”—the equita ble apportionment of water—and the States therefore “properly represent” the shared interests in water of “all” their citizens, inclu...</td>\n",
              "    </tr>\n",
              "    <tr>\n",
              "      <th>1</th>\n",
              "      <td>0</td>\n",
              "      <td>0</td>\n",
              "      <td>Any other construction would be illogical and disrespectful of the plain congressional purpose in amending § 7, because it would create a large loophole in a statute designed to close a loophole.</td>\n",
              "    </tr>\n",
              "    <tr>\n",
              "      <th>2</th>\n",
              "      <td>0</td>\n",
              "      <td>0</td>\n",
              "      <td>at 89, the Court's judgment did not rest on that point, and in no way purported to hold that statements with such an attribute were presumptively admissible.</td>\n",
              "    </tr>\n",
              "    <tr>\n",
              "      <th>3</th>\n",
              "      <td>0</td>\n",
              "      <td>0</td>\n",
              "      <td>The floor debates and the House Report on the proposed legislation clearly reveal, as at least one commentator has noted, that \"Congress fully understood the narrow scope given to the commerce cla...</td>\n",
              "    </tr>\n",
              "    <tr>\n",
              "      <th>4</th>\n",
              "      <td>0</td>\n",
              "      <td>0</td>\n",
              "      <td>The Court held in Speiser that *178 the defect in the California procedure was not only that the applicant bore the final burden of persuasion but that \"when the constitutional right to speak is s...</td>\n",
              "    </tr>\n",
              "    <tr>\n",
              "      <th>5</th>\n",
              "      <td>0</td>\n",
              "      <td>0</td>\n",
              "      <td>High fundraising costs, without more, do not establish fraud.</td>\n",
              "    </tr>\n",
              "    <tr>\n",
              "      <th>7</th>\n",
              "      <td>0</td>\n",
              "      <td>0</td>\n",
              "      <td>Article IV provides that the “United States shall guarantee to every State in this Union a Republican Form of Government, and shall protect each of them against Invasion; and on Application of the...</td>\n",
              "    </tr>\n",
              "    <tr>\n",
              "      <th>8</th>\n",
              "      <td>0</td>\n",
              "      <td>0</td>\n",
              "      <td>Mount Ephraim is a small community on the periphery of two major urban centers where this kind of entertainment may be found acceptable.</td>\n",
              "    </tr>\n",
              "    <tr>\n",
              "      <th>9</th>\n",
              "      <td>0</td>\n",
              "      <td>0</td>\n",
              "      <td>*241 By its terms, the Commission's averment of \"reason to believe\" that Socal was violating the Act is not a definitive statement of position.</td>\n",
              "    </tr>\n",
              "    <tr>\n",
              "      <th>10</th>\n",
              "      <td>0</td>\n",
              "      <td>0</td>\n",
              "      <td>In that circumstance, —————— news to the Taylor, Shepard, and Johnson Courts: All those decisions rested on the explicit premise that the laws “contained statutory phrases that cover several diffe...</td>\n",
              "    </tr>\n",
              "  </tbody>\n",
              "</table>\n",
              "</div>"
            ],
            "text/plain": [
              "    Predicted  ...                                                                                                                                                                                                     Text\n",
              "0           0  ...  This case involves a “matter of sovereign interest”—the equita ble apportionment of water—and the States therefore “properly represent” the shared interests in water of “all” their citizens, inclu...\n",
              "1           0  ...      Any other construction would be illogical and disrespectful of the plain congressional purpose in amending § 7, because it would create a large loophole in a statute designed to close a loophole.\n",
              "2           0  ...                                            at 89, the Court's judgment did not rest on that point, and in no way purported to hold that statements with such an attribute were presumptively admissible.\n",
              "3           0  ...  The floor debates and the House Report on the proposed legislation clearly reveal, as at least one commentator has noted, that \"Congress fully understood the narrow scope given to the commerce cla...\n",
              "4           0  ...  The Court held in Speiser that *178 the defect in the California procedure was not only that the applicant bore the final burden of persuasion but that \"when the constitutional right to speak is s...\n",
              "5           0  ...                                                                                                                                            High fundraising costs, without more, do not establish fraud.\n",
              "7           0  ...  Article IV provides that the “United States shall guarantee to every State in this Union a Republican Form of Government, and shall protect each of them against Invasion; and on Application of the...\n",
              "8           0  ...                                                                 Mount Ephraim is a small community on the periphery of two major urban centers where this kind of entertainment may be found acceptable.\n",
              "9           0  ...                                                          *241 By its terms, the Commission's averment of \"reason to believe\" that Socal was violating the Act is not a definitive statement of position.\n",
              "10          0  ...  In that circumstance, —————— news to the Taylor, Shepard, and Johnson Courts: All those decisions rested on the explicit premise that the laws “contained statutory phrases that cover several diffe...\n",
              "\n",
              "[10 rows x 3 columns]"
            ]
          },
          "metadata": {
            "tags": []
          },
          "execution_count": 55
        }
      ]
    },
    {
      "cell_type": "code",
      "metadata": {
        "id": "H8y1DZbC23w0"
      },
      "source": [
        "errors = val_results[val_results[\"Predicted\"]!=val_results[\"Actual\"]]"
      ],
      "execution_count": null,
      "outputs": []
    },
    {
      "cell_type": "code",
      "metadata": {
        "id": "fYU9qrppcPjE",
        "colab": {
          "base_uri": "https://localhost:8080/",
          "height": 461
        },
        "outputId": "37018ba9-9e37-4a23-fc36-f1bb5666ba1d"
      },
      "source": [
        "# False Positives\n",
        "errors[errors[\"Predicted\"] == 1].head(10)"
      ],
      "execution_count": null,
      "outputs": [
        {
          "output_type": "execute_result",
          "data": {
            "text/html": [
              "<div>\n",
              "<style scoped>\n",
              "    .dataframe tbody tr th:only-of-type {\n",
              "        vertical-align: middle;\n",
              "    }\n",
              "\n",
              "    .dataframe tbody tr th {\n",
              "        vertical-align: top;\n",
              "    }\n",
              "\n",
              "    .dataframe thead th {\n",
              "        text-align: right;\n",
              "    }\n",
              "</style>\n",
              "<table border=\"1\" class=\"dataframe\">\n",
              "  <thead>\n",
              "    <tr style=\"text-align: right;\">\n",
              "      <th></th>\n",
              "      <th>Predicted</th>\n",
              "      <th>Actual</th>\n",
              "      <th>Text</th>\n",
              "    </tr>\n",
              "  </thead>\n",
              "  <tbody>\n",
              "    <tr>\n",
              "      <th>50</th>\n",
              "      <td>1</td>\n",
              "      <td>0</td>\n",
              "      <td>The Court nonetheless concludes that Myers' questions about the effect of petitioner's personnel policies on employee morale and overall work performance are not \"of public import in evaluating th...</td>\n",
              "    </tr>\n",
              "    <tr>\n",
              "      <th>60</th>\n",
              "      <td>1</td>\n",
              "      <td>0</td>\n",
              "      <td>As the Court makes clear, the Eighth Amendment prohibits the unnecessary and wanton infliction of \"pain,\" rather than \"injury.\"</td>\n",
              "    </tr>\n",
              "    <tr>\n",
              "      <th>75</th>\n",
              "      <td>1</td>\n",
              "      <td>0</td>\n",
              "      <td>It could not be more clear that Farah's policy of excluding aliens is de facto a policy of preferring those who were born in this country.</td>\n",
              "    </tr>\n",
              "    <tr>\n",
              "      <th>113</th>\n",
              "      <td>1</td>\n",
              "      <td>0</td>\n",
              "      <td>Under the \"fair warning\" rationale the Court adopts today, there was, and is, no such constitutional barrier.</td>\n",
              "    </tr>\n",
              "    <tr>\n",
              "      <th>118</th>\n",
              "      <td>1</td>\n",
              "      <td>0</td>\n",
              "      <td>2 The Court justifies affirming the release of Pearce in this language: \"In order to assure the absence of such a motivation, we have concluded that whenever a judge imposes a more severe sentence...</td>\n",
              "    </tr>\n",
              "    <tr>\n",
              "      <th>132</th>\n",
              "      <td>1</td>\n",
              "      <td>0</td>\n",
              "      <td>Respondent has shown us no \"obvious and appreciable\" injury to the borrowing power of the United States Government as a result of Nebraska's taxation of the repo income earned by the Trusts.</td>\n",
              "    </tr>\n",
              "    <tr>\n",
              "      <th>154</th>\n",
              "      <td>1</td>\n",
              "      <td>0</td>\n",
              "      <td>35 Congress thereby indicated its firm intention to leave monitoring of the equitable injunctive process to the courts of appeals in the first instance, and to reserve mandatory direct Supreme Cou...</td>\n",
              "    </tr>\n",
              "    <tr>\n",
              "      <th>183</th>\n",
              "      <td>1</td>\n",
              "      <td>0</td>\n",
              "      <td>In those circumstances, as the majority suggests, the agency may be able to support an expert’s testimony in ways other than by providing underlying data, such as by offering a fulsome description...</td>\n",
              "    </tr>\n",
              "    <tr>\n",
              "      <th>204</th>\n",
              "      <td>1</td>\n",
              "      <td>0</td>\n",
              "      <td>To determine whether exigent 12                MITCHELL v. WISCONSIN                     SOTOMAYOR, J., dissenting  circumstances justify a warrantless search, the Court “looks to the totality of ...</td>\n",
              "    </tr>\n",
              "    <tr>\n",
              "      <th>221</th>\n",
              "      <td>1</td>\n",
              "      <td>0</td>\n",
              "      <td>Even though the State's law is not conclusive with regard to the attitudes of the local community on obscenity, nothing we have said is designed to imply that the Iowa statute should not have been...</td>\n",
              "    </tr>\n",
              "  </tbody>\n",
              "</table>\n",
              "</div>"
            ],
            "text/plain": [
              "     Predicted  ...                                                                                                                                                                                                     Text\n",
              "50           1  ...  The Court nonetheless concludes that Myers' questions about the effect of petitioner's personnel policies on employee morale and overall work performance are not \"of public import in evaluating th...\n",
              "60           1  ...                                                                          As the Court makes clear, the Eighth Amendment prohibits the unnecessary and wanton infliction of \"pain,\" rather than \"injury.\"\n",
              "75           1  ...                                                               It could not be more clear that Farah's policy of excluding aliens is de facto a policy of preferring those who were born in this country.\n",
              "113          1  ...                                                                                            Under the \"fair warning\" rationale the Court adopts today, there was, and is, no such constitutional barrier.\n",
              "118          1  ...  2 The Court justifies affirming the release of Pearce in this language: \"In order to assure the absence of such a motivation, we have concluded that whenever a judge imposes a more severe sentence...\n",
              "132          1  ...           Respondent has shown us no \"obvious and appreciable\" injury to the borrowing power of the United States Government as a result of Nebraska's taxation of the repo income earned by the Trusts.\n",
              "154          1  ...  35 Congress thereby indicated its firm intention to leave monitoring of the equitable injunctive process to the courts of appeals in the first instance, and to reserve mandatory direct Supreme Cou...\n",
              "183          1  ...  In those circumstances, as the majority suggests, the agency may be able to support an expert’s testimony in ways other than by providing underlying data, such as by offering a fulsome description...\n",
              "204          1  ...  To determine whether exigent 12                MITCHELL v. WISCONSIN                     SOTOMAYOR, J., dissenting  circumstances justify a warrantless search, the Court “looks to the totality of ...\n",
              "221          1  ...  Even though the State's law is not conclusive with regard to the attitudes of the local community on obscenity, nothing we have said is designed to imply that the Iowa statute should not have been...\n",
              "\n",
              "[10 rows x 3 columns]"
            ]
          },
          "metadata": {
            "tags": []
          },
          "execution_count": 57
        }
      ]
    },
    {
      "cell_type": "code",
      "metadata": {
        "id": "1H-25axwcgJo",
        "colab": {
          "base_uri": "https://localhost:8080/",
          "height": 444
        },
        "outputId": "3a10ea3d-5932-423b-bf97-3d76d567deb2"
      },
      "source": [
        "# False Negatives\n",
        "errors[errors[\"Predicted\"] == 0].head(10)"
      ],
      "execution_count": null,
      "outputs": [
        {
          "output_type": "execute_result",
          "data": {
            "text/html": [
              "<div>\n",
              "<style scoped>\n",
              "    .dataframe tbody tr th:only-of-type {\n",
              "        vertical-align: middle;\n",
              "    }\n",
              "\n",
              "    .dataframe tbody tr th {\n",
              "        vertical-align: top;\n",
              "    }\n",
              "\n",
              "    .dataframe thead th {\n",
              "        text-align: right;\n",
              "    }\n",
              "</style>\n",
              "<table border=\"1\" class=\"dataframe\">\n",
              "  <thead>\n",
              "    <tr style=\"text-align: right;\">\n",
              "      <th></th>\n",
              "      <th>Predicted</th>\n",
              "      <th>Actual</th>\n",
              "      <th>Text</th>\n",
              "    </tr>\n",
              "  </thead>\n",
              "  <tbody>\n",
              "    <tr>\n",
              "      <th>19</th>\n",
              "      <td>0</td>\n",
              "      <td>1</td>\n",
              "      <td>And the police power of a State under our constitutional system is adequate for the protection of the civil rights of its citizens against discrimination by reason of race or color.</td>\n",
              "    </tr>\n",
              "    <tr>\n",
              "      <th>45</th>\n",
              "      <td>0</td>\n",
              "      <td>1</td>\n",
              "      <td>Standing in the way is an obstacle, a technicality of little interest to anyone but the people of We the People, who created it as a barrier against judges’ intrusion into their lives.</td>\n",
              "    </tr>\n",
              "    <tr>\n",
              "      <th>46</th>\n",
              "      <td>0</td>\n",
              "      <td>1</td>\n",
              "      <td>Yet only one of them—our Court—is capable, under the Con- stitution, of exercising the Government’s judicial power.</td>\n",
              "    </tr>\n",
              "    <tr>\n",
              "      <th>77</th>\n",
              "      <td>0</td>\n",
              "      <td>1</td>\n",
              "      <td>This Court has specifically upheld this rulemaking authority in the context of regulations based on the Commission's policy of promoting diversification of ownership.</td>\n",
              "    </tr>\n",
              "    <tr>\n",
              "      <th>137</th>\n",
              "      <td>0</td>\n",
              "      <td>1</td>\n",
              "      <td>To conclude, as the Court does, that the transferee court is inexorably designated by the inherent force of the words \"where it might have been brought\" is to state a conclusion that conceals the ...</td>\n",
              "    </tr>\n",
              "    <tr>\n",
              "      <th>158</th>\n",
              "      <td>0</td>\n",
              "      <td>1</td>\n",
              "      <td>This Court was of course aware of the practical pressures of the New York statute as a device to collect debts discharged in bankruptcy; the argument was pressed upon it in the dissent.</td>\n",
              "    </tr>\n",
              "    <tr>\n",
              "      <th>186</th>\n",
              "      <td>0</td>\n",
              "      <td>1</td>\n",
              "      <td>Quite apart from any question of governmental estoppel respecting assertion of the statute of limitations, a contention that is sought to be predicated on the foregoing train of events and circums...</td>\n",
              "    </tr>\n",
              "    <tr>\n",
              "      <th>222</th>\n",
              "      <td>0</td>\n",
              "      <td>1</td>\n",
              "      <td>Although it has been argued that foreseeability of causing injury in another State should be sufficient to establish such contacts there when policy considerations so require,16 the Court has cons...</td>\n",
              "    </tr>\n",
              "    <tr>\n",
              "      <th>249</th>\n",
              "      <td>0</td>\n",
              "      <td>1</td>\n",
              "      <td>The Court concluded: \"In light of history, experience, and the present limitations of human knowledge, we find it quite impossible to say that committing to the untrammeled discretion of the jury ...</td>\n",
              "    </tr>\n",
              "    <tr>\n",
              "      <th>253</th>\n",
              "      <td>0</td>\n",
              "      <td>1</td>\n",
              "      <td>Under this view, the Court's precedents on prisoner \"rights\" bear some reexamination.</td>\n",
              "    </tr>\n",
              "  </tbody>\n",
              "</table>\n",
              "</div>"
            ],
            "text/plain": [
              "     Predicted  ...                                                                                                                                                                                                     Text\n",
              "19           0  ...                    And the police power of a State under our constitutional system is adequate for the protection of the civil rights of its citizens against discrimination by reason of race or color.\n",
              "45           0  ...                 Standing in the way is an obstacle, a technicality of little interest to anyone but the people of We the People, who created it as a barrier against judges’ intrusion into their lives.\n",
              "46           0  ...                                                                                      Yet only one of them—our Court—is capable, under the Con- stitution, of exercising the Government’s judicial power.\n",
              "77           0  ...                                   This Court has specifically upheld this rulemaking authority in the context of regulations based on the Commission's policy of promoting diversification of ownership.\n",
              "137          0  ...  To conclude, as the Court does, that the transferee court is inexorably designated by the inherent force of the words \"where it might have been brought\" is to state a conclusion that conceals the ...\n",
              "158          0  ...                This Court was of course aware of the practical pressures of the New York statute as a device to collect debts discharged in bankruptcy; the argument was pressed upon it in the dissent.\n",
              "186          0  ...  Quite apart from any question of governmental estoppel respecting assertion of the statute of limitations, a contention that is sought to be predicated on the foregoing train of events and circums...\n",
              "222          0  ...  Although it has been argued that foreseeability of causing injury in another State should be sufficient to establish such contacts there when policy considerations so require,16 the Court has cons...\n",
              "249          0  ...  The Court concluded: \"In light of history, experience, and the present limitations of human knowledge, we find it quite impossible to say that committing to the untrammeled discretion of the jury ...\n",
              "253          0  ...                                                                                                                    Under this view, the Court's precedents on prisoner \"rights\" bear some reexamination.\n",
              "\n",
              "[10 rows x 3 columns]"
            ]
          },
          "metadata": {
            "tags": []
          },
          "execution_count": 58
        }
      ]
    },
    {
      "cell_type": "code",
      "metadata": {
        "id": "qm6B1sqI3AfA",
        "colab": {
          "base_uri": "https://localhost:8080/"
        },
        "outputId": "2e5420d7-d60d-47a9-d667-9f2f42e3e2cd"
      },
      "source": [
        "errors.shape"
      ],
      "execution_count": null,
      "outputs": [
        {
          "output_type": "execute_result",
          "data": {
            "text/plain": [
              "(73, 3)"
            ]
          },
          "metadata": {
            "tags": []
          },
          "execution_count": 59
        }
      ]
    },
    {
      "cell_type": "code",
      "metadata": {
        "id": "O5N7k-aU3cuY",
        "colab": {
          "base_uri": "https://localhost:8080/",
          "height": 856
        },
        "outputId": "9e9e00a4-5246-480b-a62a-983715f46f47"
      },
      "source": [
        "errors.head(20)"
      ],
      "execution_count": null,
      "outputs": [
        {
          "output_type": "execute_result",
          "data": {
            "text/html": [
              "<div>\n",
              "<style scoped>\n",
              "    .dataframe tbody tr th:only-of-type {\n",
              "        vertical-align: middle;\n",
              "    }\n",
              "\n",
              "    .dataframe tbody tr th {\n",
              "        vertical-align: top;\n",
              "    }\n",
              "\n",
              "    .dataframe thead th {\n",
              "        text-align: right;\n",
              "    }\n",
              "</style>\n",
              "<table border=\"1\" class=\"dataframe\">\n",
              "  <thead>\n",
              "    <tr style=\"text-align: right;\">\n",
              "      <th></th>\n",
              "      <th>Predicted</th>\n",
              "      <th>Actual</th>\n",
              "      <th>Text</th>\n",
              "    </tr>\n",
              "  </thead>\n",
              "  <tbody>\n",
              "    <tr>\n",
              "      <th>19</th>\n",
              "      <td>0</td>\n",
              "      <td>1</td>\n",
              "      <td>And the police power of a State under our constitutional system is adequate for the protection of the civil rights of its citizens against discrimination by reason of race or color.</td>\n",
              "    </tr>\n",
              "    <tr>\n",
              "      <th>45</th>\n",
              "      <td>0</td>\n",
              "      <td>1</td>\n",
              "      <td>Standing in the way is an obstacle, a technicality of little interest to anyone but the people of We the People, who created it as a barrier against judges’ intrusion into their lives.</td>\n",
              "    </tr>\n",
              "    <tr>\n",
              "      <th>46</th>\n",
              "      <td>0</td>\n",
              "      <td>1</td>\n",
              "      <td>Yet only one of them—our Court—is capable, under the Con- stitution, of exercising the Government’s judicial power.</td>\n",
              "    </tr>\n",
              "    <tr>\n",
              "      <th>50</th>\n",
              "      <td>1</td>\n",
              "      <td>0</td>\n",
              "      <td>The Court nonetheless concludes that Myers' questions about the effect of petitioner's personnel policies on employee morale and overall work performance are not \"of public import in evaluating th...</td>\n",
              "    </tr>\n",
              "    <tr>\n",
              "      <th>60</th>\n",
              "      <td>1</td>\n",
              "      <td>0</td>\n",
              "      <td>As the Court makes clear, the Eighth Amendment prohibits the unnecessary and wanton infliction of \"pain,\" rather than \"injury.\"</td>\n",
              "    </tr>\n",
              "    <tr>\n",
              "      <th>75</th>\n",
              "      <td>1</td>\n",
              "      <td>0</td>\n",
              "      <td>It could not be more clear that Farah's policy of excluding aliens is de facto a policy of preferring those who were born in this country.</td>\n",
              "    </tr>\n",
              "    <tr>\n",
              "      <th>77</th>\n",
              "      <td>0</td>\n",
              "      <td>1</td>\n",
              "      <td>This Court has specifically upheld this rulemaking authority in the context of regulations based on the Commission's policy of promoting diversification of ownership.</td>\n",
              "    </tr>\n",
              "    <tr>\n",
              "      <th>113</th>\n",
              "      <td>1</td>\n",
              "      <td>0</td>\n",
              "      <td>Under the \"fair warning\" rationale the Court adopts today, there was, and is, no such constitutional barrier.</td>\n",
              "    </tr>\n",
              "    <tr>\n",
              "      <th>118</th>\n",
              "      <td>1</td>\n",
              "      <td>0</td>\n",
              "      <td>2 The Court justifies affirming the release of Pearce in this language: \"In order to assure the absence of such a motivation, we have concluded that whenever a judge imposes a more severe sentence...</td>\n",
              "    </tr>\n",
              "    <tr>\n",
              "      <th>132</th>\n",
              "      <td>1</td>\n",
              "      <td>0</td>\n",
              "      <td>Respondent has shown us no \"obvious and appreciable\" injury to the borrowing power of the United States Government as a result of Nebraska's taxation of the repo income earned by the Trusts.</td>\n",
              "    </tr>\n",
              "    <tr>\n",
              "      <th>137</th>\n",
              "      <td>0</td>\n",
              "      <td>1</td>\n",
              "      <td>To conclude, as the Court does, that the transferee court is inexorably designated by the inherent force of the words \"where it might have been brought\" is to state a conclusion that conceals the ...</td>\n",
              "    </tr>\n",
              "    <tr>\n",
              "      <th>154</th>\n",
              "      <td>1</td>\n",
              "      <td>0</td>\n",
              "      <td>35 Congress thereby indicated its firm intention to leave monitoring of the equitable injunctive process to the courts of appeals in the first instance, and to reserve mandatory direct Supreme Cou...</td>\n",
              "    </tr>\n",
              "    <tr>\n",
              "      <th>158</th>\n",
              "      <td>0</td>\n",
              "      <td>1</td>\n",
              "      <td>This Court was of course aware of the practical pressures of the New York statute as a device to collect debts discharged in bankruptcy; the argument was pressed upon it in the dissent.</td>\n",
              "    </tr>\n",
              "    <tr>\n",
              "      <th>183</th>\n",
              "      <td>1</td>\n",
              "      <td>0</td>\n",
              "      <td>In those circumstances, as the majority suggests, the agency may be able to support an expert’s testimony in ways other than by providing underlying data, such as by offering a fulsome description...</td>\n",
              "    </tr>\n",
              "    <tr>\n",
              "      <th>186</th>\n",
              "      <td>0</td>\n",
              "      <td>1</td>\n",
              "      <td>Quite apart from any question of governmental estoppel respecting assertion of the statute of limitations, a contention that is sought to be predicated on the foregoing train of events and circums...</td>\n",
              "    </tr>\n",
              "    <tr>\n",
              "      <th>204</th>\n",
              "      <td>1</td>\n",
              "      <td>0</td>\n",
              "      <td>To determine whether exigent 12                MITCHELL v. WISCONSIN                     SOTOMAYOR, J., dissenting  circumstances justify a warrantless search, the Court “looks to the totality of ...</td>\n",
              "    </tr>\n",
              "    <tr>\n",
              "      <th>221</th>\n",
              "      <td>1</td>\n",
              "      <td>0</td>\n",
              "      <td>Even though the State's law is not conclusive with regard to the attitudes of the local community on obscenity, nothing we have said is designed to imply that the Iowa statute should not have been...</td>\n",
              "    </tr>\n",
              "    <tr>\n",
              "      <th>222</th>\n",
              "      <td>0</td>\n",
              "      <td>1</td>\n",
              "      <td>Although it has been argued that foreseeability of causing injury in another State should be sufficient to establish such contacts there when policy considerations so require,16 the Court has cons...</td>\n",
              "    </tr>\n",
              "    <tr>\n",
              "      <th>249</th>\n",
              "      <td>0</td>\n",
              "      <td>1</td>\n",
              "      <td>The Court concluded: \"In light of history, experience, and the present limitations of human knowledge, we find it quite impossible to say that committing to the untrammeled discretion of the jury ...</td>\n",
              "    </tr>\n",
              "    <tr>\n",
              "      <th>253</th>\n",
              "      <td>0</td>\n",
              "      <td>1</td>\n",
              "      <td>Under this view, the Court's precedents on prisoner \"rights\" bear some reexamination.</td>\n",
              "    </tr>\n",
              "  </tbody>\n",
              "</table>\n",
              "</div>"
            ],
            "text/plain": [
              "     Predicted  ...                                                                                                                                                                                                     Text\n",
              "19           0  ...                    And the police power of a State under our constitutional system is adequate for the protection of the civil rights of its citizens against discrimination by reason of race or color.\n",
              "45           0  ...                 Standing in the way is an obstacle, a technicality of little interest to anyone but the people of We the People, who created it as a barrier against judges’ intrusion into their lives.\n",
              "46           0  ...                                                                                      Yet only one of them—our Court—is capable, under the Con- stitution, of exercising the Government’s judicial power.\n",
              "50           1  ...  The Court nonetheless concludes that Myers' questions about the effect of petitioner's personnel policies on employee morale and overall work performance are not \"of public import in evaluating th...\n",
              "60           1  ...                                                                          As the Court makes clear, the Eighth Amendment prohibits the unnecessary and wanton infliction of \"pain,\" rather than \"injury.\"\n",
              "75           1  ...                                                               It could not be more clear that Farah's policy of excluding aliens is de facto a policy of preferring those who were born in this country.\n",
              "77           0  ...                                   This Court has specifically upheld this rulemaking authority in the context of regulations based on the Commission's policy of promoting diversification of ownership.\n",
              "113          1  ...                                                                                            Under the \"fair warning\" rationale the Court adopts today, there was, and is, no such constitutional barrier.\n",
              "118          1  ...  2 The Court justifies affirming the release of Pearce in this language: \"In order to assure the absence of such a motivation, we have concluded that whenever a judge imposes a more severe sentence...\n",
              "132          1  ...           Respondent has shown us no \"obvious and appreciable\" injury to the borrowing power of the United States Government as a result of Nebraska's taxation of the repo income earned by the Trusts.\n",
              "137          0  ...  To conclude, as the Court does, that the transferee court is inexorably designated by the inherent force of the words \"where it might have been brought\" is to state a conclusion that conceals the ...\n",
              "154          1  ...  35 Congress thereby indicated its firm intention to leave monitoring of the equitable injunctive process to the courts of appeals in the first instance, and to reserve mandatory direct Supreme Cou...\n",
              "158          0  ...                This Court was of course aware of the practical pressures of the New York statute as a device to collect debts discharged in bankruptcy; the argument was pressed upon it in the dissent.\n",
              "183          1  ...  In those circumstances, as the majority suggests, the agency may be able to support an expert’s testimony in ways other than by providing underlying data, such as by offering a fulsome description...\n",
              "186          0  ...  Quite apart from any question of governmental estoppel respecting assertion of the statute of limitations, a contention that is sought to be predicated on the foregoing train of events and circums...\n",
              "204          1  ...  To determine whether exigent 12                MITCHELL v. WISCONSIN                     SOTOMAYOR, J., dissenting  circumstances justify a warrantless search, the Court “looks to the totality of ...\n",
              "221          1  ...  Even though the State's law is not conclusive with regard to the attitudes of the local community on obscenity, nothing we have said is designed to imply that the Iowa statute should not have been...\n",
              "222          0  ...  Although it has been argued that foreseeability of causing injury in another State should be sufficient to establish such contacts there when policy considerations so require,16 the Court has cons...\n",
              "249          0  ...  The Court concluded: \"In light of history, experience, and the present limitations of human knowledge, we find it quite impossible to say that committing to the untrammeled discretion of the jury ...\n",
              "253          0  ...                                                                                                                    Under this view, the Court's precedents on prisoner \"rights\" bear some reexamination.\n",
              "\n",
              "[20 rows x 3 columns]"
            ]
          },
          "metadata": {
            "tags": []
          },
          "execution_count": 60
        }
      ]
    },
    {
      "cell_type": "code",
      "metadata": {
        "id": "cqVcAhe9uchi"
      },
      "source": [
        "from sklearn.model_selection import cross_validate, cross_val_score"
      ],
      "execution_count": null,
      "outputs": []
    },
    {
      "cell_type": "markdown",
      "metadata": {
        "id": "acfCJd3CoQSP"
      },
      "source": [
        "# Baseline Accuracy\n",
        "This is the baseline accuracy of the logistic regression model."
      ]
    },
    {
      "cell_type": "code",
      "metadata": {
        "id": "2Ub5l3Nmocb5",
        "colab": {
          "base_uri": "https://localhost:8080/"
        },
        "outputId": "03dd234e-2e68-48b8-e02f-203891c11d28"
      },
      "source": [
        "from sklearn.feature_extraction.text import TfidfVectorizer\n",
        "import nltk\n",
        "nltk.download('punkt')\n",
        "\n",
        "stop_words=frozenset(['the', 'be', 'to', 'of', 'and', 'a', 'in', 'that', 'have', 'it', 'for', 'not', 'on', 'with', 'as', 'do', 'at', 'this', 'but', 'by', 'from'])\n",
        "\n",
        "# Set up the vectorizer\n",
        "\n",
        "vectorizer = TfidfVectorizer(\n",
        "    encoding='utf-8',\n",
        "    min_df=2, \n",
        "    stop_words=stop_words,\n",
        "    binary=False,\n",
        "    tokenizer=nltk.word_tokenize,\n",
        "    norm='l2',\n",
        "    use_idf=False \n",
        ")\n",
        "\n",
        "X = vectorizer.fit_transform(df.text)\n",
        "y = df.label_num\n",
        "\n",
        "# Classification\n",
        "lr = LogisticRegression()\n"
      ],
      "execution_count": null,
      "outputs": [
        {
          "output_type": "stream",
          "text": [
            "[nltk_data] Downloading package punkt to /root/nltk_data...\n",
            "[nltk_data]   Package punkt is already up-to-date!\n"
          ],
          "name": "stdout"
        }
      ]
    },
    {
      "cell_type": "code",
      "metadata": {
        "id": "9kbllp6EpQH5",
        "colab": {
          "base_uri": "https://localhost:8080/"
        },
        "outputId": "7430e16d-498a-48b6-b810-3488f660cb91"
      },
      "source": [
        "print(X.shape)\n",
        "print(y.shape)"
      ],
      "execution_count": null,
      "outputs": [
        {
          "output_type": "stream",
          "text": [
            "(1998, 3751)\n",
            "(1998,)\n"
          ],
          "name": "stdout"
        }
      ]
    },
    {
      "cell_type": "code",
      "metadata": {
        "id": "3-8Xf47rpzIZ",
        "colab": {
          "base_uri": "https://localhost:8080/"
        },
        "outputId": "b3ccbcf7-a091-42c6-cc02-1c75e8428166"
      },
      "source": [
        "from sklearn.model_selection import cross_val_score, cross_validate\n",
        "scores = cross_validate(lr, X, y, cv=10, scoring=['accuracy', 'f1', 'f1_macro', 'f1_micro'])\n",
        "print(np.mean(scores.get(\"test_f1\")))\n",
        "print(np.mean(scores.get(\"test_accuracy\")))"
      ],
      "execution_count": null,
      "outputs": [
        {
          "output_type": "stream",
          "text": [
            "0.005128205128205127\n",
            "0.8093090452261308\n"
          ],
          "name": "stdout"
        }
      ]
    }
  ]
}