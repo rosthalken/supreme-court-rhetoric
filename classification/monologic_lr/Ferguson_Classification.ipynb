{
 "cells": [
  {
   "cell_type": "markdown",
   "metadata": {},
   "source": [
    "# Ferguson Classification\n",
    "*January 14*\n",
    "\n",
    "First trial run after labeling 2000 sentences"
   ]
  },
  {
   "cell_type": "code",
   "execution_count": 22,
   "metadata": {},
   "outputs": [],
   "source": [
    "import json\n",
    "import pandas as pd\n",
    "from sklearn.feature_extraction.text import TfidfVectorizer\n",
    "from sklearn import linear_model\n",
    "from sklearn.model_selection import cross_validate, cross_val_score, train_test_split, GroupKFold\n",
    "from sklearn.metrics import f1_score, average_precision_score, precision_score, recall_score\n",
    "from sklearn.linear_model import LogisticRegression\n",
    "import numpy as np\n",
    "import matplotlib.pyplot as plt\n",
    "from collections import Counter\n",
    "from sklearn import metrics\n",
    "import seaborn as sn"
   ]
  },
  {
   "cell_type": "markdown",
   "metadata": {},
   "source": [
    "## Monologic Voice"
   ]
  },
  {
   "cell_type": "code",
   "execution_count": 23,
   "metadata": {},
   "outputs": [
    {
     "data": {
      "text/html": [
       "<div>\n",
       "<style scoped>\n",
       "    .dataframe tbody tr th:only-of-type {\n",
       "        vertical-align: middle;\n",
       "    }\n",
       "\n",
       "    .dataframe tbody tr th {\n",
       "        vertical-align: top;\n",
       "    }\n",
       "\n",
       "    .dataframe thead th {\n",
       "        text-align: right;\n",
       "    }\n",
       "</style>\n",
       "<table border=\"1\" class=\"dataframe\">\n",
       "  <thead>\n",
       "    <tr style=\"text-align: right;\">\n",
       "      <th></th>\n",
       "      <th>Unnamed: 0</th>\n",
       "      <th>Unnamed: 0.1</th>\n",
       "      <th>opinion_num</th>\n",
       "      <th>categority</th>\n",
       "      <th>author</th>\n",
       "      <th>case</th>\n",
       "      <th>text</th>\n",
       "      <th>sent_index</th>\n",
       "      <th>length</th>\n",
       "      <th>sent_location</th>\n",
       "      <th>prediction</th>\n",
       "      <th>prob_0</th>\n",
       "      <th>prob_1</th>\n",
       "      <th>_input_hash</th>\n",
       "      <th>_task_hash</th>\n",
       "      <th>label</th>\n",
       "      <th>_session_id</th>\n",
       "      <th>_view_id</th>\n",
       "      <th>answer</th>\n",
       "    </tr>\n",
       "  </thead>\n",
       "  <tbody>\n",
       "    <tr>\n",
       "      <th>0</th>\n",
       "      <td>377463</td>\n",
       "      <td>377463</td>\n",
       "      <td>3642</td>\n",
       "      <td>dissenting</td>\n",
       "      <td>Justice Thomas</td>\n",
       "      <td>Reyes Mata v. Lynch</td>\n",
       "      <td>And they should\\napply the ordinary rule that ...</td>\n",
       "      <td>30</td>\n",
       "      <td>34</td>\n",
       "      <td>0.882353</td>\n",
       "      <td>1</td>\n",
       "      <td>0.485290</td>\n",
       "      <td>0.514710</td>\n",
       "      <td>-1275484070</td>\n",
       "      <td>-689703587</td>\n",
       "      <td>MONOLOGIC</td>\n",
       "      <td>None</td>\n",
       "      <td>classification</td>\n",
       "      <td>reject</td>\n",
       "    </tr>\n",
       "    <tr>\n",
       "      <th>1</th>\n",
       "      <td>953867</td>\n",
       "      <td>953867</td>\n",
       "      <td>8962</td>\n",
       "      <td>majority</td>\n",
       "      <td>Justice Thomas</td>\n",
       "      <td>Professional Real Estate Investors, Inc. v. Co...</td>\n",
       "      <td>The sham exception so construed would undermin...</td>\n",
       "      <td>137</td>\n",
       "      <td>218</td>\n",
       "      <td>0.628440</td>\n",
       "      <td>1</td>\n",
       "      <td>0.337235</td>\n",
       "      <td>0.662765</td>\n",
       "      <td>1819283346</td>\n",
       "      <td>1898932554</td>\n",
       "      <td>MONOLOGIC</td>\n",
       "      <td>None</td>\n",
       "      <td>classification</td>\n",
       "      <td>reject</td>\n",
       "    </tr>\n",
       "    <tr>\n",
       "      <th>2</th>\n",
       "      <td>277192</td>\n",
       "      <td>277192</td>\n",
       "      <td>2673</td>\n",
       "      <td>majority</td>\n",
       "      <td>Justice Burton</td>\n",
       "      <td>Order of United Commercial Travelers of Americ...</td>\n",
       "      <td>The prohibition limiting the time for suing on...</td>\n",
       "      <td>144</td>\n",
       "      <td>295</td>\n",
       "      <td>0.488136</td>\n",
       "      <td>1</td>\n",
       "      <td>0.282745</td>\n",
       "      <td>0.717255</td>\n",
       "      <td>1411906233</td>\n",
       "      <td>-909861218</td>\n",
       "      <td>MONOLOGIC</td>\n",
       "      <td>None</td>\n",
       "      <td>classification</td>\n",
       "      <td>reject</td>\n",
       "    </tr>\n",
       "    <tr>\n",
       "      <th>3</th>\n",
       "      <td>217250</td>\n",
       "      <td>217250</td>\n",
       "      <td>2124</td>\n",
       "      <td>dissenting</td>\n",
       "      <td>Justice Stewart</td>\n",
       "      <td>Simpson v. Union Oil Co. of Cal.</td>\n",
       "      <td>To answer that question, the Court examined th...</td>\n",
       "      <td>21</td>\n",
       "      <td>56</td>\n",
       "      <td>0.375000</td>\n",
       "      <td>1</td>\n",
       "      <td>0.335661</td>\n",
       "      <td>0.664339</td>\n",
       "      <td>-1857841816</td>\n",
       "      <td>-1068803877</td>\n",
       "      <td>MONOLOGIC</td>\n",
       "      <td>None</td>\n",
       "      <td>classification</td>\n",
       "      <td>reject</td>\n",
       "    </tr>\n",
       "    <tr>\n",
       "      <th>4</th>\n",
       "      <td>1417865</td>\n",
       "      <td>1417865</td>\n",
       "      <td>13283</td>\n",
       "      <td>second_dissenting</td>\n",
       "      <td>Justice Ginsburg</td>\n",
       "      <td>DIRECTV, Inc. v. Imburgia</td>\n",
       "      <td>is not a sufficient reason\\nto hold that arbit...</td>\n",
       "      <td>122</td>\n",
       "      <td>174</td>\n",
       "      <td>0.701149</td>\n",
       "      <td>1</td>\n",
       "      <td>0.188354</td>\n",
       "      <td>0.811646</td>\n",
       "      <td>91625303</td>\n",
       "      <td>2113589606</td>\n",
       "      <td>MONOLOGIC</td>\n",
       "      <td>None</td>\n",
       "      <td>classification</td>\n",
       "      <td>reject</td>\n",
       "    </tr>\n",
       "  </tbody>\n",
       "</table>\n",
       "</div>"
      ],
      "text/plain": [
       "   Unnamed: 0  Unnamed: 0.1  opinion_num         categority            author  \\\n",
       "0      377463        377463         3642         dissenting    Justice Thomas   \n",
       "1      953867        953867         8962           majority    Justice Thomas   \n",
       "2      277192        277192         2673           majority    Justice Burton   \n",
       "3      217250        217250         2124         dissenting   Justice Stewart   \n",
       "4     1417865       1417865        13283  second_dissenting  Justice Ginsburg   \n",
       "\n",
       "                                                case  \\\n",
       "0                                Reyes Mata v. Lynch   \n",
       "1  Professional Real Estate Investors, Inc. v. Co...   \n",
       "2  Order of United Commercial Travelers of Americ...   \n",
       "3                   Simpson v. Union Oil Co. of Cal.   \n",
       "4                          DIRECTV, Inc. v. Imburgia   \n",
       "\n",
       "                                                text  sent_index  length  \\\n",
       "0  And they should\\napply the ordinary rule that ...          30      34   \n",
       "1  The sham exception so construed would undermin...         137     218   \n",
       "2  The prohibition limiting the time for suing on...         144     295   \n",
       "3  To answer that question, the Court examined th...          21      56   \n",
       "4  is not a sufficient reason\\nto hold that arbit...         122     174   \n",
       "\n",
       "   sent_location  prediction    prob_0    prob_1  _input_hash  _task_hash  \\\n",
       "0       0.882353           1  0.485290  0.514710  -1275484070  -689703587   \n",
       "1       0.628440           1  0.337235  0.662765   1819283346  1898932554   \n",
       "2       0.488136           1  0.282745  0.717255   1411906233  -909861218   \n",
       "3       0.375000           1  0.335661  0.664339  -1857841816 -1068803877   \n",
       "4       0.701149           1  0.188354  0.811646     91625303  2113589606   \n",
       "\n",
       "       label _session_id        _view_id  answer  \n",
       "0  MONOLOGIC        None  classification  reject  \n",
       "1  MONOLOGIC        None  classification  reject  \n",
       "2  MONOLOGIC        None  classification  reject  \n",
       "3  MONOLOGIC        None  classification  reject  \n",
       "4  MONOLOGIC        None  classification  reject  "
      ]
     },
     "execution_count": 23,
     "metadata": {},
     "output_type": "execute_result"
    }
   ],
   "source": [
    "file_name = \"Annotations/monologic_annotations.json\"\n",
    "annotations = []\n",
    "for line in open(file_name, 'r'):\n",
    "    annotations.append(json.loads(line))\n",
    "\n",
    "annotations_df = pd.DataFrame(annotations)\n",
    "annotations_df.head(5)"
   ]
  },
  {
   "cell_type": "code",
   "execution_count": 24,
   "metadata": {},
   "outputs": [
    {
     "data": {
      "text/plain": [
       "reject    1538\n",
       "accept     460\n",
       "ignore       1\n",
       "Name: answer, dtype: int64"
      ]
     },
     "execution_count": 24,
     "metadata": {},
     "output_type": "execute_result"
    }
   ],
   "source": [
    "annotations_df[\"label_num\"] = annotations_df[\"answer\"].map({'accept': 1, 'reject': 0, 'ignore': 0})\n",
    "annotations_df.answer.value_counts()"
   ]
  },
  {
   "cell_type": "code",
   "execution_count": 25,
   "metadata": {},
   "outputs": [
    {
     "data": {
      "text/plain": [
       "answer\n",
       "accept    0.779685\n",
       "ignore    0.679398\n",
       "reject    0.709784\n",
       "Name: prob_1, dtype: float64"
      ]
     },
     "execution_count": 25,
     "metadata": {},
     "output_type": "execute_result"
    }
   ],
   "source": [
    "grouped = annotations_df.groupby([\"answer\"])\n",
    "grouped.prob_1.mean()"
   ]
  },
  {
   "cell_type": "code",
   "execution_count": 27,
   "metadata": {},
   "outputs": [
    {
     "data": {
      "image/png": "[encoded data removed]",
      "text/plain": [
       "<Figure size 432x288 with 1 Axes>"
      ]
     },
     "metadata": {
      "needs_background": "light"
     },
     "output_type": "display_data"
    }
   ],
   "source": [
    "sample_sizes = range(50, len(annotations_df.label_num), 10)\n",
    "\n",
    "vectorizer = TfidfVectorizer(\n",
    "    encoding='utf-8',\n",
    "    min_df=2, \n",
    "    max_df=0.8, \n",
    "    binary=False,\n",
    "    norm='l2',\n",
    "    use_idf=True \n",
    ")\n",
    "\n",
    "# Classification\n",
    "lr = LogisticRegression()\n",
    "x_values = []\n",
    "y_values = []\n",
    "scores_l = []\n",
    "\n",
    "for i in sample_sizes:\n",
    "    sample_df = annotations_df.sample(n=i)\n",
    "    y_opinions = sample_df[\"label_num\"]\n",
    "    tfidf_m = vectorizer.fit_transform(sample_df.text)\n",
    "    X_opinions = pd.DataFrame(tfidf_m.toarray(), index=y_opinions, columns=vectorizer.get_feature_names())\n",
    "    # Cross validation\n",
    "    scores = cross_validate(lr, X_opinions, y_opinions, cv=5, scoring=['accuracy', 'f1', 'f1_macro', 'f1_micro'])\n",
    "    scores_l.append(scores)\n",
    "    x = len(y_opinions)\n",
    "    x_values.append(x)\n",
    "    y = np.mean(scores.get(\"test_f1\"))\n",
    "    y_values.append(y)\n",
    "\n",
    "plt.plot(x_values, y_values);"
   ]
  },
  {
   "cell_type": "code",
   "execution_count": 28,
   "metadata": {},
   "outputs": [
    {
     "name": "stdout",
     "output_type": "stream",
     "text": [
      "Baseline accuracy: 0.23\n",
      "Baseline F1: 0.374\n"
     ]
    }
   ],
   "source": [
    "baseline_accuracy = sum(y_opinions)/len(y_opinions)\n",
    "baseline_precision = baseline_accuracy\n",
    "baseline_recall = 1.0\n",
    "baseline_f1 = 2*baseline_precision*baseline_recall/(baseline_precision+baseline_recall)\n",
    "print(\"Baseline accuracy:\", round(baseline_accuracy, 3))\n",
    "print(\"Baseline F1:\", round(baseline_f1, 3))"
   ]
  },
  {
   "cell_type": "code",
   "execution_count": 29,
   "metadata": {},
   "outputs": [
    {
     "name": "stdout",
     "output_type": "stream",
     "text": [
      "Test f1: 0.349029924999022\n",
      "Test accuracy: 0.8145728643216079\n"
     ]
    }
   ],
   "source": [
    "lr = LogisticRegression()\n",
    "scores = cross_validate(lr, X_opinions, y_opinions, cv=10, scoring=['accuracy', 'f1', 'f1_macro', 'f1_micro'])\n",
    "print(\"Test f1: \"+str(np.mean(scores.get(\"test_f1\"))))\n",
    "print(\"Test accuracy: \"+str(np.mean(scores.get(\"test_accuracy\"))))"
   ]
  },
  {
   "cell_type": "code",
   "execution_count": 30,
   "metadata": {},
   "outputs": [],
   "source": [
    "y_opinions = annotations_df[\"label_num\"]\n",
    "tfidf_m = vectorizer.fit_transform(annotations_df.text)\n",
    "X_opinions = pd.DataFrame(tfidf_m.toarray(), index=y_opinions, columns=vectorizer.get_feature_names())\n",
    "lr.fit(X_opinions, y_opinions)\n",
    "y_best = lr.predict(X_opinions)"
   ]
  },
  {
   "cell_type": "code",
   "execution_count": 31,
   "metadata": {},
   "outputs": [
    {
     "data": {
      "image/png": "[encoded data removed]",
      "text/plain": [
       "<Figure size 432x288 with 2 Axes>"
      ]
     },
     "metadata": {
      "needs_background": "light"
     },
     "output_type": "display_data"
    }
   ],
   "source": [
    "confusion_m = metrics.confusion_matrix(y_opinions, y_best)\n",
    "sn.heatmap(confusion_m, annot=True);"
   ]
  },
  {
   "cell_type": "markdown",
   "metadata": {},
   "source": [
    "## Interrogative"
   ]
  },
  {
   "cell_type": "code",
   "execution_count": 32,
   "metadata": {},
   "outputs": [
    {
     "data": {
      "text/html": [
       "<div>\n",
       "<style scoped>\n",
       "    .dataframe tbody tr th:only-of-type {\n",
       "        vertical-align: middle;\n",
       "    }\n",
       "\n",
       "    .dataframe tbody tr th {\n",
       "        vertical-align: top;\n",
       "    }\n",
       "\n",
       "    .dataframe thead th {\n",
       "        text-align: right;\n",
       "    }\n",
       "</style>\n",
       "<table border=\"1\" class=\"dataframe\">\n",
       "  <thead>\n",
       "    <tr style=\"text-align: right;\">\n",
       "      <th></th>\n",
       "      <th>Unnamed: 0</th>\n",
       "      <th>Unnamed: 0.1</th>\n",
       "      <th>opinion_num</th>\n",
       "      <th>categority</th>\n",
       "      <th>author</th>\n",
       "      <th>case</th>\n",
       "      <th>text</th>\n",
       "      <th>sent_index</th>\n",
       "      <th>length</th>\n",
       "      <th>sent_location</th>\n",
       "      <th>prediction</th>\n",
       "      <th>prob_0</th>\n",
       "      <th>prob_1</th>\n",
       "      <th>_input_hash</th>\n",
       "      <th>_task_hash</th>\n",
       "      <th>label</th>\n",
       "      <th>_session_id</th>\n",
       "      <th>_view_id</th>\n",
       "      <th>answer</th>\n",
       "    </tr>\n",
       "  </thead>\n",
       "  <tbody>\n",
       "    <tr>\n",
       "      <th>0</th>\n",
       "      <td>377463</td>\n",
       "      <td>377463</td>\n",
       "      <td>3642</td>\n",
       "      <td>dissenting</td>\n",
       "      <td>Justice Thomas</td>\n",
       "      <td>Reyes Mata v. Lynch</td>\n",
       "      <td>And they should\\napply the ordinary rule that ...</td>\n",
       "      <td>30</td>\n",
       "      <td>34</td>\n",
       "      <td>0.882353</td>\n",
       "      <td>1</td>\n",
       "      <td>0.485290</td>\n",
       "      <td>0.514710</td>\n",
       "      <td>-1275484070</td>\n",
       "      <td>-2061477599</td>\n",
       "      <td>INTERROGATIVE</td>\n",
       "      <td>None</td>\n",
       "      <td>classification</td>\n",
       "      <td>reject</td>\n",
       "    </tr>\n",
       "    <tr>\n",
       "      <th>1</th>\n",
       "      <td>953867</td>\n",
       "      <td>953867</td>\n",
       "      <td>8962</td>\n",
       "      <td>majority</td>\n",
       "      <td>Justice Thomas</td>\n",
       "      <td>Professional Real Estate Investors, Inc. v. Co...</td>\n",
       "      <td>The sham exception so construed would undermin...</td>\n",
       "      <td>137</td>\n",
       "      <td>218</td>\n",
       "      <td>0.628440</td>\n",
       "      <td>1</td>\n",
       "      <td>0.337235</td>\n",
       "      <td>0.662765</td>\n",
       "      <td>1819283346</td>\n",
       "      <td>-946175615</td>\n",
       "      <td>INTERROGATIVE</td>\n",
       "      <td>None</td>\n",
       "      <td>classification</td>\n",
       "      <td>reject</td>\n",
       "    </tr>\n",
       "    <tr>\n",
       "      <th>2</th>\n",
       "      <td>277192</td>\n",
       "      <td>277192</td>\n",
       "      <td>2673</td>\n",
       "      <td>majority</td>\n",
       "      <td>Justice Burton</td>\n",
       "      <td>Order of United Commercial Travelers of Americ...</td>\n",
       "      <td>The prohibition limiting the time for suing on...</td>\n",
       "      <td>144</td>\n",
       "      <td>295</td>\n",
       "      <td>0.488136</td>\n",
       "      <td>1</td>\n",
       "      <td>0.282745</td>\n",
       "      <td>0.717255</td>\n",
       "      <td>1411906233</td>\n",
       "      <td>-1196224706</td>\n",
       "      <td>INTERROGATIVE</td>\n",
       "      <td>None</td>\n",
       "      <td>classification</td>\n",
       "      <td>reject</td>\n",
       "    </tr>\n",
       "    <tr>\n",
       "      <th>3</th>\n",
       "      <td>217250</td>\n",
       "      <td>217250</td>\n",
       "      <td>2124</td>\n",
       "      <td>dissenting</td>\n",
       "      <td>Justice Stewart</td>\n",
       "      <td>Simpson v. Union Oil Co. of Cal.</td>\n",
       "      <td>To answer that question, the Court examined th...</td>\n",
       "      <td>21</td>\n",
       "      <td>56</td>\n",
       "      <td>0.375000</td>\n",
       "      <td>1</td>\n",
       "      <td>0.335661</td>\n",
       "      <td>0.664339</td>\n",
       "      <td>-1857841816</td>\n",
       "      <td>-1425886346</td>\n",
       "      <td>INTERROGATIVE</td>\n",
       "      <td>None</td>\n",
       "      <td>classification</td>\n",
       "      <td>reject</td>\n",
       "    </tr>\n",
       "    <tr>\n",
       "      <th>4</th>\n",
       "      <td>1417865</td>\n",
       "      <td>1417865</td>\n",
       "      <td>13283</td>\n",
       "      <td>second_dissenting</td>\n",
       "      <td>Justice Ginsburg</td>\n",
       "      <td>DIRECTV, Inc. v. Imburgia</td>\n",
       "      <td>is not a sufficient reason\\nto hold that arbit...</td>\n",
       "      <td>122</td>\n",
       "      <td>174</td>\n",
       "      <td>0.701149</td>\n",
       "      <td>1</td>\n",
       "      <td>0.188354</td>\n",
       "      <td>0.811646</td>\n",
       "      <td>91625303</td>\n",
       "      <td>1565706008</td>\n",
       "      <td>INTERROGATIVE</td>\n",
       "      <td>None</td>\n",
       "      <td>classification</td>\n",
       "      <td>reject</td>\n",
       "    </tr>\n",
       "  </tbody>\n",
       "</table>\n",
       "</div>"
      ],
      "text/plain": [
       "   Unnamed: 0  Unnamed: 0.1  opinion_num         categority            author  \\\n",
       "0      377463        377463         3642         dissenting    Justice Thomas   \n",
       "1      953867        953867         8962           majority    Justice Thomas   \n",
       "2      277192        277192         2673           majority    Justice Burton   \n",
       "3      217250        217250         2124         dissenting   Justice Stewart   \n",
       "4     1417865       1417865        13283  second_dissenting  Justice Ginsburg   \n",
       "\n",
       "                                                case  \\\n",
       "0                                Reyes Mata v. Lynch   \n",
       "1  Professional Real Estate Investors, Inc. v. Co...   \n",
       "2  Order of United Commercial Travelers of Americ...   \n",
       "3                   Simpson v. Union Oil Co. of Cal.   \n",
       "4                          DIRECTV, Inc. v. Imburgia   \n",
       "\n",
       "                                                text  sent_index  length  \\\n",
       "0  And they should\\napply the ordinary rule that ...          30      34   \n",
       "1  The sham exception so construed would undermin...         137     218   \n",
       "2  The prohibition limiting the time for suing on...         144     295   \n",
       "3  To answer that question, the Court examined th...          21      56   \n",
       "4  is not a sufficient reason\\nto hold that arbit...         122     174   \n",
       "\n",
       "   sent_location  prediction    prob_0    prob_1  _input_hash  _task_hash  \\\n",
       "0       0.882353           1  0.485290  0.514710  -1275484070 -2061477599   \n",
       "1       0.628440           1  0.337235  0.662765   1819283346  -946175615   \n",
       "2       0.488136           1  0.282745  0.717255   1411906233 -1196224706   \n",
       "3       0.375000           1  0.335661  0.664339  -1857841816 -1425886346   \n",
       "4       0.701149           1  0.188354  0.811646     91625303  1565706008   \n",
       "\n",
       "           label _session_id        _view_id  answer  \n",
       "0  INTERROGATIVE        None  classification  reject  \n",
       "1  INTERROGATIVE        None  classification  reject  \n",
       "2  INTERROGATIVE        None  classification  reject  \n",
       "3  INTERROGATIVE        None  classification  reject  \n",
       "4  INTERROGATIVE        None  classification  reject  "
      ]
     },
     "execution_count": 32,
     "metadata": {},
     "output_type": "execute_result"
    }
   ],
   "source": [
    "file_name = \"Annotations/interrogative_annotations.json\"\n",
    "annotations = []\n",
    "for line in open(file_name, 'r'):\n",
    "    annotations.append(json.loads(line))\n",
    "\n",
    "annotations_df = pd.DataFrame(annotations)\n",
    "annotations_df.head(5)"
   ]
  },
  {
   "cell_type": "code",
   "execution_count": 33,
   "metadata": {},
   "outputs": [
    {
     "data": {
      "text/plain": [
       "reject    1767\n",
       "accept     232\n",
       "Name: answer, dtype: int64"
      ]
     },
     "execution_count": 33,
     "metadata": {},
     "output_type": "execute_result"
    }
   ],
   "source": [
    "annotations_df[\"label_num\"] = annotations_df[\"answer\"].map({'accept': 1, 'reject': 0, 'ignore': 0})\n",
    "annotations_df.answer.value_counts()"
   ]
  },
  {
   "cell_type": "code",
   "execution_count": 34,
   "metadata": {},
   "outputs": [
    {
     "data": {
      "text/plain": [
       "answer\n",
       "accept    0.772180\n",
       "reject    0.719772\n",
       "Name: prob_1, dtype: float64"
      ]
     },
     "execution_count": 34,
     "metadata": {},
     "output_type": "execute_result"
    }
   ],
   "source": [
    "grouped = annotations_df.groupby([\"answer\"])\n",
    "grouped.prob_1.mean()"
   ]
  },
  {
   "cell_type": "code",
   "execution_count": 36,
   "metadata": {},
   "outputs": [
    {
     "data": {
      "image/png": "[encoded data removed]",
      "text/plain": [
       "<Figure size 432x288 with 1 Axes>"
      ]
     },
     "metadata": {
      "needs_background": "light"
     },
     "output_type": "display_data"
    }
   ],
   "source": [
    "sample_sizes = range(50, len(annotations_df.label_num), 10)\n",
    "\n",
    "vectorizer = TfidfVectorizer(\n",
    "    encoding='utf-8',\n",
    "    min_df=2, \n",
    "    max_df=0.8, \n",
    "    binary=False,\n",
    "    norm='l2',\n",
    "    use_idf=True \n",
    ")\n",
    "\n",
    "# Classification\n",
    "lr = LogisticRegression()\n",
    "x_values = []\n",
    "y_values = []\n",
    "scores_l = []\n",
    "\n",
    "for i in sample_sizes:\n",
    "    sample_df = annotations_df.sample(n=i)\n",
    "    y_opinions = sample_df[\"label_num\"]\n",
    "    tfidf_m = vectorizer.fit_transform(sample_df.text)\n",
    "    X_opinions = pd.DataFrame(tfidf_m.toarray(), index=y_opinions, columns=vectorizer.get_feature_names())\n",
    "    # Cross validation\n",
    "    scores = cross_validate(lr, X_opinions, y_opinions, cv=5, scoring=['accuracy', 'f1', 'f1_macro', 'f1_micro'])\n",
    "    scores_l.append(scores)\n",
    "    x = len(y_opinions)\n",
    "    x_values.append(x)\n",
    "    y = np.mean(scores.get(\"test_f1\"))\n",
    "    y_values.append(y)\n",
    "\n",
    "plt.plot(x_values, y_values);"
   ]
  },
  {
   "cell_type": "code",
   "execution_count": 37,
   "metadata": {},
   "outputs": [
    {
     "name": "stdout",
     "output_type": "stream",
     "text": [
      "Baseline accuracy: 0.115\n",
      "Baseline F1: 0.206\n"
     ]
    }
   ],
   "source": [
    "baseline_accuracy = sum(y_opinions)/len(y_opinions)\n",
    "baseline_precision = baseline_accuracy\n",
    "baseline_recall = 1.0\n",
    "baseline_f1 = 2*baseline_precision*baseline_recall/(baseline_precision+baseline_recall)\n",
    "print(\"Baseline accuracy:\", round(baseline_accuracy, 3))\n",
    "print(\"Baseline F1:\", round(baseline_f1, 3))"
   ]
  },
  {
   "cell_type": "code",
   "execution_count": 38,
   "metadata": {},
   "outputs": [
    {
     "name": "stdout",
     "output_type": "stream",
     "text": [
      "Test f1: 0.06510590858416945\n",
      "Test accuracy: 0.8889447236180905\n"
     ]
    }
   ],
   "source": [
    "lr = LogisticRegression()\n",
    "scores = cross_validate(lr, X_opinions, y_opinions, cv=10, scoring=['accuracy', 'f1', 'f1_macro', 'f1_micro'])\n",
    "print(\"Test f1: \"+str(np.mean(scores.get(\"test_f1\"))))\n",
    "print(\"Test accuracy: \"+str(np.mean(scores.get(\"test_accuracy\"))))"
   ]
  },
  {
   "cell_type": "code",
   "execution_count": 39,
   "metadata": {},
   "outputs": [],
   "source": [
    "y_opinions = annotations_df[\"label_num\"]\n",
    "tfidf_m = vectorizer.fit_transform(annotations_df.text)\n",
    "X_opinions = pd.DataFrame(tfidf_m.toarray(), index=y_opinions, columns=vectorizer.get_feature_names())\n",
    "lr.fit(X_opinions, y_opinions)\n",
    "y_best = lr.predict(X_opinions)"
   ]
  },
  {
   "cell_type": "code",
   "execution_count": 40,
   "metadata": {},
   "outputs": [
    {
     "data": {
      "image/png": "[encoded data removed]",
      "text/plain": [
       "<Figure size 432x288 with 2 Axes>"
      ]
     },
     "metadata": {
      "needs_background": "light"
     },
     "output_type": "display_data"
    }
   ],
   "source": [
    "confusion_m = metrics.confusion_matrix(y_opinions, y_best)\n",
    "sn.heatmap(confusion_m, annot=True);"
   ]
  },
  {
   "cell_type": "markdown",
   "metadata": {},
   "source": [
    "# Declarative"
   ]
  },
  {
   "cell_type": "code",
   "execution_count": 41,
   "metadata": {},
   "outputs": [
    {
     "data": {
      "text/html": [
       "<div>\n",
       "<style scoped>\n",
       "    .dataframe tbody tr th:only-of-type {\n",
       "        vertical-align: middle;\n",
       "    }\n",
       "\n",
       "    .dataframe tbody tr th {\n",
       "        vertical-align: top;\n",
       "    }\n",
       "\n",
       "    .dataframe thead th {\n",
       "        text-align: right;\n",
       "    }\n",
       "</style>\n",
       "<table border=\"1\" class=\"dataframe\">\n",
       "  <thead>\n",
       "    <tr style=\"text-align: right;\">\n",
       "      <th></th>\n",
       "      <th>Unnamed: 0</th>\n",
       "      <th>Unnamed: 0.1</th>\n",
       "      <th>opinion_num</th>\n",
       "      <th>categority</th>\n",
       "      <th>author</th>\n",
       "      <th>case</th>\n",
       "      <th>text</th>\n",
       "      <th>sent_index</th>\n",
       "      <th>length</th>\n",
       "      <th>sent_location</th>\n",
       "      <th>prediction</th>\n",
       "      <th>prob_0</th>\n",
       "      <th>prob_1</th>\n",
       "      <th>_input_hash</th>\n",
       "      <th>_task_hash</th>\n",
       "      <th>label</th>\n",
       "      <th>_session_id</th>\n",
       "      <th>_view_id</th>\n",
       "      <th>answer</th>\n",
       "    </tr>\n",
       "  </thead>\n",
       "  <tbody>\n",
       "    <tr>\n",
       "      <th>0</th>\n",
       "      <td>377463</td>\n",
       "      <td>377463</td>\n",
       "      <td>3642</td>\n",
       "      <td>dissenting</td>\n",
       "      <td>Justice Thomas</td>\n",
       "      <td>Reyes Mata v. Lynch</td>\n",
       "      <td>And they should\\napply the ordinary rule that ...</td>\n",
       "      <td>30</td>\n",
       "      <td>34</td>\n",
       "      <td>0.882353</td>\n",
       "      <td>1</td>\n",
       "      <td>0.485290</td>\n",
       "      <td>0.514710</td>\n",
       "      <td>-1275484070</td>\n",
       "      <td>-1729162645</td>\n",
       "      <td>DECLARATIVE</td>\n",
       "      <td>None</td>\n",
       "      <td>classification</td>\n",
       "      <td>accept</td>\n",
       "    </tr>\n",
       "    <tr>\n",
       "      <th>1</th>\n",
       "      <td>953867</td>\n",
       "      <td>953867</td>\n",
       "      <td>8962</td>\n",
       "      <td>majority</td>\n",
       "      <td>Justice Thomas</td>\n",
       "      <td>Professional Real Estate Investors, Inc. v. Co...</td>\n",
       "      <td>The sham exception so construed would undermin...</td>\n",
       "      <td>137</td>\n",
       "      <td>218</td>\n",
       "      <td>0.628440</td>\n",
       "      <td>1</td>\n",
       "      <td>0.337235</td>\n",
       "      <td>0.662765</td>\n",
       "      <td>1819283346</td>\n",
       "      <td>40014867</td>\n",
       "      <td>DECLARATIVE</td>\n",
       "      <td>None</td>\n",
       "      <td>classification</td>\n",
       "      <td>accept</td>\n",
       "    </tr>\n",
       "    <tr>\n",
       "      <th>2</th>\n",
       "      <td>277192</td>\n",
       "      <td>277192</td>\n",
       "      <td>2673</td>\n",
       "      <td>majority</td>\n",
       "      <td>Justice Burton</td>\n",
       "      <td>Order of United Commercial Travelers of Americ...</td>\n",
       "      <td>The prohibition limiting the time for suing on...</td>\n",
       "      <td>144</td>\n",
       "      <td>295</td>\n",
       "      <td>0.488136</td>\n",
       "      <td>1</td>\n",
       "      <td>0.282745</td>\n",
       "      <td>0.717255</td>\n",
       "      <td>1411906233</td>\n",
       "      <td>2017744667</td>\n",
       "      <td>DECLARATIVE</td>\n",
       "      <td>None</td>\n",
       "      <td>classification</td>\n",
       "      <td>reject</td>\n",
       "    </tr>\n",
       "    <tr>\n",
       "      <th>3</th>\n",
       "      <td>217250</td>\n",
       "      <td>217250</td>\n",
       "      <td>2124</td>\n",
       "      <td>dissenting</td>\n",
       "      <td>Justice Stewart</td>\n",
       "      <td>Simpson v. Union Oil Co. of Cal.</td>\n",
       "      <td>To answer that question, the Court examined th...</td>\n",
       "      <td>21</td>\n",
       "      <td>56</td>\n",
       "      <td>0.375000</td>\n",
       "      <td>1</td>\n",
       "      <td>0.335661</td>\n",
       "      <td>0.664339</td>\n",
       "      <td>-1857841816</td>\n",
       "      <td>825335310</td>\n",
       "      <td>DECLARATIVE</td>\n",
       "      <td>None</td>\n",
       "      <td>classification</td>\n",
       "      <td>reject</td>\n",
       "    </tr>\n",
       "    <tr>\n",
       "      <th>4</th>\n",
       "      <td>1417865</td>\n",
       "      <td>1417865</td>\n",
       "      <td>13283</td>\n",
       "      <td>second_dissenting</td>\n",
       "      <td>Justice Ginsburg</td>\n",
       "      <td>DIRECTV, Inc. v. Imburgia</td>\n",
       "      <td>is not a sufficient reason\\nto hold that arbit...</td>\n",
       "      <td>122</td>\n",
       "      <td>174</td>\n",
       "      <td>0.701149</td>\n",
       "      <td>1</td>\n",
       "      <td>0.188354</td>\n",
       "      <td>0.811646</td>\n",
       "      <td>91625303</td>\n",
       "      <td>834218856</td>\n",
       "      <td>DECLARATIVE</td>\n",
       "      <td>None</td>\n",
       "      <td>classification</td>\n",
       "      <td>accept</td>\n",
       "    </tr>\n",
       "  </tbody>\n",
       "</table>\n",
       "</div>"
      ],
      "text/plain": [
       "   Unnamed: 0  Unnamed: 0.1  opinion_num         categority            author  \\\n",
       "0      377463        377463         3642         dissenting    Justice Thomas   \n",
       "1      953867        953867         8962           majority    Justice Thomas   \n",
       "2      277192        277192         2673           majority    Justice Burton   \n",
       "3      217250        217250         2124         dissenting   Justice Stewart   \n",
       "4     1417865       1417865        13283  second_dissenting  Justice Ginsburg   \n",
       "\n",
       "                                                case  \\\n",
       "0                                Reyes Mata v. Lynch   \n",
       "1  Professional Real Estate Investors, Inc. v. Co...   \n",
       "2  Order of United Commercial Travelers of Americ...   \n",
       "3                   Simpson v. Union Oil Co. of Cal.   \n",
       "4                          DIRECTV, Inc. v. Imburgia   \n",
       "\n",
       "                                                text  sent_index  length  \\\n",
       "0  And they should\\napply the ordinary rule that ...          30      34   \n",
       "1  The sham exception so construed would undermin...         137     218   \n",
       "2  The prohibition limiting the time for suing on...         144     295   \n",
       "3  To answer that question, the Court examined th...          21      56   \n",
       "4  is not a sufficient reason\\nto hold that arbit...         122     174   \n",
       "\n",
       "   sent_location  prediction    prob_0    prob_1  _input_hash  _task_hash  \\\n",
       "0       0.882353           1  0.485290  0.514710  -1275484070 -1729162645   \n",
       "1       0.628440           1  0.337235  0.662765   1819283346    40014867   \n",
       "2       0.488136           1  0.282745  0.717255   1411906233  2017744667   \n",
       "3       0.375000           1  0.335661  0.664339  -1857841816   825335310   \n",
       "4       0.701149           1  0.188354  0.811646     91625303   834218856   \n",
       "\n",
       "         label _session_id        _view_id  answer  \n",
       "0  DECLARATIVE        None  classification  accept  \n",
       "1  DECLARATIVE        None  classification  accept  \n",
       "2  DECLARATIVE        None  classification  reject  \n",
       "3  DECLARATIVE        None  classification  reject  \n",
       "4  DECLARATIVE        None  classification  accept  "
      ]
     },
     "execution_count": 41,
     "metadata": {},
     "output_type": "execute_result"
    }
   ],
   "source": [
    "file_name = \"Annotations/declarative_annotations.json\"\n",
    "annotations = []\n",
    "for line in open(file_name, 'r'):\n",
    "    annotations.append(json.loads(line))\n",
    "\n",
    "annotations_df = pd.DataFrame(annotations)\n",
    "annotations_df.head(5)"
   ]
  },
  {
   "cell_type": "code",
   "execution_count": 42,
   "metadata": {},
   "outputs": [
    {
     "data": {
      "text/plain": [
       "reject    1088\n",
       "accept     911\n",
       "Name: answer, dtype: int64"
      ]
     },
     "execution_count": 42,
     "metadata": {},
     "output_type": "execute_result"
    }
   ],
   "source": [
    "annotations_df[\"label_num\"] = annotations_df[\"answer\"].map({'accept': 1, 'reject': 0, 'ignore': 0})\n",
    "annotations_df.answer.value_counts()"
   ]
  },
  {
   "cell_type": "code",
   "execution_count": 43,
   "metadata": {},
   "outputs": [
    {
     "data": {
      "text/plain": [
       "answer\n",
       "accept    0.753777\n",
       "reject    0.702475\n",
       "Name: prob_1, dtype: float64"
      ]
     },
     "execution_count": 43,
     "metadata": {},
     "output_type": "execute_result"
    }
   ],
   "source": [
    "grouped = annotations_df.groupby([\"answer\"])\n",
    "grouped.prob_1.mean()"
   ]
  },
  {
   "cell_type": "code",
   "execution_count": 44,
   "metadata": {},
   "outputs": [
    {
     "data": {
      "image/png": "[encoded data removed]",
      "text/plain": [
       "<Figure size 432x288 with 1 Axes>"
      ]
     },
     "metadata": {
      "needs_background": "light"
     },
     "output_type": "display_data"
    }
   ],
   "source": [
    "sample_sizes = range(50, len(annotations_df.label_num), 10)\n",
    "\n",
    "vectorizer = TfidfVectorizer(\n",
    "    encoding='utf-8',\n",
    "    min_df=2, \n",
    "    max_df=0.8, \n",
    "    binary=False,\n",
    "    norm='l2',\n",
    "    use_idf=True \n",
    ")\n",
    "\n",
    "# Classification\n",
    "lr = LogisticRegression()\n",
    "x_values = []\n",
    "y_values = []\n",
    "scores_l = []\n",
    "\n",
    "for i in sample_sizes:\n",
    "    sample_df = annotations_df.sample(n=i)\n",
    "    y_opinions = sample_df[\"label_num\"]\n",
    "    tfidf_m = vectorizer.fit_transform(sample_df.text)\n",
    "    X_opinions = pd.DataFrame(tfidf_m.toarray(), index=y_opinions, columns=vectorizer.get_feature_names())\n",
    "    # Cross validation\n",
    "    scores = cross_validate(lr, X_opinions, y_opinions, cv=5, scoring=['accuracy', 'f1', 'f1_macro', 'f1_micro'])\n",
    "    scores_l.append(scores)\n",
    "    x = len(y_opinions)\n",
    "    x_values.append(x)\n",
    "    y = np.mean(scores.get(\"test_f1\"))\n",
    "    y_values.append(y)\n",
    "\n",
    "plt.plot(x_values, y_values);"
   ]
  },
  {
   "cell_type": "code",
   "execution_count": 45,
   "metadata": {},
   "outputs": [
    {
     "name": "stdout",
     "output_type": "stream",
     "text": [
      "Baseline accuracy: 0.455\n",
      "Baseline F1: 0.626\n"
     ]
    }
   ],
   "source": [
    "baseline_accuracy = sum(y_opinions)/len(y_opinions)\n",
    "baseline_precision = baseline_accuracy\n",
    "baseline_recall = 1.0\n",
    "baseline_f1 = 2*baseline_precision*baseline_recall/(baseline_precision+baseline_recall)\n",
    "print(\"Baseline accuracy:\", round(baseline_accuracy, 3))\n",
    "print(\"Baseline F1:\", round(baseline_f1, 3))"
   ]
  },
  {
   "cell_type": "code",
   "execution_count": 46,
   "metadata": {},
   "outputs": [
    {
     "name": "stdout",
     "output_type": "stream",
     "text": [
      "Test f1: 0.5534272550073224\n",
      "Test accuracy: 0.6532663316582915\n"
     ]
    }
   ],
   "source": [
    "lr = LogisticRegression()\n",
    "scores = cross_validate(lr, X_opinions, y_opinions, cv=10, scoring=['accuracy', 'f1', 'f1_macro', 'f1_micro'])\n",
    "print(\"Test f1: \"+str(np.mean(scores.get(\"test_f1\"))))\n",
    "print(\"Test accuracy: \"+str(np.mean(scores.get(\"test_accuracy\"))))"
   ]
  },
  {
   "cell_type": "code",
   "execution_count": 47,
   "metadata": {},
   "outputs": [],
   "source": [
    "y_opinions = annotations_df[\"label_num\"]\n",
    "tfidf_m = vectorizer.fit_transform(annotations_df.text)\n",
    "X_opinions = pd.DataFrame(tfidf_m.toarray(), index=y_opinions, columns=vectorizer.get_feature_names())\n",
    "lr.fit(X_opinions, y_opinions)\n",
    "y_best = lr.predict(X_opinions)"
   ]
  },
  {
   "cell_type": "code",
   "execution_count": 48,
   "metadata": {},
   "outputs": [
    {
     "data": {
      "image/png": "[encoded data removed]",
      "text/plain": [
       "<Figure size 432x288 with 2 Axes>"
      ]
     },
     "metadata": {
      "needs_background": "light"
     },
     "output_type": "display_data"
    }
   ],
   "source": [
    "confusion_m = metrics.confusion_matrix(y_opinions, y_best)\n",
    "sn.heatmap(confusion_m, annot=True);"
   ]
  },
  {
   "cell_type": "code",
   "execution_count": null,
   "metadata": {},
   "outputs": [],
   "source": []
  }
 ],
 "metadata": {
  "kernelspec": {
   "display_name": "Python 3",
   "language": "python",
   "name": "python3"
  },
  "language_info": {
   "codemirror_mode": {
    "name": "ipython",
    "version": 3
   },
   "file_extension": ".py",
   "mimetype": "text/x-python",
   "name": "python",
   "nbconvert_exporter": "python",
   "pygments_lexer": "ipython3",
   "version": "3.8.3"
  }
 },
 "nbformat": 4,
 "nbformat_minor": 4
}
