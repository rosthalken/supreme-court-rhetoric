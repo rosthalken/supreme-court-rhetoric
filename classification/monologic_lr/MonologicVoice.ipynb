{
 "cells": [
  {
   "cell_type": "markdown",
   "metadata": {},
   "source": [
    "# Monologic Voice"
   ]
  },
  {
   "cell_type": "markdown",
   "metadata": {},
   "source": [
    "*January 19*\n",
    "\n",
    "Three sections, replicating the same code for different data:\n",
    "- all annotated sentences, regardless of opinion category\n",
    "- only dissenting sentences\n",
    "- only majority sentences\n",
    "\n",
    "\n",
    "**Continued issues:**\n",
    "- ~vectorizer is removing \"I\"; since \"we\" is most important feature, probably want to include \"I\"~\n",
    "    - ~Any way to do this without creating new vectorizer from ground up (i.e. not using scikitlearn)?~\n",
    "- accuracy (f1) is still relatively low for all sentences; really bad for dissenting sentences; decent for majority only\n",
    "- word \"court\" seems to be confusing classiffier --> \"Court\" usually refers to US Supreme Court and typically indicates monologic--but \"court\" (lowercase) usually refers to other courts (not monologic)"
   ]
  },
  {
   "cell_type": "code",
   "execution_count": 20,
   "metadata": {},
   "outputs": [],
   "source": [
    "import json\n",
    "import pandas as pd\n",
    "from sklearn.feature_extraction.text import TfidfVectorizer\n",
    "from sklearn import linear_model\n",
    "from sklearn.model_selection import cross_validate, cross_val_score, train_test_split, GroupKFold\n",
    "from sklearn.metrics import f1_score, average_precision_score, precision_score, recall_score\n",
    "from sklearn.metrics import classification_report\n",
    "from sklearn.linear_model import LogisticRegression\n",
    "import numpy as np\n",
    "import matplotlib.pyplot as plt\n",
    "from collections import Counter\n",
    "from sklearn import metrics\n",
    "import nltk"
   ]
  },
  {
   "cell_type": "code",
   "execution_count": 2,
   "metadata": {},
   "outputs": [],
   "source": [
    "file_name = \"Data/monologic_annotations.json\""
   ]
  },
  {
   "cell_type": "code",
   "execution_count": 3,
   "metadata": {},
   "outputs": [
    {
     "name": "stdout",
     "output_type": "stream",
     "text": [
      "(5982, 20)\n"
     ]
    },
    {
     "data": {
      "text/html": [
       "<div>\n",
       "<style scoped>\n",
       "    .dataframe tbody tr th:only-of-type {\n",
       "        vertical-align: middle;\n",
       "    }\n",
       "\n",
       "    .dataframe tbody tr th {\n",
       "        vertical-align: top;\n",
       "    }\n",
       "\n",
       "    .dataframe thead th {\n",
       "        text-align: right;\n",
       "    }\n",
       "</style>\n",
       "<table border=\"1\" class=\"dataframe\">\n",
       "  <thead>\n",
       "    <tr style=\"text-align: right;\">\n",
       "      <th></th>\n",
       "      <th>Unnamed: 0</th>\n",
       "      <th>Unnamed: 0.1</th>\n",
       "      <th>opinion_num</th>\n",
       "      <th>categority</th>\n",
       "      <th>author</th>\n",
       "      <th>case</th>\n",
       "      <th>text</th>\n",
       "      <th>sent_index</th>\n",
       "      <th>length</th>\n",
       "      <th>sent_location</th>\n",
       "      <th>prediction</th>\n",
       "      <th>prob_0</th>\n",
       "      <th>prob_1</th>\n",
       "      <th>_input_hash</th>\n",
       "      <th>_task_hash</th>\n",
       "      <th>label</th>\n",
       "      <th>_session_id</th>\n",
       "      <th>_view_id</th>\n",
       "      <th>answer</th>\n",
       "      <th>_merge</th>\n",
       "    </tr>\n",
       "  </thead>\n",
       "  <tbody>\n",
       "    <tr>\n",
       "      <th>0</th>\n",
       "      <td>377463</td>\n",
       "      <td>377463</td>\n",
       "      <td>3642</td>\n",
       "      <td>dissenting</td>\n",
       "      <td>Justice Thomas</td>\n",
       "      <td>Reyes Mata v. Lynch</td>\n",
       "      <td>And they should\\napply the ordinary rule that ...</td>\n",
       "      <td>30</td>\n",
       "      <td>34</td>\n",
       "      <td>0.882353</td>\n",
       "      <td>1</td>\n",
       "      <td>0.485290</td>\n",
       "      <td>0.514710</td>\n",
       "      <td>-1275484070</td>\n",
       "      <td>-689703587</td>\n",
       "      <td>MONOLOGIC</td>\n",
       "      <td>None</td>\n",
       "      <td>classification</td>\n",
       "      <td>reject</td>\n",
       "      <td>NaN</td>\n",
       "    </tr>\n",
       "    <tr>\n",
       "      <th>1</th>\n",
       "      <td>953867</td>\n",
       "      <td>953867</td>\n",
       "      <td>8962</td>\n",
       "      <td>majority</td>\n",
       "      <td>Justice Thomas</td>\n",
       "      <td>Professional Real Estate Investors, Inc. v. Co...</td>\n",
       "      <td>The sham exception so construed would undermin...</td>\n",
       "      <td>137</td>\n",
       "      <td>218</td>\n",
       "      <td>0.628440</td>\n",
       "      <td>1</td>\n",
       "      <td>0.337235</td>\n",
       "      <td>0.662765</td>\n",
       "      <td>1819283346</td>\n",
       "      <td>1898932554</td>\n",
       "      <td>MONOLOGIC</td>\n",
       "      <td>None</td>\n",
       "      <td>classification</td>\n",
       "      <td>reject</td>\n",
       "      <td>NaN</td>\n",
       "    </tr>\n",
       "    <tr>\n",
       "      <th>2</th>\n",
       "      <td>277192</td>\n",
       "      <td>277192</td>\n",
       "      <td>2673</td>\n",
       "      <td>majority</td>\n",
       "      <td>Justice Burton</td>\n",
       "      <td>Order of United Commercial Travelers of Americ...</td>\n",
       "      <td>The prohibition limiting the time for suing on...</td>\n",
       "      <td>144</td>\n",
       "      <td>295</td>\n",
       "      <td>0.488136</td>\n",
       "      <td>1</td>\n",
       "      <td>0.282745</td>\n",
       "      <td>0.717255</td>\n",
       "      <td>1411906233</td>\n",
       "      <td>-909861218</td>\n",
       "      <td>MONOLOGIC</td>\n",
       "      <td>None</td>\n",
       "      <td>classification</td>\n",
       "      <td>reject</td>\n",
       "      <td>NaN</td>\n",
       "    </tr>\n",
       "    <tr>\n",
       "      <th>3</th>\n",
       "      <td>217250</td>\n",
       "      <td>217250</td>\n",
       "      <td>2124</td>\n",
       "      <td>dissenting</td>\n",
       "      <td>Justice Stewart</td>\n",
       "      <td>Simpson v. Union Oil Co. of Cal.</td>\n",
       "      <td>To answer that question, the Court examined th...</td>\n",
       "      <td>21</td>\n",
       "      <td>56</td>\n",
       "      <td>0.375000</td>\n",
       "      <td>1</td>\n",
       "      <td>0.335661</td>\n",
       "      <td>0.664339</td>\n",
       "      <td>-1857841816</td>\n",
       "      <td>-1068803877</td>\n",
       "      <td>MONOLOGIC</td>\n",
       "      <td>None</td>\n",
       "      <td>classification</td>\n",
       "      <td>reject</td>\n",
       "      <td>NaN</td>\n",
       "    </tr>\n",
       "    <tr>\n",
       "      <th>4</th>\n",
       "      <td>1417865</td>\n",
       "      <td>1417865</td>\n",
       "      <td>13283</td>\n",
       "      <td>second_dissenting</td>\n",
       "      <td>Justice Ginsburg</td>\n",
       "      <td>DIRECTV, Inc. v. Imburgia</td>\n",
       "      <td>is not a sufficient reason\\nto hold that arbit...</td>\n",
       "      <td>122</td>\n",
       "      <td>174</td>\n",
       "      <td>0.701149</td>\n",
       "      <td>1</td>\n",
       "      <td>0.188354</td>\n",
       "      <td>0.811646</td>\n",
       "      <td>91625303</td>\n",
       "      <td>2113589606</td>\n",
       "      <td>MONOLOGIC</td>\n",
       "      <td>None</td>\n",
       "      <td>classification</td>\n",
       "      <td>reject</td>\n",
       "      <td>NaN</td>\n",
       "    </tr>\n",
       "    <tr>\n",
       "      <th>5</th>\n",
       "      <td>1494023</td>\n",
       "      <td>1494023</td>\n",
       "      <td>14062</td>\n",
       "      <td>majority</td>\n",
       "      <td>Justice Marshall</td>\n",
       "      <td>Dunn v. United States</td>\n",
       "      <td>But that is not the inference the Department o...</td>\n",
       "      <td>101</td>\n",
       "      <td>134</td>\n",
       "      <td>0.753731</td>\n",
       "      <td>1</td>\n",
       "      <td>0.378012</td>\n",
       "      <td>0.621988</td>\n",
       "      <td>-2010364810</td>\n",
       "      <td>895034902</td>\n",
       "      <td>MONOLOGIC</td>\n",
       "      <td>None</td>\n",
       "      <td>classification</td>\n",
       "      <td>reject</td>\n",
       "      <td>NaN</td>\n",
       "    </tr>\n",
       "    <tr>\n",
       "      <th>6</th>\n",
       "      <td>1628870</td>\n",
       "      <td>1628870</td>\n",
       "      <td>15362</td>\n",
       "      <td>majority</td>\n",
       "      <td>Justice Kennedy</td>\n",
       "      <td>Colonial American Life Ins. Co. v. Commissioner</td>\n",
       "      <td>The ceding commissions thus are not administra...</td>\n",
       "      <td>47</td>\n",
       "      <td>141</td>\n",
       "      <td>0.333333</td>\n",
       "      <td>1</td>\n",
       "      <td>0.281314</td>\n",
       "      <td>0.718686</td>\n",
       "      <td>-649556952</td>\n",
       "      <td>1616257439</td>\n",
       "      <td>MONOLOGIC</td>\n",
       "      <td>None</td>\n",
       "      <td>classification</td>\n",
       "      <td>reject</td>\n",
       "      <td>NaN</td>\n",
       "    </tr>\n",
       "    <tr>\n",
       "      <th>7</th>\n",
       "      <td>35313</td>\n",
       "      <td>35313</td>\n",
       "      <td>347</td>\n",
       "      <td>second_dissenting</td>\n",
       "      <td>Justice White</td>\n",
       "      <td>Milliken v. Bradley</td>\n",
       "      <td>Negro students are not only entitled to neutra...</td>\n",
       "      <td>346</td>\n",
       "      <td>550</td>\n",
       "      <td>0.629091</td>\n",
       "      <td>1</td>\n",
       "      <td>0.332815</td>\n",
       "      <td>0.667185</td>\n",
       "      <td>377348157</td>\n",
       "      <td>61246947</td>\n",
       "      <td>MONOLOGIC</td>\n",
       "      <td>None</td>\n",
       "      <td>classification</td>\n",
       "      <td>reject</td>\n",
       "      <td>NaN</td>\n",
       "    </tr>\n",
       "    <tr>\n",
       "      <th>8</th>\n",
       "      <td>1449928</td>\n",
       "      <td>1449928</td>\n",
       "      <td>13625</td>\n",
       "      <td>majority</td>\n",
       "      <td>Justice Powell</td>\n",
       "      <td>Pennsylvania v. Ritchie</td>\n",
       "      <td>It ruled that the constitutional infirmity in ...</td>\n",
       "      <td>39</td>\n",
       "      <td>192</td>\n",
       "      <td>0.203125</td>\n",
       "      <td>1</td>\n",
       "      <td>0.283058</td>\n",
       "      <td>0.716942</td>\n",
       "      <td>1825211886</td>\n",
       "      <td>-1145212941</td>\n",
       "      <td>MONOLOGIC</td>\n",
       "      <td>None</td>\n",
       "      <td>classification</td>\n",
       "      <td>reject</td>\n",
       "      <td>NaN</td>\n",
       "    </tr>\n",
       "    <tr>\n",
       "      <th>9</th>\n",
       "      <td>1220653</td>\n",
       "      <td>1220653</td>\n",
       "      <td>11443</td>\n",
       "      <td>majority</td>\n",
       "      <td>Justice Alito</td>\n",
       "      <td>B&amp;B Hardware, Inc. v. Hargis Industries, Inc.</td>\n",
       "      <td>Concluding that “the most\\ncritical factors in...</td>\n",
       "      <td>90</td>\n",
       "      <td>303</td>\n",
       "      <td>0.297030</td>\n",
       "      <td>1</td>\n",
       "      <td>0.257384</td>\n",
       "      <td>0.742616</td>\n",
       "      <td>1861699898</td>\n",
       "      <td>1313311744</td>\n",
       "      <td>MONOLOGIC</td>\n",
       "      <td>None</td>\n",
       "      <td>classification</td>\n",
       "      <td>reject</td>\n",
       "      <td>NaN</td>\n",
       "    </tr>\n",
       "  </tbody>\n",
       "</table>\n",
       "</div>"
      ],
      "text/plain": [
       "   Unnamed: 0  Unnamed: 0.1  opinion_num         categority            author  \\\n",
       "0      377463        377463         3642         dissenting    Justice Thomas   \n",
       "1      953867        953867         8962           majority    Justice Thomas   \n",
       "2      277192        277192         2673           majority    Justice Burton   \n",
       "3      217250        217250         2124         dissenting   Justice Stewart   \n",
       "4     1417865       1417865        13283  second_dissenting  Justice Ginsburg   \n",
       "5     1494023       1494023        14062           majority  Justice Marshall   \n",
       "6     1628870       1628870        15362           majority   Justice Kennedy   \n",
       "7       35313         35313          347  second_dissenting     Justice White   \n",
       "8     1449928       1449928        13625           majority    Justice Powell   \n",
       "9     1220653       1220653        11443           majority     Justice Alito   \n",
       "\n",
       "                                                case  \\\n",
       "0                                Reyes Mata v. Lynch   \n",
       "1  Professional Real Estate Investors, Inc. v. Co...   \n",
       "2  Order of United Commercial Travelers of Americ...   \n",
       "3                   Simpson v. Union Oil Co. of Cal.   \n",
       "4                          DIRECTV, Inc. v. Imburgia   \n",
       "5                              Dunn v. United States   \n",
       "6    Colonial American Life Ins. Co. v. Commissioner   \n",
       "7                                Milliken v. Bradley   \n",
       "8                            Pennsylvania v. Ritchie   \n",
       "9      B&B Hardware, Inc. v. Hargis Industries, Inc.   \n",
       "\n",
       "                                                text  sent_index  length  \\\n",
       "0  And they should\\napply the ordinary rule that ...          30      34   \n",
       "1  The sham exception so construed would undermin...         137     218   \n",
       "2  The prohibition limiting the time for suing on...         144     295   \n",
       "3  To answer that question, the Court examined th...          21      56   \n",
       "4  is not a sufficient reason\\nto hold that arbit...         122     174   \n",
       "5  But that is not the inference the Department o...         101     134   \n",
       "6  The ceding commissions thus are not administra...          47     141   \n",
       "7  Negro students are not only entitled to neutra...         346     550   \n",
       "8  It ruled that the constitutional infirmity in ...          39     192   \n",
       "9  Concluding that “the most\\ncritical factors in...          90     303   \n",
       "\n",
       "   sent_location  prediction    prob_0    prob_1  _input_hash  _task_hash  \\\n",
       "0       0.882353           1  0.485290  0.514710  -1275484070  -689703587   \n",
       "1       0.628440           1  0.337235  0.662765   1819283346  1898932554   \n",
       "2       0.488136           1  0.282745  0.717255   1411906233  -909861218   \n",
       "3       0.375000           1  0.335661  0.664339  -1857841816 -1068803877   \n",
       "4       0.701149           1  0.188354  0.811646     91625303  2113589606   \n",
       "5       0.753731           1  0.378012  0.621988  -2010364810   895034902   \n",
       "6       0.333333           1  0.281314  0.718686   -649556952  1616257439   \n",
       "7       0.629091           1  0.332815  0.667185    377348157    61246947   \n",
       "8       0.203125           1  0.283058  0.716942   1825211886 -1145212941   \n",
       "9       0.297030           1  0.257384  0.742616   1861699898  1313311744   \n",
       "\n",
       "       label _session_id        _view_id  answer _merge  \n",
       "0  MONOLOGIC        None  classification  reject    NaN  \n",
       "1  MONOLOGIC        None  classification  reject    NaN  \n",
       "2  MONOLOGIC        None  classification  reject    NaN  \n",
       "3  MONOLOGIC        None  classification  reject    NaN  \n",
       "4  MONOLOGIC        None  classification  reject    NaN  \n",
       "5  MONOLOGIC        None  classification  reject    NaN  \n",
       "6  MONOLOGIC        None  classification  reject    NaN  \n",
       "7  MONOLOGIC        None  classification  reject    NaN  \n",
       "8  MONOLOGIC        None  classification  reject    NaN  \n",
       "9  MONOLOGIC        None  classification  reject    NaN  "
      ]
     },
     "execution_count": 3,
     "metadata": {},
     "output_type": "execute_result"
    }
   ],
   "source": [
    "annotations = []\n",
    "for line in open(file_name, 'r'):\n",
    "    annotations.append(json.loads(line))\n",
    "annotations_df = pd.DataFrame(annotations)\n",
    "print(annotations_df.shape)\n",
    "annotations_df.head(10)"
   ]
  },
  {
   "cell_type": "code",
   "execution_count": 4,
   "metadata": {},
   "outputs": [
    {
     "name": "stdout",
     "output_type": "stream",
     "text": [
      "reject    4419\n",
      "accept    1562\n",
      "ignore       1\n",
      "Name: answer, dtype: int64\n"
     ]
    }
   ],
   "source": [
    "annotations_df[\"label_num\"] = annotations_df[\"answer\"].map({'accept': 1, 'reject': 0, 'ignore': 0})\n",
    "print(annotations_df.answer.value_counts())"
   ]
  },
  {
   "cell_type": "code",
   "execution_count": 5,
   "metadata": {},
   "outputs": [
    {
     "name": "stdout",
     "output_type": "stream",
     "text": [
      "majority             3423\n",
      "dissenting           1528\n",
      "concurring            511\n",
      "second_dissenting     401\n",
      "per_curiam            119\n",
      "Name: categority, dtype: int64\n"
     ]
    }
   ],
   "source": [
    "print(annotations_df.categority.value_counts())"
   ]
  },
  {
   "cell_type": "code",
   "execution_count": 6,
   "metadata": {},
   "outputs": [
    {
     "data": {
      "text/plain": [
       "answer\n",
       "accept    0.774431\n",
       "ignore    0.679398\n",
       "reject    0.706140\n",
       "Name: prob_1, dtype: float64"
      ]
     },
     "execution_count": 6,
     "metadata": {},
     "output_type": "execute_result"
    }
   ],
   "source": [
    "grouped = annotations_df.groupby([\"answer\"])\n",
    "grouped.prob_1.mean()"
   ]
  },
  {
   "cell_type": "code",
   "execution_count": 92,
   "metadata": {},
   "outputs": [
    {
     "data": {
      "image/png": "[encoded data removed]",
      "text/plain": [
       "<Figure size 864x576 with 1 Axes>"
      ]
     },
     "metadata": {
      "needs_background": "light"
     },
     "output_type": "display_data"
    }
   ],
   "source": [
    "stop_words=frozenset(['the', 'be', 'to', 'of', 'and', 'a', 'in', 'that', 'have', 'it', 'for', 'not', 'on', 'with', 'as', 'do', 'at', 'this', 'but', 'by', 'from'])\n",
    "\n",
    "# Set up the vectorizer\n",
    "\n",
    "vectorizer = TfidfVectorizer(\n",
    "    encoding='utf-8',\n",
    "    min_df=2,\n",
    "    max_df=.90,\n",
    "    #stop_words=stop_words,\n",
    "    binary=False,\n",
    "    #tokenizer=nltk.word_tokenize,\n",
    "    norm='l2',\n",
    "    use_idf=False \n",
    ")\n",
    "\n",
    "vectorizer.fit(annotations_df.text)\n",
    "\n",
    "# Classification\n",
    "lr = LogisticRegression()\n",
    "x_values = []\n",
    "y_values = []\n",
    "scores_l = []\n",
    "\n",
    "sample_sizes = range(100, len(annotations_df.label_num), 100)\n",
    "\n",
    "for i in sample_sizes:\n",
    "    sample_df = annotations_df.sample(n=i)\n",
    "    y_opinions = sample_df[\"label_num\"]\n",
    "    X_opinions = vectorizer.transform(sample_df.text)\n",
    "    # Cross validation\n",
    "    scores = cross_validate(lr, X_opinions, y_opinions, cv=5, scoring=['accuracy', 'f1', 'f1_macro', 'f1_micro'])\n",
    "    scores_l.append(scores)\n",
    "    x = len(y_opinions)\n",
    "    x_values.append(x)\n",
    "    y = np.mean(scores.get(\"test_f1\"))\n",
    "    y_values.append(y)\n",
    "\n",
    "fig, ax = plt.subplots(figsize=(12,8))\n",
    "plt.plot(x_values, y_values);"
   ]
  },
  {
   "cell_type": "code",
   "execution_count": 93,
   "metadata": {},
   "outputs": [],
   "source": [
    "# Total documents\n",
    "y_opinions = annotations_df[\"label_num\"]\n",
    "X_opinions = vectorizer.fit_transform(annotations_df.text)"
   ]
  },
  {
   "cell_type": "code",
   "execution_count": 94,
   "metadata": {},
   "outputs": [
    {
     "data": {
      "text/plain": [
       "0.7388833166165162"
      ]
     },
     "execution_count": 94,
     "metadata": {},
     "output_type": "execute_result"
    }
   ],
   "source": [
    "import numpy as np\n",
    "from sklearn.dummy import DummyClassifier\n",
    "X = X_opinions\n",
    "y = y_opinions\n",
    "dummy_clf = DummyClassifier(strategy=\"most_frequent\")\n",
    "dummy_clf.fit(X, y)\n",
    "\n",
    "dummy_clf.predict(X)\n",
    "\n",
    "dummy_clf.score(X, y)"
   ]
  },
  {
   "cell_type": "code",
   "execution_count": 95,
   "metadata": {},
   "outputs": [
    {
     "name": "stdout",
     "output_type": "stream",
     "text": [
      "Baseline accuracy: 0.739\n",
      "Baseline F1: 0.414\n"
     ]
    }
   ],
   "source": [
    "# Baseline scores\n",
    "baseline_accuracy = sum(y_opinions)/len(y_opinions)\n",
    "baseline_precision = baseline_accuracy\n",
    "baseline_recall = 1.0\n",
    "baseline_f1 = 2*baseline_precision*baseline_recall/(baseline_precision+baseline_recall)\n",
    "print(\"Baseline accuracy:\", 1-round(baseline_accuracy, 3))\n",
    "print(\"Baseline F1:\", round(baseline_f1, 3))"
   ]
  },
  {
   "cell_type": "code",
   "execution_count": 109,
   "metadata": {},
   "outputs": [
    {
     "name": "stdout",
     "output_type": "stream",
     "text": [
      "0.6387277516761762\n",
      "0.850217377334082\n"
     ]
    }
   ],
   "source": [
    "lr = LogisticRegression()\n",
    "scores = cross_validate(lr, X_opinions, y_opinions, cv=5, scoring=['accuracy', 'f1', 'f1_macro', 'f1_micro'])\n",
    "print(np.mean(scores.get(\"test_f1\")))\n",
    "print(np.mean(scores.get(\"test_accuracy\")))"
   ]
  },
  {
   "cell_type": "code",
   "execution_count": 110,
   "metadata": {},
   "outputs": [],
   "source": [
    "X_train, X_test, y_train, y_test = train_test_split(X_opinions, y_opinions, test_size=0.30)"
   ]
  },
  {
   "cell_type": "code",
   "execution_count": 111,
   "metadata": {},
   "outputs": [
    {
     "data": {
      "text/plain": [
       "LogisticRegression()"
      ]
     },
     "execution_count": 111,
     "metadata": {},
     "output_type": "execute_result"
    }
   ],
   "source": [
    "lr.fit(X_train, y_train)"
   ]
  },
  {
   "cell_type": "code",
   "execution_count": 112,
   "metadata": {},
   "outputs": [],
   "source": [
    "y_predict = lr.predict(X_test)"
   ]
  },
  {
   "cell_type": "code",
   "execution_count": 113,
   "metadata": {},
   "outputs": [
    {
     "name": "stdout",
     "output_type": "stream",
     "text": [
      "              precision    recall  f1-score   support\n",
      "\n",
      "           0       0.83      0.97      0.90      1300\n",
      "           1       0.88      0.47      0.61       495\n",
      "\n",
      "    accuracy                           0.84      1795\n",
      "   macro avg       0.85      0.72      0.75      1795\n",
      "weighted avg       0.84      0.84      0.82      1795\n",
      "\n"
     ]
    }
   ],
   "source": [
    "print(classification_report(y_test, y_predict))"
   ]
  },
  {
   "cell_type": "code",
   "execution_count": 101,
   "metadata": {},
   "outputs": [],
   "source": [
    "from sklearn.metrics import precision_recall_fscore_support"
   ]
  },
  {
   "cell_type": "code",
   "execution_count": 102,
   "metadata": {},
   "outputs": [
    {
     "data": {
      "text/plain": [
       "(0.8476855366643131, 0.8385155466399198, 0.8188971715202581, None)"
      ]
     },
     "execution_count": 102,
     "metadata": {},
     "output_type": "execute_result"
    }
   ],
   "source": [
    "precision_recall_fscore_support(y_test, y_predict, average=\"weighted\")"
   ]
  },
  {
   "cell_type": "markdown",
   "metadata": {},
   "source": [
    "# Feature Importance"
   ]
  },
  {
   "cell_type": "code",
   "execution_count": 12,
   "metadata": {},
   "outputs": [
    {
     "data": {
      "text/plain": [
       "LogisticRegression()"
      ]
     },
     "execution_count": 12,
     "metadata": {},
     "output_type": "execute_result"
    }
   ],
   "source": [
    "# Fit the model\n",
    "lr.fit(X_opinions, y_opinions)"
   ]
  },
  {
   "cell_type": "code",
   "execution_count": 13,
   "metadata": {},
   "outputs": [
    {
     "name": "stdout",
     "output_type": "stream",
     "text": [
      "15.075645187678354\n",
      "11.665326306450908\n"
     ]
    }
   ],
   "source": [
    "# Coefficient importance\n",
    "coef_dict = {}\n",
    "for coef, feat in zip(lr.coef_[0],vectorizer.get_feature_names()):\n",
    "    coef_dict[feat] = coef\n",
    "\n",
    "print(coef_dict.get(\"we\"))\n",
    "print(coef_dict.get(\"i\"))"
   ]
  },
  {
   "cell_type": "code",
   "execution_count": 14,
   "metadata": {},
   "outputs": [
    {
     "data": {
      "text/html": [
       "<div>\n",
       "<style scoped>\n",
       "    .dataframe tbody tr th:only-of-type {\n",
       "        vertical-align: middle;\n",
       "    }\n",
       "\n",
       "    .dataframe tbody tr th {\n",
       "        vertical-align: top;\n",
       "    }\n",
       "\n",
       "    .dataframe thead th {\n",
       "        text-align: right;\n",
       "    }\n",
       "</style>\n",
       "<table border=\"1\" class=\"dataframe\">\n",
       "  <thead>\n",
       "    <tr style=\"text-align: right;\">\n",
       "      <th></th>\n",
       "      <th>0</th>\n",
       "      <th>feature</th>\n",
       "    </tr>\n",
       "  </thead>\n",
       "  <tbody>\n",
       "    <tr>\n",
       "      <th>we</th>\n",
       "      <td>15.075645</td>\n",
       "      <td>we</td>\n",
       "    </tr>\n",
       "    <tr>\n",
       "      <th>i</th>\n",
       "      <td>11.665326</td>\n",
       "      <td>i</td>\n",
       "    </tr>\n",
       "    <tr>\n",
       "      <th>our</th>\n",
       "      <td>7.724458</td>\n",
       "      <td>our</td>\n",
       "    </tr>\n",
       "    <tr>\n",
       "      <th>us</th>\n",
       "      <td>4.845297</td>\n",
       "      <td>us</td>\n",
       "    </tr>\n",
       "    <tr>\n",
       "      <th>my</th>\n",
       "      <td>4.609844</td>\n",
       "      <td>my</td>\n",
       "    </tr>\n",
       "    <tr>\n",
       "      <th>me</th>\n",
       "      <td>3.912168</td>\n",
       "      <td>me</td>\n",
       "    </tr>\n",
       "    <tr>\n",
       "      <th>court</th>\n",
       "      <td>3.496801</td>\n",
       "      <td>court</td>\n",
       "    </tr>\n",
       "    <tr>\n",
       "      <th>majority</th>\n",
       "      <td>1.853874</td>\n",
       "      <td>majority</td>\n",
       "    </tr>\n",
       "    <tr>\n",
       "      <th>conclude</th>\n",
       "      <td>1.640598</td>\n",
       "      <td>conclude</td>\n",
       "    </tr>\n",
       "    <tr>\n",
       "      <th>view</th>\n",
       "      <td>1.587438</td>\n",
       "      <td>view</td>\n",
       "    </tr>\n",
       "    <tr>\n",
       "      <th>agree</th>\n",
       "      <td>1.443699</td>\n",
       "      <td>agree</td>\n",
       "    </tr>\n",
       "    <tr>\n",
       "      <th>interests</th>\n",
       "      <td>1.384362</td>\n",
       "      <td>interests</td>\n",
       "    </tr>\n",
       "    <tr>\n",
       "      <th>recognized</th>\n",
       "      <td>1.330469</td>\n",
       "      <td>recognized</td>\n",
       "    </tr>\n",
       "    <tr>\n",
       "      <th>reading</th>\n",
       "      <td>1.220572</td>\n",
       "      <td>reading</td>\n",
       "    </tr>\n",
       "    <tr>\n",
       "      <th>these</th>\n",
       "      <td>1.179537</td>\n",
       "      <td>these</td>\n",
       "    </tr>\n",
       "    <tr>\n",
       "      <th>seems</th>\n",
       "      <td>1.157964</td>\n",
       "      <td>seems</td>\n",
       "    </tr>\n",
       "    <tr>\n",
       "      <th>held</th>\n",
       "      <td>1.140786</td>\n",
       "      <td>held</td>\n",
       "    </tr>\n",
       "    <tr>\n",
       "      <th>think</th>\n",
       "      <td>1.140566</td>\n",
       "      <td>think</td>\n",
       "    </tr>\n",
       "    <tr>\n",
       "      <th>decisions</th>\n",
       "      <td>1.111001</td>\n",
       "      <td>decisions</td>\n",
       "    </tr>\n",
       "    <tr>\n",
       "      <th>record</th>\n",
       "      <td>1.083244</td>\n",
       "      <td>record</td>\n",
       "    </tr>\n",
       "  </tbody>\n",
       "</table>\n",
       "</div>"
      ],
      "text/plain": [
       "                    0     feature\n",
       "we          15.075645          we\n",
       "i           11.665326           i\n",
       "our          7.724458         our\n",
       "us           4.845297          us\n",
       "my           4.609844          my\n",
       "me           3.912168          me\n",
       "court        3.496801       court\n",
       "majority     1.853874    majority\n",
       "conclude     1.640598    conclude\n",
       "view         1.587438        view\n",
       "agree        1.443699       agree\n",
       "interests    1.384362   interests\n",
       "recognized   1.330469  recognized\n",
       "reading      1.220572     reading\n",
       "these        1.179537       these\n",
       "seems        1.157964       seems\n",
       "held         1.140786        held\n",
       "think        1.140566       think\n",
       "decisions    1.111001   decisions\n",
       "record       1.083244      record"
      ]
     },
     "execution_count": 14,
     "metadata": {},
     "output_type": "execute_result"
    }
   ],
   "source": [
    "top_feat_dict = {k:v for (k,v) in coef_dict.items() if v > 1}\n",
    "dict_df = pd.DataFrame.from_dict(top_feat_dict, orient='index')\n",
    "dict_df['feature'] = dict_df.index\n",
    "dict_df.sort_values(by=[0], ascending=False).head(20)"
   ]
  },
  {
   "cell_type": "code",
   "execution_count": 15,
   "metadata": {},
   "outputs": [
    {
     "data": {
      "image/png": "[encoded data removed]",
      "text/plain": [
       "<Figure size 864x576 with 1 Axes>"
      ]
     },
     "metadata": {
      "needs_background": "light"
     },
     "output_type": "display_data"
    }
   ],
   "source": [
    "# Plot\n",
    "import seaborn as sns\n",
    "fig, ax = plt.subplots(figsize=(12,8))\n",
    "ax = sns.barplot(x=0, y=\"feature\", data=dict_df)"
   ]
  },
  {
   "cell_type": "markdown",
   "metadata": {},
   "source": [
    "## Permutation Importance\n",
    "**NOTE**: This permutation dictionary was created with the previous vectorizer settings (use-idf == True and no stopwords); permutation will be run again once other issues are fixed"
   ]
  },
  {
   "cell_type": "code",
   "execution_count": 16,
   "metadata": {},
   "outputs": [
    {
     "data": {
      "text/html": [
       "<div>\n",
       "<style scoped>\n",
       "    .dataframe tbody tr th:only-of-type {\n",
       "        vertical-align: middle;\n",
       "    }\n",
       "\n",
       "    .dataframe tbody tr th {\n",
       "        vertical-align: top;\n",
       "    }\n",
       "\n",
       "    .dataframe thead th {\n",
       "        text-align: right;\n",
       "    }\n",
       "</style>\n",
       "<table border=\"1\" class=\"dataframe\">\n",
       "  <thead>\n",
       "    <tr style=\"text-align: right;\">\n",
       "      <th></th>\n",
       "      <th>0</th>\n",
       "      <th>feature</th>\n",
       "    </tr>\n",
       "  </thead>\n",
       "  <tbody>\n",
       "    <tr>\n",
       "      <th>we</th>\n",
       "      <td>0.109580</td>\n",
       "      <td>we</td>\n",
       "    </tr>\n",
       "    <tr>\n",
       "      <th>our</th>\n",
       "      <td>0.009330</td>\n",
       "      <td>our</td>\n",
       "    </tr>\n",
       "    <tr>\n",
       "      <th>my</th>\n",
       "      <td>0.004702</td>\n",
       "      <td>my</td>\n",
       "    </tr>\n",
       "    <tr>\n",
       "      <th>dissent</th>\n",
       "      <td>0.003727</td>\n",
       "      <td>dissent</td>\n",
       "    </tr>\n",
       "    <tr>\n",
       "      <th>court</th>\n",
       "      <td>0.002476</td>\n",
       "      <td>court</td>\n",
       "    </tr>\n",
       "    <tr>\n",
       "      <th>me</th>\n",
       "      <td>0.001801</td>\n",
       "      <td>me</td>\n",
       "    </tr>\n",
       "    <tr>\n",
       "      <th>think</th>\n",
       "      <td>0.001651</td>\n",
       "      <td>think</td>\n",
       "    </tr>\n",
       "    <tr>\n",
       "      <th>respectfully</th>\n",
       "      <td>0.001576</td>\n",
       "      <td>respectfully</td>\n",
       "    </tr>\n",
       "    <tr>\n",
       "      <th>conclude</th>\n",
       "      <td>0.001501</td>\n",
       "      <td>conclude</td>\n",
       "    </tr>\n",
       "    <tr>\n",
       "      <th>agree</th>\n",
       "      <td>0.001376</td>\n",
       "      <td>agree</td>\n",
       "    </tr>\n",
       "    <tr>\n",
       "      <th>hold</th>\n",
       "      <td>0.000875</td>\n",
       "      <td>hold</td>\n",
       "    </tr>\n",
       "    <tr>\n",
       "      <th>has</th>\n",
       "      <td>0.000875</td>\n",
       "      <td>has</td>\n",
       "    </tr>\n",
       "    <tr>\n",
       "      <th>here</th>\n",
       "      <td>0.000800</td>\n",
       "      <td>here</td>\n",
       "    </tr>\n",
       "    <tr>\n",
       "      <th>conclusion</th>\n",
       "      <td>0.000800</td>\n",
       "      <td>conclusion</td>\n",
       "    </tr>\n",
       "    <tr>\n",
       "      <th>question</th>\n",
       "      <td>0.000800</td>\n",
       "      <td>question</td>\n",
       "    </tr>\n",
       "    <tr>\n",
       "      <th>may</th>\n",
       "      <td>0.000775</td>\n",
       "      <td>may</td>\n",
       "    </tr>\n",
       "    <tr>\n",
       "      <th>opinion</th>\n",
       "      <td>0.000750</td>\n",
       "      <td>opinion</td>\n",
       "    </tr>\n",
       "    <tr>\n",
       "      <th>amendment</th>\n",
       "      <td>0.000750</td>\n",
       "      <td>amendment</td>\n",
       "    </tr>\n",
       "    <tr>\n",
       "      <th>its</th>\n",
       "      <td>0.000700</td>\n",
       "      <td>its</td>\n",
       "    </tr>\n",
       "    <tr>\n",
       "      <th>understand</th>\n",
       "      <td>0.000675</td>\n",
       "      <td>understand</td>\n",
       "    </tr>\n",
       "  </tbody>\n",
       "</table>\n",
       "</div>"
      ],
      "text/plain": [
       "                     0       feature\n",
       "we            0.109580            we\n",
       "our           0.009330           our\n",
       "my            0.004702            my\n",
       "dissent       0.003727       dissent\n",
       "court         0.002476         court\n",
       "me            0.001801            me\n",
       "think         0.001651         think\n",
       "respectfully  0.001576  respectfully\n",
       "conclude      0.001501      conclude\n",
       "agree         0.001376         agree\n",
       "hold          0.000875          hold\n",
       "has           0.000875           has\n",
       "here          0.000800          here\n",
       "conclusion    0.000800    conclusion\n",
       "question      0.000800      question\n",
       "may           0.000775           may\n",
       "opinion       0.000750       opinion\n",
       "amendment     0.000750     amendment\n",
       "its           0.000700           its\n",
       "understand    0.000675    understand"
      ]
     },
     "execution_count": 16,
     "metadata": {},
     "output_type": "execute_result"
    }
   ],
   "source": [
    "import pickle\n",
    "# Load permutation dictionary\n",
    "perm_dict = pickle.load(open(\"Data/mon_perm_dict.p\", \"rb\" ))\n",
    "perm_dict_df = pd.DataFrame.from_dict(perm_dict, orient='index')\n",
    "perm_dict_df['feature'] = perm_dict_df.index\n",
    "smaller_perm_df = perm_dict_df.sort_values(by=[0], ascending=False).head(20)\n",
    "perm_dict_df.sort_values(by=[0], ascending=False).head(20)"
   ]
  },
  {
   "cell_type": "code",
   "execution_count": 17,
   "metadata": {},
   "outputs": [
    {
     "data": {
      "image/png": "[encoded data removed]",
      "text/plain": [
       "<Figure size 864x576 with 1 Axes>"
      ]
     },
     "metadata": {
      "needs_background": "light"
     },
     "output_type": "display_data"
    }
   ],
   "source": [
    "fig, ax = plt.subplots(figsize=(12,8))\n",
    "ax = sns.barplot(x=0, y=\"feature\", data=smaller_perm_df)"
   ]
  },
  {
   "cell_type": "markdown",
   "metadata": {},
   "source": [
    "# Probability and Errors"
   ]
  },
  {
   "cell_type": "code",
   "execution_count": 18,
   "metadata": {},
   "outputs": [],
   "source": [
    "probability_scores = lr.predict_proba(X_opinions)[:,1]\n",
    "# Still need to show which sentences are highest probability of 1"
   ]
  },
  {
   "cell_type": "code",
   "execution_count": 19,
   "metadata": {},
   "outputs": [
    {
     "data": {
      "text/html": [
       "<div>\n",
       "<style scoped>\n",
       "    .dataframe tbody tr th:only-of-type {\n",
       "        vertical-align: middle;\n",
       "    }\n",
       "\n",
       "    .dataframe tbody tr th {\n",
       "        vertical-align: top;\n",
       "    }\n",
       "\n",
       "    .dataframe thead th {\n",
       "        text-align: right;\n",
       "    }\n",
       "</style>\n",
       "<table border=\"1\" class=\"dataframe\">\n",
       "  <thead>\n",
       "    <tr style=\"text-align: right;\">\n",
       "      <th></th>\n",
       "      <th>gold</th>\n",
       "      <th>computed</th>\n",
       "      <th>text</th>\n",
       "    </tr>\n",
       "  </thead>\n",
       "  <tbody>\n",
       "    <tr>\n",
       "      <th>5630</th>\n",
       "      <td>0</td>\n",
       "      <td>1</td>\n",
       "      <td>It may be that the relevant data base is too small to permit any meaningful statistical analysis, but we leave the Court of Appeals to decide in the first instance, on the basis of the record and the principles announced today, whether this case can be resolved without further proceedings in the District Court.</td>\n",
       "    </tr>\n",
       "    <tr>\n",
       "      <th>3091</th>\n",
       "      <td>0</td>\n",
       "      <td>1</td>\n",
       "      <td>We agree with the Rouseys that IRAs are similar to the plans specified in the statute.</td>\n",
       "    </tr>\n",
       "    <tr>\n",
       "      <th>4359</th>\n",
       "      <td>1</td>\n",
       "      <td>0</td>\n",
       "      <td>Indeed, this Court observed in Wissner:\\n\"Possession of government insurance, payable to the relative of his choice, might well directly enhance the morale of the serviceman.</td>\n",
       "    </tr>\n",
       "    <tr>\n",
       "      <th>2182</th>\n",
       "      <td>1</td>\n",
       "      <td>0</td>\n",
       "      <td>The Court's finding is grounded on the assumption that the collective-bargaining agreement somehow entitles the employer to rely on the union to bring any wrongful discharge to its attention within the context of the grievance machinery.</td>\n",
       "    </tr>\n",
       "    <tr>\n",
       "      <th>1962</th>\n",
       "      <td>1</td>\n",
       "      <td>0</td>\n",
       "      <td>If these contentions are correct, it is unnecessary, of course, to reach any of the issues concerning remedies that so occupied the attention of the Court of Appeals.</td>\n",
       "    </tr>\n",
       "    <tr>\n",
       "      <th>323</th>\n",
       "      <td>1</td>\n",
       "      <td>0</td>\n",
       "      <td>* * *\\nWhile some might complain that our system of dual sovereignty is not a model of administrative convenience, see, e. g., post, at 785-786 (Breyer, J., dissenting), that is not its purpose.</td>\n",
       "    </tr>\n",
       "    <tr>\n",
       "      <th>3666</th>\n",
       "      <td>0</td>\n",
       "      <td>1</td>\n",
       "      <td>Many other federal statutes preempt state law in this\\nway, leaving the context-specific scope of preemption to\\n\\n——————\\n 3 Because the statute alone resolves this dispute, we need not consider\\n\\nwhether Chevron deference attaches to OPM’s 2015 rule.</td>\n",
       "    </tr>\n",
       "    <tr>\n",
       "      <th>498</th>\n",
       "      <td>0</td>\n",
       "      <td>1</td>\n",
       "      <td>Our appointed Special Master agreed, recommending that we find that Colorado had unlawfully depleted the river in violation of Art.</td>\n",
       "    </tr>\n",
       "    <tr>\n",
       "      <th>760</th>\n",
       "      <td>1</td>\n",
       "      <td>0</td>\n",
       "      <td>I would hold that 'inland waters' should be measured in Louisiana, and in any other State with similar coastal characteristics, by the standard urged by Louisiana—the Coast Guard line established years ago, under the authority of an 1895 Act of Congress, to mark off the boundaries of the States' 'inland waters.'</td>\n",
       "    </tr>\n",
       "    <tr>\n",
       "      <th>4244</th>\n",
       "      <td>1</td>\n",
       "      <td>0</td>\n",
       "      <td>II\\nThe basic question before us is whether there has been a \"continuing failure or neglect to obey\" an FTC order within the meaning of 15 U.S. C. §§ 21 (l) and 45 (l).</td>\n",
       "    </tr>\n",
       "  </tbody>\n",
       "</table>\n",
       "</div>"
      ],
      "text/plain": [
       "      gold  computed  \\\n",
       "5630     0         1   \n",
       "3091     0         1   \n",
       "4359     1         0   \n",
       "2182     1         0   \n",
       "1962     1         0   \n",
       "323      1         0   \n",
       "3666     0         1   \n",
       "498      0         1   \n",
       "760      1         0   \n",
       "4244     1         0   \n",
       "\n",
       "                                                                                                                                                                                                                                                                                                                           text  \n",
       "5630   It may be that the relevant data base is too small to permit any meaningful statistical analysis, but we leave the Court of Appeals to decide in the first instance, on the basis of the record and the principles announced today, whether this case can be resolved without further proceedings in the District Court.  \n",
       "3091                                                                                                                                                                                                                                     We agree with the Rouseys that IRAs are similar to the plans specified in the statute.  \n",
       "4359                                                                                                                                             Indeed, this Court observed in Wissner:\\n\"Possession of government insurance, payable to the relative of his choice, might well directly enhance the morale of the serviceman.  \n",
       "2182                                                                              The Court's finding is grounded on the assumption that the collective-bargaining agreement somehow entitles the employer to rely on the union to bring any wrongful discharge to its attention within the context of the grievance machinery.  \n",
       "1962                                                                                                                                                     If these contentions are correct, it is unnecessary, of course, to reach any of the issues concerning remedies that so occupied the attention of the Court of Appeals.  \n",
       "323                                                                                                                          * * *\\nWhile some might complain that our system of dual sovereignty is not a model of administrative convenience, see, e. g., post, at 785-786 (Breyer, J., dissenting), that is not its purpose.  \n",
       "3666                                                              Many other federal statutes preempt state law in this\\nway, leaving the context-specific scope of preemption to\\n\\n——————\\n 3 Because the statute alone resolves this dispute, we need not consider\\n\\nwhether Chevron deference attaches to OPM’s 2015 rule.  \n",
       "498                                                                                                                                                                                         Our appointed Special Master agreed, recommending that we find that Colorado had unlawfully depleted the river in violation of Art.  \n",
       "760   I would hold that 'inland waters' should be measured in Louisiana, and in any other State with similar coastal characteristics, by the standard urged by Louisiana—the Coast Guard line established years ago, under the authority of an 1895 Act of Congress, to mark off the boundaries of the States' 'inland waters.'  \n",
       "4244                                                                                                                                                   II\\nThe basic question before us is whether there has been a \"continuing failure or neglect to obey\" an FTC order within the meaning of 15 U.S. C. §§ 21 (l) and 45 (l).  "
      ]
     },
     "metadata": {},
     "output_type": "display_data"
    }
   ],
   "source": [
    "y_best = lr.predict(X_opinions)\n",
    "# Need to add cross validation\n",
    "def pull_errors(labels, gold_labels, corpus, n=3):\n",
    "    labeled_opinions = pd.DataFrame(\n",
    "        {\n",
    "            'gold':gold_labels,\n",
    "            'computed': labels,\n",
    "            'text':corpus\n",
    "        }\n",
    "    )\n",
    "    errors = labeled_opinions.loc[labeled_opinions.gold != labeled_opinions.computed]\n",
    "    with pd.option_context('display.max_colwidth', None):\n",
    "        display(errors.sample(n))\n",
    "\n",
    "pull_errors(y_best, y_opinions, annotations_df.text, n=10)"
   ]
  },
  {
   "cell_type": "markdown",
   "metadata": {},
   "source": [
    "Some of the errors look like Court/court errors (or general confusion over which court is referenced), but others also look like sentences I was on the fence about/mislabeled. Additionally, there might be issues with poor tokenization (like \"\\n\\n----\\n\") which actually says nothing about the content of the sentence. "
   ]
  },
  {
   "cell_type": "code",
   "execution_count": 20,
   "metadata": {},
   "outputs": [
    {
     "data": {
      "text/plain": [
       "<matplotlib.axes._subplots.AxesSubplot at 0x7fb890fe4670>"
      ]
     },
     "execution_count": 20,
     "metadata": {},
     "output_type": "execute_result"
    },
    {
     "data": {
      "image/png": "[encoded data removed]",
      "text/plain": [
       "<Figure size 432x288 with 2 Axes>"
      ]
     },
     "metadata": {
      "needs_background": "light"
     },
     "output_type": "display_data"
    }
   ],
   "source": [
    "# Confusion Matrix\n",
    "confusion_m = metrics.confusion_matrix(y_opinions, y_best)\n",
    "sns.heatmap(confusion_m, annot=True);"
   ]
  },
  {
   "cell_type": "markdown",
   "metadata": {},
   "source": [
    "***\n",
    "# Monologic Voice in Dissent"
   ]
  },
  {
   "cell_type": "code",
   "execution_count": 21,
   "metadata": {},
   "outputs": [],
   "source": [
    "file_name = \"Annotations/monologic_annotations.json\"\n",
    "annotations = []\n",
    "for line in open(file_name, 'r'):\n",
    "    annotations.append(json.loads(line))\n",
    "annotations_df = pd.DataFrame(annotations)\n",
    "annotations_df[\"label_num\"] = annotations_df[\"answer\"].map({'accept': 1, 'reject': 0, 'ignore': 0})\n",
    "dissenting_df = annotations_df[annotations_df.categority == \"dissenting\"]"
   ]
  },
  {
   "cell_type": "code",
   "execution_count": 22,
   "metadata": {},
   "outputs": [
    {
     "name": "stdout",
     "output_type": "stream",
     "text": [
      "Sentence distribution:\n",
      "reject    1075\n",
      "accept     452\n",
      "ignore       1\n",
      "Name: answer, dtype: int64\n",
      "Number of each category:\n",
      "dissenting    1528\n",
      "Name: categority, dtype: int64\n"
     ]
    }
   ],
   "source": [
    "print(\"Sentence distribution:\")\n",
    "print(dissenting_df.answer.value_counts())\n",
    "print(\"Number of each category:\")\n",
    "print(dissenting_df.categority.value_counts())"
   ]
  },
  {
   "cell_type": "code",
   "execution_count": 23,
   "metadata": {},
   "outputs": [
    {
     "name": "stderr",
     "output_type": "stream",
     "text": [
      "/Users/rosamondthalken/opt/anaconda3/lib/python3.8/site-packages/sklearn/feature_extraction/text.py:484: UserWarning: The parameter 'token_pattern' will not be used since 'tokenizer' is not None'\n",
      "  warnings.warn(\"The parameter 'token_pattern' will not be used\"\n"
     ]
    },
    {
     "data": {
      "image/png": "[encoded data removed]",
      "text/plain": [
       "<Figure size 864x576 with 1 Axes>"
      ]
     },
     "metadata": {
      "needs_background": "light"
     },
     "output_type": "display_data"
    }
   ],
   "source": [
    "sample_sizes = range(100, len(dissenting_df.label_num), 25)\n",
    "\n",
    "stop_words=frozenset(['the', 'be', 'to', 'of', 'and', 'a', 'in', 'that', 'have', 'it', 'for', 'not', 'on', 'with', 'as', 'do', 'at', 'this', 'but', 'by', 'from'])\n",
    "\n",
    "diss_vectorizer = TfidfVectorizer(\n",
    "    encoding='utf-8',\n",
    "    min_df=2, \n",
    "    stop_words=stop_words,\n",
    "    binary=False,\n",
    "    tokenizer=nltk.word_tokenize,\n",
    "    norm='l2',\n",
    "    use_idf=False \n",
    ")\n",
    "\n",
    "diss_vectorizer.fit(dissenting_df.text)\n",
    "\n",
    "# Classification\n",
    "lr = LogisticRegression()\n",
    "x_values = []\n",
    "y_values = []\n",
    "scores_l = []\n",
    "\n",
    "for i in sample_sizes:\n",
    "    sample_df = dissenting_df.sample(n=i)\n",
    "    y_opinions = sample_df[\"label_num\"]\n",
    "    X_opinions = diss_vectorizer.transform(sample_df.text)\n",
    "    # Cross validation\n",
    "    scores = cross_validate(lr, X_opinions, y_opinions, cv=5, scoring=['accuracy', 'f1', 'f1_macro', 'f1_micro'])\n",
    "    scores_l.append(scores)\n",
    "    x = len(y_opinions)\n",
    "    x_values.append(x)\n",
    "    y = np.mean(scores.get(\"test_f1\"))\n",
    "    y_values.append(y)\n",
    "    \n",
    "fig, ax = plt.subplots(figsize=(12,8))\n",
    "plt.plot(x_values, y_values);"
   ]
  },
  {
   "cell_type": "code",
   "execution_count": 24,
   "metadata": {},
   "outputs": [
    {
     "name": "stdout",
     "output_type": "stream",
     "text": [
      "Baseline accuracy: 0.296\n",
      "Baseline F1: 0.457\n"
     ]
    }
   ],
   "source": [
    "y_opinions = dissenting_df[\"label_num\"]\n",
    "X_opinions = diss_vectorizer.fit_transform(dissenting_df.text)\n",
    "# Baseline scores\n",
    "baseline_accuracy = sum(y_opinions)/len(y_opinions)\n",
    "baseline_precision = baseline_accuracy\n",
    "baseline_recall = 1.0\n",
    "baseline_f1 = 2*baseline_precision*baseline_recall/(baseline_precision+baseline_recall)\n",
    "print(\"Baseline accuracy:\", round(baseline_accuracy, 3))\n",
    "print(\"Baseline F1:\", round(baseline_f1, 3))"
   ]
  },
  {
   "cell_type": "code",
   "execution_count": 25,
   "metadata": {},
   "outputs": [
    {
     "name": "stdout",
     "output_type": "stream",
     "text": [
      "0.5718238229441023\n",
      "0.81739847851709\n"
     ]
    }
   ],
   "source": [
    "lr = LogisticRegression()\n",
    "scores = cross_validate(lr, X_opinions, y_opinions, cv=5, scoring=['accuracy', 'f1', 'f1_macro', 'f1_micro'])\n",
    "print(np.mean(scores.get(\"test_f1\")))\n",
    "print(np.mean(scores.get(\"test_accuracy\")))"
   ]
  },
  {
   "cell_type": "code",
   "execution_count": 26,
   "metadata": {},
   "outputs": [
    {
     "name": "stdout",
     "output_type": "stream",
     "text": [
      "6.441116521566521\n",
      "8.017568601189414\n"
     ]
    }
   ],
   "source": [
    "# Coefficient importance\n",
    "# Fit the model\n",
    "lr.fit(X_opinions, y_opinions)\n",
    "coef_dict = {}\n",
    "for coef, feat in zip(lr.coef_[0],diss_vectorizer.get_feature_names()):\n",
    "    coef_dict[feat] = coef\n",
    "\n",
    "print(coef_dict.get(\"we\"))\n",
    "print(coef_dict.get(\"i\"))"
   ]
  },
  {
   "cell_type": "code",
   "execution_count": 32,
   "metadata": {},
   "outputs": [
    {
     "data": {
      "text/html": [
       "<div>\n",
       "<style scoped>\n",
       "    .dataframe tbody tr th:only-of-type {\n",
       "        vertical-align: middle;\n",
       "    }\n",
       "\n",
       "    .dataframe tbody tr th {\n",
       "        vertical-align: top;\n",
       "    }\n",
       "\n",
       "    .dataframe thead th {\n",
       "        text-align: right;\n",
       "    }\n",
       "</style>\n",
       "<table border=\"1\" class=\"dataframe\">\n",
       "  <thead>\n",
       "    <tr style=\"text-align: right;\">\n",
       "      <th></th>\n",
       "      <th>0</th>\n",
       "      <th>feature</th>\n",
       "    </tr>\n",
       "  </thead>\n",
       "  <tbody>\n",
       "    <tr>\n",
       "      <th>i</th>\n",
       "      <td>8.017569</td>\n",
       "      <td>i</td>\n",
       "    </tr>\n",
       "    <tr>\n",
       "      <th>we</th>\n",
       "      <td>6.441117</td>\n",
       "      <td>we</td>\n",
       "    </tr>\n",
       "    <tr>\n",
       "      <th>our</th>\n",
       "      <td>4.050388</td>\n",
       "      <td>our</td>\n",
       "    </tr>\n",
       "    <tr>\n",
       "      <th>court</th>\n",
       "      <td>2.710589</td>\n",
       "      <td>court</td>\n",
       "    </tr>\n",
       "    <tr>\n",
       "      <th>my</th>\n",
       "      <td>2.681668</td>\n",
       "      <td>my</td>\n",
       "    </tr>\n",
       "    <tr>\n",
       "      <th>me</th>\n",
       "      <td>2.005612</td>\n",
       "      <td>me</td>\n",
       "    </tr>\n",
       "    <tr>\n",
       "      <th>us</th>\n",
       "      <td>1.558349</td>\n",
       "      <td>us</td>\n",
       "    </tr>\n",
       "    <tr>\n",
       "      <th>'s</th>\n",
       "      <td>1.135451</td>\n",
       "      <td>'s</td>\n",
       "    </tr>\n",
       "    <tr>\n",
       "      <th>view</th>\n",
       "      <td>1.082889</td>\n",
       "      <td>view</td>\n",
       "    </tr>\n",
       "    <tr>\n",
       "      <th>majority</th>\n",
       "      <td>1.045687</td>\n",
       "      <td>majority</td>\n",
       "    </tr>\n",
       "    <tr>\n",
       "      <th>why</th>\n",
       "      <td>0.940690</td>\n",
       "      <td>why</td>\n",
       "    </tr>\n",
       "    <tr>\n",
       "      <th>agree</th>\n",
       "      <td>0.910653</td>\n",
       "      <td>agree</td>\n",
       "    </tr>\n",
       "    <tr>\n",
       "      <th>should</th>\n",
       "      <td>0.907393</td>\n",
       "      <td>should</td>\n",
       "    </tr>\n",
       "  </tbody>\n",
       "</table>\n",
       "</div>"
      ],
      "text/plain": [
       "                 0   feature\n",
       "i         8.017569         i\n",
       "we        6.441117        we\n",
       "our       4.050388       our\n",
       "court     2.710589     court\n",
       "my        2.681668        my\n",
       "me        2.005612        me\n",
       "us        1.558349        us\n",
       "'s        1.135451        's\n",
       "view      1.082889      view\n",
       "majority  1.045687  majority\n",
       "why       0.940690       why\n",
       "agree     0.910653     agree\n",
       "should    0.907393    should"
      ]
     },
     "execution_count": 32,
     "metadata": {},
     "output_type": "execute_result"
    }
   ],
   "source": [
    "# reduced to just top features--for dissent might need to change 1\n",
    "top_feat_dict = {k:v for (k,v) in coef_dict.items() if v > .8}\n",
    "keys = top_feat_dict.keys()\n",
    "values = top_feat_dict.values()\n",
    "\n",
    "dict_df = pd.DataFrame.from_dict(top_feat_dict, orient='index')\n",
    "dict_df['feature'] = dict_df.index\n",
    "dict_df.sort_values(by=[0], ascending=False).head(20)"
   ]
  },
  {
   "cell_type": "code",
   "execution_count": 33,
   "metadata": {},
   "outputs": [
    {
     "data": {
      "image/png": "[encoded data removed]",
      "text/plain": [
       "<Figure size 864x576 with 1 Axes>"
      ]
     },
     "metadata": {
      "needs_background": "light"
     },
     "output_type": "display_data"
    }
   ],
   "source": [
    "# Plot\n",
    "fig, ax = plt.subplots(figsize=(12,8))\n",
    "ax = sns.barplot(x=0, y=\"feature\", data=dict_df)"
   ]
  },
  {
   "cell_type": "code",
   "execution_count": 34,
   "metadata": {
    "scrolled": true
   },
   "outputs": [
    {
     "data": {
      "text/html": [
       "<div>\n",
       "<style scoped>\n",
       "    .dataframe tbody tr th:only-of-type {\n",
       "        vertical-align: middle;\n",
       "    }\n",
       "\n",
       "    .dataframe tbody tr th {\n",
       "        vertical-align: top;\n",
       "    }\n",
       "\n",
       "    .dataframe thead th {\n",
       "        text-align: right;\n",
       "    }\n",
       "</style>\n",
       "<table border=\"1\" class=\"dataframe\">\n",
       "  <thead>\n",
       "    <tr style=\"text-align: right;\">\n",
       "      <th></th>\n",
       "      <th>gold</th>\n",
       "      <th>computed</th>\n",
       "      <th>text</th>\n",
       "    </tr>\n",
       "  </thead>\n",
       "  <tbody>\n",
       "    <tr>\n",
       "      <th>2533</th>\n",
       "      <td>1</td>\n",
       "      <td>0</td>\n",
       "      <td>In prior cases the Court has been careful to distinguish between these two issues.</td>\n",
       "    </tr>\n",
       "    <tr>\n",
       "      <th>2729</th>\n",
       "      <td>1</td>\n",
       "      <td>0</td>\n",
       "      <td>Its theory, as I have described, is that a juror who will always impose the death penalty for capital murder is one who \"will fail in good faith to consider the evidence of aggravating and mitigating circumstances as the instructions require him to do, \" ante,  at 729 (emphasis added).</td>\n",
       "    </tr>\n",
       "    <tr>\n",
       "      <th>4363</th>\n",
       "      <td>1</td>\n",
       "      <td>0</td>\n",
       "      <td>In those circumstances, as the majority suggests,\\nthe agency may be able to support an expert’s testimony in\\nways other than by providing underlying data, such as by\\noffering a fulsome description of the data and methodology\\non which the expert relies.</td>\n",
       "    </tr>\n",
       "    <tr>\n",
       "      <th>3981</th>\n",
       "      <td>1</td>\n",
       "      <td>0</td>\n",
       "      <td>This Court long ago abandoned the tidal test in favor of the navigability test for defining federal admiralty jurisdiction, describing the ebb and flow test as \"purely artificial and arbitrary as well as unjust.\"</td>\n",
       "    </tr>\n",
       "    <tr>\n",
       "      <th>5934</th>\n",
       "      <td>1</td>\n",
       "      <td>0</td>\n",
       "      <td>This is what happens when the Court departs from the text of a nationwide statute to reach a result in one particular State.</td>\n",
       "    </tr>\n",
       "    <tr>\n",
       "      <th>1305</th>\n",
       "      <td>1</td>\n",
       "      <td>0</td>\n",
       "      <td>This does not seem to me to be the way to undertake Fourth Amendment analysis, especially in an area with which the Court is relatively unfamiliar.</td>\n",
       "    </tr>\n",
       "    <tr>\n",
       "      <th>3602</th>\n",
       "      <td>1</td>\n",
       "      <td>0</td>\n",
       "      <td>We have only authorized exemptions from the Sherman Act for businesses regulated by federal law when \"that exemption was necessary in order to make the regulatory Act work `and even then only to the minimum extent necessary.'</td>\n",
       "    </tr>\n",
       "    <tr>\n",
       "      <th>3389</th>\n",
       "      <td>1</td>\n",
       "      <td>0</td>\n",
       "      <td>Indeed, the rewriting here is so complete that, no matter how deeply one admires and venerates \"pre-Code law,\" it is impossible to interpret § 506(d) in a manner that entirely preserves it and the Court itself, for all its protestation of fealty, does not do so.</td>\n",
       "    </tr>\n",
       "    <tr>\n",
       "      <th>3170</th>\n",
       "      <td>1</td>\n",
       "      <td>0</td>\n",
       "      <td>In my own State since its foundation the right has been conceded.\"</td>\n",
       "    </tr>\n",
       "    <tr>\n",
       "      <th>3623</th>\n",
       "      <td>1</td>\n",
       "      <td>0</td>\n",
       "      <td>Are we to assume that the stevedore agreed to an unlimited liability for indemnity without regard to the comparative or qualitative proportions of negligence as between its employees and the employees of the shipowner?</td>\n",
       "    </tr>\n",
       "  </tbody>\n",
       "</table>\n",
       "</div>"
      ],
      "text/plain": [
       "      gold  computed  \\\n",
       "2533     1         0   \n",
       "2729     1         0   \n",
       "4363     1         0   \n",
       "3981     1         0   \n",
       "5934     1         0   \n",
       "1305     1         0   \n",
       "3602     1         0   \n",
       "3389     1         0   \n",
       "3170     1         0   \n",
       "3623     1         0   \n",
       "\n",
       "                                                                                                                                                                                                                                                                                                text  \n",
       "2533                                                                                                                                                                                                              In prior cases the Court has been careful to distinguish between these two issues.  \n",
       "2729  Its theory, as I have described, is that a juror who will always impose the death penalty for capital murder is one who \"will fail in good faith to consider the evidence of aggravating and mitigating circumstances as the instructions require him to do, \" ante,  at 729 (emphasis added).  \n",
       "4363                                In those circumstances, as the majority suggests,\\nthe agency may be able to support an expert’s testimony in\\nways other than by providing underlying data, such as by\\noffering a fulsome description of the data and methodology\\non which the expert relies.  \n",
       "3981                                                                            This Court long ago abandoned the tidal test in favor of the navigability test for defining federal admiralty jurisdiction, describing the ebb and flow test as \"purely artificial and arbitrary as well as unjust.\"  \n",
       "5934                                                                                                                                                                    This is what happens when the Court departs from the text of a nationwide statute to reach a result in one particular State.  \n",
       "1305                                                                                                                                             This does not seem to me to be the way to undertake Fourth Amendment analysis, especially in an area with which the Court is relatively unfamiliar.  \n",
       "3602                                                               We have only authorized exemptions from the Sherman Act for businesses regulated by federal law when \"that exemption was necessary in order to make the regulatory Act work `and even then only to the minimum extent necessary.'  \n",
       "3389                         Indeed, the rewriting here is so complete that, no matter how deeply one admires and venerates \"pre-Code law,\" it is impossible to interpret § 506(d) in a manner that entirely preserves it and the Court itself, for all its protestation of fealty, does not do so.  \n",
       "3170                                                                                                                                                                                                                              In my own State since its foundation the right has been conceded.\"  \n",
       "3623                                                                      Are we to assume that the stevedore agreed to an unlimited liability for indemnity without regard to the comparative or qualitative proportions of negligence as between its employees and the employees of the shipowner?  "
      ]
     },
     "metadata": {},
     "output_type": "display_data"
    }
   ],
   "source": [
    "y_best = lr.predict(X_opinions)\n",
    "pull_errors(y_best, y_opinions, dissenting_df.text, n=10)"
   ]
  },
  {
   "cell_type": "markdown",
   "metadata": {},
   "source": [
    "***\n",
    "# Just Majority"
   ]
  },
  {
   "cell_type": "code",
   "execution_count": 35,
   "metadata": {},
   "outputs": [],
   "source": [
    "file_name = \"Annotations/monologic_annotations.json\"\n",
    "annotations = []\n",
    "for line in open(file_name, 'r'):\n",
    "    annotations.append(json.loads(line))\n",
    "annotations_df = pd.DataFrame(annotations)\n",
    "annotations_df[\"label_num\"] = annotations_df[\"answer\"].map({'accept': 1, 'reject': 0, 'ignore': 0})\n",
    "majority_df = annotations_df[annotations_df.categority == \"majority\"]"
   ]
  },
  {
   "cell_type": "code",
   "execution_count": 36,
   "metadata": {},
   "outputs": [
    {
     "name": "stderr",
     "output_type": "stream",
     "text": [
      "/Users/rosamondthalken/opt/anaconda3/lib/python3.8/site-packages/sklearn/feature_extraction/text.py:484: UserWarning: The parameter 'token_pattern' will not be used since 'tokenizer' is not None'\n",
      "  warnings.warn(\"The parameter 'token_pattern' will not be used\"\n"
     ]
    },
    {
     "data": {
      "image/png": "[encoded data removed]",
      "text/plain": [
       "<Figure size 864x576 with 1 Axes>"
      ]
     },
     "metadata": {
      "needs_background": "light"
     },
     "output_type": "display_data"
    }
   ],
   "source": [
    "sample_sizes = range(100, len(majority_df.label_num), 50)\n",
    "\n",
    "stop_words=frozenset(['the', 'be', 'to', 'of', 'and', 'a', 'in', 'that', 'have', 'it', 'for', 'not', 'on', 'with', 'as', 'do', 'at', 'this', 'but', 'by', 'from'])\n",
    "\n",
    "maj_vectorizer = TfidfVectorizer(\n",
    "    encoding='utf-8',\n",
    "    min_df=2, \n",
    "    stop_words=stop_words,\n",
    "    binary=False,\n",
    "    tokenizer=nltk.word_tokenize,\n",
    "    norm='l2',\n",
    "    use_idf=False \n",
    ")\n",
    "\n",
    "maj_vectorizer.fit(majority_df.text)\n",
    "\n",
    "# Classification\n",
    "lr = LogisticRegression()\n",
    "x_values = []\n",
    "y_values = []\n",
    "scores_l = []\n",
    "\n",
    "for i in sample_sizes:\n",
    "    sample_df = majority_df.sample(n=i)\n",
    "    y_opinions = sample_df[\"label_num\"]\n",
    "    X_opinions = maj_vectorizer.transform(sample_df.text)\n",
    "    # Cross validation\n",
    "    scores = cross_validate(lr, X_opinions, y_opinions, cv=5, scoring=['accuracy', 'f1', 'f1_macro', 'f1_micro'])\n",
    "    scores_l.append(scores)\n",
    "    x = len(y_opinions)\n",
    "    x_values.append(x)\n",
    "    y = np.mean(scores.get(\"test_f1\"))\n",
    "    y_values.append(y)\n",
    "    \n",
    "fig, ax = plt.subplots(figsize=(12,8))\n",
    "plt.plot(x_values, y_values);"
   ]
  },
  {
   "cell_type": "code",
   "execution_count": 37,
   "metadata": {},
   "outputs": [
    {
     "name": "stdout",
     "output_type": "stream",
     "text": [
      "Baseline accuracy: 0.232\n",
      "Baseline F1: 0.377\n"
     ]
    }
   ],
   "source": [
    "y_opinions = majority_df[\"label_num\"]\n",
    "X_opinions = maj_vectorizer.fit_transform(majority_df.text)\n",
    "# Baseline scores\n",
    "baseline_accuracy = sum(y_opinions)/len(y_opinions)\n",
    "baseline_precision = baseline_accuracy\n",
    "baseline_recall = 1.0\n",
    "baseline_f1 = 2*baseline_precision*baseline_recall/(baseline_precision+baseline_recall)\n",
    "print(\"Baseline accuracy:\", round(baseline_accuracy, 3))\n",
    "print(\"Baseline F1:\", round(baseline_f1, 3))"
   ]
  },
  {
   "cell_type": "code",
   "execution_count": 15,
   "metadata": {},
   "outputs": [
    {
     "name": "stdout",
     "output_type": "stream",
     "text": [
      "0.7434840390822242\n",
      "0.885491320273929\n"
     ]
    },
    {
     "ename": "TypeError",
     "evalue": "unsupported operand type(s) for /: 'NoneType' and 'int'",
     "output_type": "error",
     "traceback": [
      "\u001b[0;31m---------------------------------------------------------------------------\u001b[0m",
      "\u001b[0;31mTypeError\u001b[0m                                 Traceback (most recent call last)",
      "\u001b[0;32m<ipython-input-15-ffb6f1e77454>\u001b[0m in \u001b[0;36m<module>\u001b[0;34m\u001b[0m\n\u001b[1;32m      3\u001b[0m \u001b[0mprint\u001b[0m\u001b[0;34m(\u001b[0m\u001b[0mnp\u001b[0m\u001b[0;34m.\u001b[0m\u001b[0mmean\u001b[0m\u001b[0;34m(\u001b[0m\u001b[0mscores\u001b[0m\u001b[0;34m.\u001b[0m\u001b[0mget\u001b[0m\u001b[0;34m(\u001b[0m\u001b[0;34m\"test_f1\"\u001b[0m\u001b[0;34m)\u001b[0m\u001b[0;34m)\u001b[0m\u001b[0;34m)\u001b[0m\u001b[0;34m\u001b[0m\u001b[0;34m\u001b[0m\u001b[0m\n\u001b[1;32m      4\u001b[0m \u001b[0mprint\u001b[0m\u001b[0;34m(\u001b[0m\u001b[0mnp\u001b[0m\u001b[0;34m.\u001b[0m\u001b[0mmean\u001b[0m\u001b[0;34m(\u001b[0m\u001b[0mscores\u001b[0m\u001b[0;34m.\u001b[0m\u001b[0mget\u001b[0m\u001b[0;34m(\u001b[0m\u001b[0;34m\"test_accuracy\"\u001b[0m\u001b[0;34m)\u001b[0m\u001b[0;34m)\u001b[0m\u001b[0;34m)\u001b[0m\u001b[0;34m\u001b[0m\u001b[0;34m\u001b[0m\u001b[0m\n\u001b[0;32m----> 5\u001b[0;31m \u001b[0mprint\u001b[0m\u001b[0;34m(\u001b[0m\u001b[0mnp\u001b[0m\u001b[0;34m.\u001b[0m\u001b[0mmean\u001b[0m\u001b[0;34m(\u001b[0m\u001b[0mscores\u001b[0m\u001b[0;34m.\u001b[0m\u001b[0mget\u001b[0m\u001b[0;34m(\u001b[0m\u001b[0;34m\"test_recall\"\u001b[0m\u001b[0;34m)\u001b[0m\u001b[0;34m)\u001b[0m\u001b[0;34m)\u001b[0m\u001b[0;34m\u001b[0m\u001b[0;34m\u001b[0m\u001b[0m\n\u001b[0m\u001b[1;32m      6\u001b[0m \u001b[0;31m# Note: before changing tokenization this f1 was 75; after change it's almost 73\u001b[0m\u001b[0;34m\u001b[0m\u001b[0;34m\u001b[0m\u001b[0;34m\u001b[0m\u001b[0m\n",
      "\u001b[0;32m<__array_function__ internals>\u001b[0m in \u001b[0;36mmean\u001b[0;34m(*args, **kwargs)\u001b[0m\n",
      "\u001b[0;32m~/opt/anaconda3/lib/python3.8/site-packages/numpy/core/fromnumeric.py\u001b[0m in \u001b[0;36mmean\u001b[0;34m(a, axis, dtype, out, keepdims)\u001b[0m\n\u001b[1;32m   3332\u001b[0m             \u001b[0;32mreturn\u001b[0m \u001b[0mmean\u001b[0m\u001b[0;34m(\u001b[0m\u001b[0maxis\u001b[0m\u001b[0;34m=\u001b[0m\u001b[0maxis\u001b[0m\u001b[0;34m,\u001b[0m \u001b[0mdtype\u001b[0m\u001b[0;34m=\u001b[0m\u001b[0mdtype\u001b[0m\u001b[0;34m,\u001b[0m \u001b[0mout\u001b[0m\u001b[0;34m=\u001b[0m\u001b[0mout\u001b[0m\u001b[0;34m,\u001b[0m \u001b[0;34m**\u001b[0m\u001b[0mkwargs\u001b[0m\u001b[0;34m)\u001b[0m\u001b[0;34m\u001b[0m\u001b[0;34m\u001b[0m\u001b[0m\n\u001b[1;32m   3333\u001b[0m \u001b[0;34m\u001b[0m\u001b[0m\n\u001b[0;32m-> 3334\u001b[0;31m     return _methods._mean(a, axis=axis, dtype=dtype,\n\u001b[0m\u001b[1;32m   3335\u001b[0m                           out=out, **kwargs)\n\u001b[1;32m   3336\u001b[0m \u001b[0;34m\u001b[0m\u001b[0m\n",
      "\u001b[0;32m~/opt/anaconda3/lib/python3.8/site-packages/numpy/core/_methods.py\u001b[0m in \u001b[0;36m_mean\u001b[0;34m(a, axis, dtype, out, keepdims)\u001b[0m\n\u001b[1;32m    161\u001b[0m             \u001b[0mret\u001b[0m \u001b[0;34m=\u001b[0m \u001b[0mret\u001b[0m\u001b[0;34m.\u001b[0m\u001b[0mdtype\u001b[0m\u001b[0;34m.\u001b[0m\u001b[0mtype\u001b[0m\u001b[0;34m(\u001b[0m\u001b[0mret\u001b[0m \u001b[0;34m/\u001b[0m \u001b[0mrcount\u001b[0m\u001b[0;34m)\u001b[0m\u001b[0;34m\u001b[0m\u001b[0;34m\u001b[0m\u001b[0m\n\u001b[1;32m    162\u001b[0m     \u001b[0;32melse\u001b[0m\u001b[0;34m:\u001b[0m\u001b[0;34m\u001b[0m\u001b[0;34m\u001b[0m\u001b[0m\n\u001b[0;32m--> 163\u001b[0;31m         \u001b[0mret\u001b[0m \u001b[0;34m=\u001b[0m \u001b[0mret\u001b[0m \u001b[0;34m/\u001b[0m \u001b[0mrcount\u001b[0m\u001b[0;34m\u001b[0m\u001b[0;34m\u001b[0m\u001b[0m\n\u001b[0m\u001b[1;32m    164\u001b[0m \u001b[0;34m\u001b[0m\u001b[0m\n\u001b[1;32m    165\u001b[0m     \u001b[0;32mreturn\u001b[0m \u001b[0mret\u001b[0m\u001b[0;34m\u001b[0m\u001b[0;34m\u001b[0m\u001b[0m\n",
      "\u001b[0;31mTypeError\u001b[0m: unsupported operand type(s) for /: 'NoneType' and 'int'"
     ]
    }
   ],
   "source": [
    "lr = LogisticRegression()\n",
    "scores = cross_validate(lr, X_opinions, y_opinions, cv=5, scoring=['accuracy', 'f1', 'f1_macro', 'f1_micro'])\n",
    "print(np.mean(scores.get(\"test_f1\")))\n",
    "print(np.mean(scores.get(\"test_accuracy\")))\n",
    "#print(np.mean(scores.get(\"test_recall\")))\n",
    "# Note: before changing tokenization this f1 was 75; after change it's almost 73"
   ]
  },
  {
   "cell_type": "code",
   "execution_count": 41,
   "metadata": {},
   "outputs": [],
   "source": [
    "# Coefficient importance\n",
    "# Fit the model\n",
    "lr.fit(X_opinions, y_opinions)\n",
    "coef_dict = {}\n",
    "for coef, feat in zip(lr.coef_[0],maj_vectorizer.get_feature_names()):\n",
    "    coef_dict[feat] = coef"
   ]
  },
  {
   "cell_type": "code",
   "execution_count": 42,
   "metadata": {},
   "outputs": [
    {
     "data": {
      "text/html": [
       "<div>\n",
       "<style scoped>\n",
       "    .dataframe tbody tr th:only-of-type {\n",
       "        vertical-align: middle;\n",
       "    }\n",
       "\n",
       "    .dataframe tbody tr th {\n",
       "        vertical-align: top;\n",
       "    }\n",
       "\n",
       "    .dataframe thead th {\n",
       "        text-align: right;\n",
       "    }\n",
       "</style>\n",
       "<table border=\"1\" class=\"dataframe\">\n",
       "  <thead>\n",
       "    <tr style=\"text-align: right;\">\n",
       "      <th></th>\n",
       "      <th>0</th>\n",
       "      <th>feature</th>\n",
       "    </tr>\n",
       "  </thead>\n",
       "  <tbody>\n",
       "    <tr>\n",
       "      <th>we</th>\n",
       "      <td>14.642205</td>\n",
       "      <td>we</td>\n",
       "    </tr>\n",
       "    <tr>\n",
       "      <th>our</th>\n",
       "      <td>6.839304</td>\n",
       "      <td>our</td>\n",
       "    </tr>\n",
       "    <tr>\n",
       "      <th>i</th>\n",
       "      <td>4.843197</td>\n",
       "      <td>i</td>\n",
       "    </tr>\n",
       "    <tr>\n",
       "      <th>us</th>\n",
       "      <td>3.638326</td>\n",
       "      <td>us</td>\n",
       "    </tr>\n",
       "    <tr>\n",
       "      <th>court</th>\n",
       "      <td>2.115043</td>\n",
       "      <td>court</td>\n",
       "    </tr>\n",
       "    <tr>\n",
       "      <th>question</th>\n",
       "      <td>1.387661</td>\n",
       "      <td>question</td>\n",
       "    </tr>\n",
       "    <tr>\n",
       "      <th>conclude</th>\n",
       "      <td>1.380724</td>\n",
       "      <td>conclude</td>\n",
       "    </tr>\n",
       "    <tr>\n",
       "      <th>held</th>\n",
       "      <td>1.249881</td>\n",
       "      <td>held</td>\n",
       "    </tr>\n",
       "    <tr>\n",
       "      <th>hold</th>\n",
       "      <td>1.108396</td>\n",
       "      <td>hold</td>\n",
       "    </tr>\n",
       "    <tr>\n",
       "      <th>cases</th>\n",
       "      <td>1.029668</td>\n",
       "      <td>cases</td>\n",
       "    </tr>\n",
       "    <tr>\n",
       "      <th>whether</th>\n",
       "      <td>1.000814</td>\n",
       "      <td>whether</td>\n",
       "    </tr>\n",
       "    <tr>\n",
       "      <th>recognized</th>\n",
       "      <td>0.883146</td>\n",
       "      <td>recognized</td>\n",
       "    </tr>\n",
       "    <tr>\n",
       "      <th>contention</th>\n",
       "      <td>0.853257</td>\n",
       "      <td>contention</td>\n",
       "    </tr>\n",
       "    <tr>\n",
       "      <th>me</th>\n",
       "      <td>0.827435</td>\n",
       "      <td>me</td>\n",
       "    </tr>\n",
       "    <tr>\n",
       "      <th>interests</th>\n",
       "      <td>0.811369</td>\n",
       "      <td>interests</td>\n",
       "    </tr>\n",
       "  </tbody>\n",
       "</table>\n",
       "</div>"
      ],
      "text/plain": [
       "                    0     feature\n",
       "we          14.642205          we\n",
       "our          6.839304         our\n",
       "i            4.843197           i\n",
       "us           3.638326          us\n",
       "court        2.115043       court\n",
       "question     1.387661    question\n",
       "conclude     1.380724    conclude\n",
       "held         1.249881        held\n",
       "hold         1.108396        hold\n",
       "cases        1.029668       cases\n",
       "whether      1.000814     whether\n",
       "recognized   0.883146  recognized\n",
       "contention   0.853257  contention\n",
       "me           0.827435          me\n",
       "interests    0.811369   interests"
      ]
     },
     "execution_count": 42,
     "metadata": {},
     "output_type": "execute_result"
    }
   ],
   "source": [
    "top_feat_dict = {k:v for (k,v) in coef_dict.items() if v > .8}\n",
    "keys = top_feat_dict.keys()\n",
    "values = top_feat_dict.values()\n",
    "\n",
    "dict_df = pd.DataFrame.from_dict(top_feat_dict, orient='index')\n",
    "dict_df['feature'] = dict_df.index\n",
    "dict_df.sort_values(by=[0], ascending=False).head(20)"
   ]
  },
  {
   "cell_type": "code",
   "execution_count": 43,
   "metadata": {},
   "outputs": [
    {
     "data": {
      "image/png": "[encoded data removed]",
      "text/plain": [
       "<Figure size 864x576 with 1 Axes>"
      ]
     },
     "metadata": {
      "needs_background": "light"
     },
     "output_type": "display_data"
    }
   ],
   "source": [
    "fig, ax = plt.subplots(figsize=(12,8))\n",
    "ax = sns.barplot(x=0, y=\"feature\", data=dict_df)"
   ]
  },
  {
   "cell_type": "code",
   "execution_count": 44,
   "metadata": {},
   "outputs": [
    {
     "data": {
      "text/html": [
       "<div>\n",
       "<style scoped>\n",
       "    .dataframe tbody tr th:only-of-type {\n",
       "        vertical-align: middle;\n",
       "    }\n",
       "\n",
       "    .dataframe tbody tr th {\n",
       "        vertical-align: top;\n",
       "    }\n",
       "\n",
       "    .dataframe thead th {\n",
       "        text-align: right;\n",
       "    }\n",
       "</style>\n",
       "<table border=\"1\" class=\"dataframe\">\n",
       "  <thead>\n",
       "    <tr style=\"text-align: right;\">\n",
       "      <th></th>\n",
       "      <th>gold</th>\n",
       "      <th>computed</th>\n",
       "      <th>text</th>\n",
       "    </tr>\n",
       "  </thead>\n",
       "  <tbody>\n",
       "    <tr>\n",
       "      <th>5921</th>\n",
       "      <td>1</td>\n",
       "      <td>0</td>\n",
       "      <td>Their father is dead; they live with me.</td>\n",
       "    </tr>\n",
       "    <tr>\n",
       "      <th>844</th>\n",
       "      <td>1</td>\n",
       "      <td>0</td>\n",
       "      <td>II\\nWe think that appellees' showing of numerical deviations from population equality among the Senate and *741 House districts in this case failed to make out a prima facie violation of the Equal Protection Clause of the Fourteenth Amendment, whether those deviations are considered alone or in combination with the additional fact that another plan could be conceived with lower deviations among the State's legislative districts.</td>\n",
       "    </tr>\n",
       "    <tr>\n",
       "      <th>2655</th>\n",
       "      <td>1</td>\n",
       "      <td>0</td>\n",
       "      <td>The various doctrines of \"standing,\"[5]*504 \"ripeness,\"[6] and \"mootness,\"[7] which this Court has evolved with particular, though not exclusive, reference to such cases are but several manifestationseach having its own \"varied application\"[8]of the primary conception that federal judicial power is to be exercised to strike down legislation, whether state or federal, only at the instance of one who is himself immediately harmed, or immediately threatened with harm, by the challenged action.</td>\n",
       "    </tr>\n",
       "    <tr>\n",
       "      <th>3641</th>\n",
       "      <td>1</td>\n",
       "      <td>0</td>\n",
       "      <td>[4]\\n\\nIII\\nThe Court does not reach the question whether a union may be held liable under Title VII for \"mere passivity\" in the face of discrimination by the employer, because it agrees with the courts below that the record shows more than mere passivity on the part of the Unions.</td>\n",
       "    </tr>\n",
       "    <tr>\n",
       "      <th>5330</th>\n",
       "      <td>1</td>\n",
       "      <td>0</td>\n",
       "      <td>The MCA does not purport to be a formal suspension of the writ; and the Government, in its submissions to us, has not argued that it is.</td>\n",
       "    </tr>\n",
       "    <tr>\n",
       "      <th>4185</th>\n",
       "      <td>0</td>\n",
       "      <td>1</td>\n",
       "      <td>It is in light of this legislative silence that we must determine whether § 4B is tolled by Commission proceedings.</td>\n",
       "    </tr>\n",
       "    <tr>\n",
       "      <th>1897</th>\n",
       "      <td>1</td>\n",
       "      <td>0</td>\n",
       "      <td>At this time it is necessary only to avoid imposing, from the level of this Court, arbitrary limitations on the exercise of this traditional discretion specifically explicated in § 706 (g).</td>\n",
       "    </tr>\n",
       "    <tr>\n",
       "      <th>4277</th>\n",
       "      <td>1</td>\n",
       "      <td>0</td>\n",
       "      <td>In this case, our inquiry under Agostini's purpose and effect test is a narrow one.</td>\n",
       "    </tr>\n",
       "    <tr>\n",
       "      <th>5194</th>\n",
       "      <td>1</td>\n",
       "      <td>0</td>\n",
       "      <td>The treaty language at issue in each of the four cases is\\nsimilar, though not identical, to the language before us.</td>\n",
       "    </tr>\n",
       "    <tr>\n",
       "      <th>2587</th>\n",
       "      <td>1</td>\n",
       "      <td>0</td>\n",
       "      <td>In United States v. Calandra, 414 U. S., at 348, we said that the exclusionary rule \"is a judicially created remedy designed to safeguard Fourth Amendment rights generally through its deterrent effect, rather than a personal constitutional right of the party aggrieved.\"</td>\n",
       "    </tr>\n",
       "  </tbody>\n",
       "</table>\n",
       "</div>"
      ],
      "text/plain": [
       "      gold  computed  \\\n",
       "5921     1         0   \n",
       "844      1         0   \n",
       "2655     1         0   \n",
       "3641     1         0   \n",
       "5330     1         0   \n",
       "4185     0         1   \n",
       "1897     1         0   \n",
       "4277     1         0   \n",
       "5194     1         0   \n",
       "2587     1         0   \n",
       "\n",
       "                                                                                                                                                                                                                                                                                                                                                                                                                                                                                                                   text  \n",
       "5921                                                                                                                                                                                                                                                                                                                                                                                                                                                                           Their father is dead; they live with me.  \n",
       "844                                                                    II\\nWe think that appellees' showing of numerical deviations from population equality among the Senate and *741 House districts in this case failed to make out a prima facie violation of the Equal Protection Clause of the Fourteenth Amendment, whether those deviations are considered alone or in combination with the additional fact that another plan could be conceived with lower deviations among the State's legislative districts.  \n",
       "2655  The various doctrines of \"standing,\"[5]*504 \"ripeness,\"[6] and \"mootness,\"[7] which this Court has evolved with particular, though not exclusive, reference to such cases are but several manifestationseach having its own \"varied application\"[8]of the primary conception that federal judicial power is to be exercised to strike down legislation, whether state or federal, only at the instance of one who is himself immediately harmed, or immediately threatened with harm, by the challenged action.  \n",
       "3641                                                                                                                                                                                                                         [4]\\n\\nIII\\nThe Court does not reach the question whether a union may be held liable under Title VII for \"mere passivity\" in the face of discrimination by the employer, because it agrees with the courts below that the record shows more than mere passivity on the part of the Unions.  \n",
       "5330                                                                                                                                                                                                                                                                                                                                                                           The MCA does not purport to be a formal suspension of the writ; and the Government, in its submissions to us, has not argued that it is.  \n",
       "4185                                                                                                                                                                                                                                                                                                                                                                                                It is in light of this legislative silence that we must determine whether § 4B is tolled by Commission proceedings.  \n",
       "1897                                                                                                                                                                                                                                                                                                                      At this time it is necessary only to avoid imposing, from the level of this Court, arbitrary limitations on the exercise of this traditional discretion specifically explicated in § 706 (g).  \n",
       "4277                                                                                                                                                                                                                                                                                                                                                                                                                                In this case, our inquiry under Agostini's purpose and effect test is a narrow one.  \n",
       "5194                                                                                                                                                                                                                                                                                                                                                                                               The treaty language at issue in each of the four cases is\\nsimilar, though not identical, to the language before us.  \n",
       "2587                                                                                                                                                                                                                                     In United States v. Calandra, 414 U. S., at 348, we said that the exclusionary rule \"is a judicially created remedy designed to safeguard Fourth Amendment rights generally through its deterrent effect, rather than a personal constitutional right of the party aggrieved.\"  "
      ]
     },
     "metadata": {},
     "output_type": "display_data"
    }
   ],
   "source": [
    "y_best = lr.predict(X_opinions)\n",
    "pull_errors(y_best, y_opinions, majority_df.text, n=10)"
   ]
  },
  {
   "cell_type": "code",
   "execution_count": null,
   "metadata": {},
   "outputs": [],
   "source": []
  }
 ],
 "metadata": {
  "kernelspec": {
   "display_name": "Python 3",
   "language": "python",
   "name": "python3"
  },
  "language_info": {
   "codemirror_mode": {
    "name": "ipython",
    "version": 3
   },
   "file_extension": ".py",
   "mimetype": "text/x-python",
   "name": "python",
   "nbconvert_exporter": "python",
   "pygments_lexer": "ipython3",
   "version": "3.8.3"
  }
 },
 "nbformat": 4,
 "nbformat_minor": 4
}
